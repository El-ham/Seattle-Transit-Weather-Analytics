{
 "cells": [
  {
   "cell_type": "markdown",
   "metadata": {
    "application/vnd.databricks.v1+cell": {
     "cellMetadata": {},
     "inputWidgets": {},
     "nuid": "4e99ede7-9cbc-4eec-834c-137e74205792",
     "showTitle": false,
     "tableResultSettingsMap": {},
     "title": ""
    }
   },
   "source": [
    "## Power BI Visualizations\n",
    "\n",
    "The Platinum fact table and three related dimension tables were accessed from the Unity Catalog in Databricks and imported into Power BI using a star schema (1-to-many relationships). Two visualizations previously created in Databricks dashboards were recreated in Power BI:\n",
    "\n",
    "1. **Daily Transit Activity and Average Temperature**  \n",
    "   A combined line and bar chart showing the relationship between vehicle counts and average daily temperature.\n",
    "\n",
    "2. **Most Common Weather Conditions**  \n",
    "   A donut chart displaying the distribution of recorded weather conditions, illustrating which conditions occur most frequently.\n",
    "\n",
    "Both visuals were captured in a single screenshot and are included in this repository. The `.pbix` file is stored in the Databricks `dashboards/powerbi` folder for reference and reproducibility.\n"
   ]
  }
 ],
 "metadata": {
  "application/vnd.databricks.v1+notebook": {
   "computePreferences": {
    "hardware": {
     "accelerator": null,
     "gpuPoolId": null,
     "memory": null
    }
   },
   "dashboards": [],
   "environmentMetadata": {
    "base_environment": "",
    "environment_version": "2"
   },
   "inputWidgetPreferences": null,
   "language": "python",
   "notebookMetadata": {
    "pythonIndentUnit": 4
   },
   "notebookName": "Read_Me",
   "widgets": {}
  },
  "language_info": {
   "name": "python"
  }
 },
 "nbformat": 4,
 "nbformat_minor": 0
}
