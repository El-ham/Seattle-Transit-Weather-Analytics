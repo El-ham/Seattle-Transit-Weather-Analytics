{
 "cells": [
  {
   "cell_type": "markdown",
   "metadata": {
    "application/vnd.databricks.v1+cell": {
     "cellMetadata": {
      "byteLimit": 2048000,
      "rowLimit": 10000
     },
     "inputWidgets": {},
     "nuid": "7d01b262-bedc-48c6-afef-7b342d8964a6",
     "showTitle": false,
     "tableResultSettingsMap": {},
     "title": ""
    }
   },
   "source": [
    "## Export_sample_data\n",
    "This notebook extracts small samples (10 rows) from three key Silver Delta tables—GTFS Static, GTFS Real-Time, and Weather—to be included in the project’s data/ folder on GitHub. These samples are useful for documentation, sharing, or local exploration without requiring full data access."
   ]
  },
  {
   "cell_type": "code",
   "execution_count": 0,
   "metadata": {
    "application/vnd.databricks.v1+cell": {
     "cellMetadata": {
      "byteLimit": 2048000,
      "rowLimit": 10000
     },
     "inputWidgets": {},
     "nuid": "ad2aa130-7be7-4648-bfa9-7bd5c6ccaf81",
     "showTitle": false,
     "tableResultSettingsMap": {},
     "title": ""
    }
   },
   "outputs": [],
   "source": [
    "# Number of rows to show\n",
    "sample_n = 10"
   ]
  },
  {
   "cell_type": "code",
   "execution_count": 0,
   "metadata": {
    "application/vnd.databricks.v1+cell": {
     "cellMetadata": {
      "byteLimit": 2048000,
      "rowLimit": 10000
     },
     "inputWidgets": {},
     "nuid": "599221b2-9012-4b72-8ccb-88ce42c4de8c",
     "showTitle": false,
     "tableResultSettingsMap": {},
     "title": ""
    }
   },
   "outputs": [],
   "source": [
    "# Static GTFS sample (routes)\n",
    "df_static_routes = spark.read.format(\"delta\").load(\"dbfs:/silver/gtfs_static/2025-05-21/routes\")\n",
    "df_static_routes.limit(sample_n).display()"
   ]
  },
  {
   "cell_type": "code",
   "execution_count": 0,
   "metadata": {
    "application/vnd.databricks.v1+cell": {
     "cellMetadata": {
      "byteLimit": 2048000,
      "rowLimit": 10000
     },
     "inputWidgets": {},
     "nuid": "ca1516b1-ec37-421d-b5fd-7295bef29092",
     "showTitle": false,
     "tableResultSettingsMap": {},
     "title": ""
    }
   },
   "outputs": [],
   "source": [
    "# Static GTFS sample (trips)\n",
    "df_static_trips = spark.read.format(\"delta\").load(\"dbfs:/silver/gtfs_static/2025-05-21/trips\")\n",
    "df_static_trips.limit(sample_n).display()"
   ]
  },
  {
   "cell_type": "code",
   "execution_count": 0,
   "metadata": {
    "application/vnd.databricks.v1+cell": {
     "cellMetadata": {
      "byteLimit": 2048000,
      "rowLimit": 10000
     },
     "inputWidgets": {},
     "nuid": "d8ee863b-1673-42f5-bff8-5629f15f33dd",
     "showTitle": false,
     "tableResultSettingsMap": {},
     "title": ""
    }
   },
   "outputs": [],
   "source": [
    "# Static GTFS sample (stops)\n",
    "df_static_stops = spark.read.format(\"delta\").load(\"dbfs:/silver/gtfs_static/2025-05-21/stops\")\n",
    "df_static_stops.limit(sample_n).display()"
   ]
  },
  {
   "cell_type": "code",
   "execution_count": 0,
   "metadata": {
    "application/vnd.databricks.v1+cell": {
     "cellMetadata": {
      "byteLimit": 2048000,
      "rowLimit": 10000
     },
     "inputWidgets": {},
     "nuid": "d3fc00e2-2159-4426-9c30-b29ae1d84be1",
     "showTitle": false,
     "tableResultSettingsMap": {},
     "title": ""
    }
   },
   "outputs": [],
   "source": [
    "# Real-Time GTFS sample (bronze)\n",
    "df_rt_bronze = spark.read.format(\"delta\").load(\"dbfs:/bronze/gtfs_rt\")\n",
    "df_rt_bronze.limit(sample_n).display()"
   ]
  },
  {
   "cell_type": "code",
   "execution_count": 0,
   "metadata": {
    "application/vnd.databricks.v1+cell": {
     "cellMetadata": {
      "byteLimit": 2048000,
      "rowLimit": 10000
     },
     "inputWidgets": {},
     "nuid": "df949a82-203e-44c0-9098-f42d503d0cb0",
     "showTitle": false,
     "tableResultSettingsMap": {},
     "title": ""
    }
   },
   "outputs": [],
   "source": [
    "# Real-Time GTFS sample (silver)\n",
    "df_rt_silver = spark.read.format(\"delta\").load(\"dbfs:/silver/gtfs_rt\")\n",
    "df_rt_silver.limit(sample_n).display()\n"
   ]
  },
  {
   "cell_type": "code",
   "execution_count": 0,
   "metadata": {
    "application/vnd.databricks.v1+cell": {
     "cellMetadata": {
      "byteLimit": 2048000,
      "rowLimit": 10000
     },
     "inputWidgets": {},
     "nuid": "a816c3ca-e9c8-41b1-845a-b4a283668bf1",
     "showTitle": false,
     "tableResultSettingsMap": {},
     "title": ""
    }
   },
   "outputs": [],
   "source": [
    "# Real-Time GTFS sample (gold)\n",
    "df_rt_enriched = spark.read.format(\"delta\").load(\"dbfs:/gold/gtfs_rt_enriched\")\n",
    "df_rt_enriched.limit(sample_n).display()"
   ]
  },
  {
   "cell_type": "code",
   "execution_count": 0,
   "metadata": {
    "application/vnd.databricks.v1+cell": {
     "cellMetadata": {
      "byteLimit": 2048000,
      "rowLimit": 10000
     },
     "inputWidgets": {},
     "nuid": "ed2e61cd-d26c-4a52-a7a0-c4e0496b3834",
     "showTitle": false,
     "tableResultSettingsMap": {},
     "title": ""
    }
   },
   "outputs": [],
   "source": [
    "# Weather sample (bronze)\n",
    "df_weather_bronze = spark.read.format(\"delta\").load(\"dbfs:/bronze/weather\")\n",
    "df_weather_bronze.limit(sample_n).display()"
   ]
  },
  {
   "cell_type": "code",
   "execution_count": 0,
   "metadata": {
    "application/vnd.databricks.v1+cell": {
     "cellMetadata": {
      "byteLimit": 2048000,
      "rowLimit": 10000
     },
     "inputWidgets": {},
     "nuid": "7888aa3b-6ecc-4b74-b094-d29eaa8de66f",
     "showTitle": false,
     "tableResultSettingsMap": {},
     "title": ""
    }
   },
   "outputs": [],
   "source": [
    "# Weather sample (silver)\n",
    "df_weather_silver = spark.read.format(\"delta\").load(\"dbfs:/silver/weather\")\n",
    "df_weather_silver.limit(sample_n).display()"
   ]
  },
  {
   "cell_type": "code",
   "execution_count": 0,
   "metadata": {
    "application/vnd.databricks.v1+cell": {
     "cellMetadata": {
      "byteLimit": 2048000,
      "rowLimit": 10000
     },
     "inputWidgets": {},
     "nuid": "65185348-9537-4113-8a91-e080c1c410d1",
     "showTitle": false,
     "tableResultSettingsMap": {},
     "title": ""
    }
   },
   "outputs": [],
   "source": [
    "# Weather sample (gold)\n",
    "df_weather_joined = spark.read.format(\"delta\").load(\"dbfs:/gold/gtfs_rt_weather_joined\")\n",
    "df_weather_joined.limit(sample_n).display()"
   ]
  },
  {
   "cell_type": "code",
   "execution_count": 0,
   "metadata": {
    "application/vnd.databricks.v1+cell": {
     "cellMetadata": {
      "byteLimit": 2048000,
      "rowLimit": 10000
     },
     "inputWidgets": {},
     "nuid": "ddc8eb2a-a640-4f41-bd4d-b95828ab5cd9",
     "showTitle": false,
     "tableResultSettingsMap": {},
     "title": ""
    }
   },
   "outputs": [],
   "source": []
  }
 ],
 "metadata": {
  "application/vnd.databricks.v1+notebook": {
   "computePreferences": null,
   "dashboards": [],
   "environmentMetadata": {
    "base_environment": "",
    "environment_version": "2"
   },
   "inputWidgetPreferences": null,
   "language": "python",
   "notebookMetadata": {
    "pythonIndentUnit": 4
   },
   "notebookName": "98_export_sample_data",
   "widgets": {}
  },
  "language_info": {
   "name": "python"
  }
 },
 "nbformat": 4,
 "nbformat_minor": 0
}
