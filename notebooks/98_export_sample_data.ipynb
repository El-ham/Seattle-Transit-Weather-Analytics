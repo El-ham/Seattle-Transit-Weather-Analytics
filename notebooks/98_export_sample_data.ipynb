{
 "cells": [
  {
   "cell_type": "markdown",
   "metadata": {
    "application/vnd.databricks.v1+cell": {
     "cellMetadata": {},
     "inputWidgets": {},
     "nuid": "7d01b262-bedc-48c6-afef-7b342d8964a6",
     "showTitle": false,
     "tableResultSettingsMap": {},
     "title": ""
    }
   },
   "source": [
    "## Export_sample_data\n",
    "This notebook extracts small samples (10 rows) from three key Silver Delta tables—GTFS Static, GTFS Real-Time, and Weather—to be included in the project’s data/ folder on GitHub. These samples are useful for documentation, sharing, or local exploration without requiring full data access."
   ]
  },
  {
   "cell_type": "code",
   "execution_count": 0,
   "metadata": {
    "application/vnd.databricks.v1+cell": {
     "cellMetadata": {
      "byteLimit": 2048000,
      "rowLimit": 10000
     },
     "inputWidgets": {},
     "nuid": "d8ee863b-1673-42f5-bff8-5629f15f33dd",
     "showTitle": false,
     "tableResultSettingsMap": {},
     "title": ""
    }
   },
   "outputs": [],
   "source": [
    "# Static GTFS sample (stops)\n",
    "df_static = spark.read.format(\"delta\").load(\"dbfs:/silver/gtfs_static/2025-05-21/stops\")\n",
    "df_static.limit(sample_n).display()"
   ]
  },
  {
   "cell_type": "code",
   "execution_count": 0,
   "metadata": {
    "application/vnd.databricks.v1+cell": {
     "cellMetadata": {
      "byteLimit": 2048000,
      "rowLimit": 10000
     },
     "inputWidgets": {},
     "nuid": "df949a82-203e-44c0-9098-f42d503d0cb0",
     "showTitle": false,
     "tableResultSettingsMap": {},
     "title": ""
    }
   },
   "outputs": [],
   "source": [
    "# Real-Time GTFS sample\n",
    "df_rt = spark.read.format(\"delta\").load(\"dbfs:/silver/gtfs_rt\")\n",
    "df_rt.limit(sample_n).display()\n"
   ]
  },
  {
   "cell_type": "code",
   "execution_count": 0,
   "metadata": {
    "application/vnd.databricks.v1+cell": {
     "cellMetadata": {
      "byteLimit": 2048000,
      "rowLimit": 10000
     },
     "inputWidgets": {},
     "nuid": "7888aa3b-6ecc-4b74-b094-d29eaa8de66f",
     "showTitle": false,
     "tableResultSettingsMap": {},
     "title": ""
    }
   },
   "outputs": [],
   "source": [
    "# Weather sample\n",
    "df_weather = spark.read.format(\"delta\").load(\"dbfs:/silver/weather\")\n",
    "df_weather.limit(sample_n).display()"
   ]
  },
  {
   "cell_type": "code",
   "execution_count": 0,
   "metadata": {
    "application/vnd.databricks.v1+cell": {
     "cellMetadata": {},
     "inputWidgets": {},
     "nuid": "ddc8eb2a-a640-4f41-bd4d-b95828ab5cd9",
     "showTitle": false,
     "tableResultSettingsMap": {},
     "title": ""
    }
   },
   "outputs": [],
   "source": []
  }
 ],
 "metadata": {
  "application/vnd.databricks.v1+notebook": {
   "computePreferences": null,
   "dashboards": [],
   "environmentMetadata": {
    "base_environment": "",
    "environment_version": "2"
   },
   "inputWidgetPreferences": null,
   "language": "python",
   "notebookMetadata": {
    "pythonIndentUnit": 4
   },
   "notebookName": "98_export_sample_data",
   "widgets": {}
  },
  "language_info": {
   "name": "python"
  }
 },
 "nbformat": 4,
 "nbformat_minor": 0
}
