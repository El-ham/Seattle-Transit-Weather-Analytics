{
 "cells": [
  {
   "cell_type": "code",
   "execution_count": 0,
   "metadata": {
    "application/vnd.databricks.v1+cell": {
     "cellMetadata": {
      "byteLimit": 2048000,
      "rowLimit": 10000
     },
     "inputWidgets": {},
     "nuid": "5b180bad-76c8-4fee-8f42-5c55ad03ba9f",
     "showTitle": false,
     "tableResultSettingsMap": {},
     "title": ""
    }
   },
   "outputs": [],
   "source": [
    "# dbutils.fs.rm(\"dbfs:/gold/gtfs_rt_weather_joined/\", recurse=True)         #One-time cleanup"
   ]
  },
  {
   "cell_type": "code",
   "execution_count": 0,
   "metadata": {
    "application/vnd.databricks.v1+cell": {
     "cellMetadata": {
      "byteLimit": 2048000,
      "rowLimit": 10000
     },
     "inputWidgets": {},
     "nuid": "851fceaf-8f89-4594-b6dd-01ca6c3aae30",
     "showTitle": false,
     "tableResultSettingsMap": {},
     "title": ""
    }
   },
   "outputs": [],
   "source": [
    "from pyspark.sql import functions as F\n",
    "from pyspark.sql.window import Window\n",
    "import datetime as dt\n",
    "\n",
    "# Set dynamic date for today’s ingest\n",
    "INGESTION_DATE = dt.date.today().isoformat()\n",
    "\n",
    "# Partitioned input paths\n",
    "RT_PATH = \"dbfs:/gold/gtfs_rt_enriched/\"\n",
    "WEATHER_PATH = \"dbfs:/silver/weather/\"\n",
    "\n",
    "# Partitioned output path\n",
    "JOINED_PATH = \"dbfs:/gold/gtfs_rt_weather_joined/\"\n"
   ]
  },
  {
   "cell_type": "code",
   "execution_count": 0,
   "metadata": {
    "application/vnd.databricks.v1+cell": {
     "cellMetadata": {
      "byteLimit": 2048000,
      "rowLimit": 10000
     },
     "inputWidgets": {},
     "nuid": "8253bcba-4dfb-4731-9128-92bedb253218",
     "showTitle": false,
     "tableResultSettingsMap": {},
     "title": ""
    }
   },
   "outputs": [],
   "source": [
    "df_weather = (\n",
    "    spark.read.format(\"delta\").load(WEATHER_PATH)\n",
    "    .filter(F.col(\"ingestion_date\") == INGESTION_DATE)\n",
    "    .drop(\"processed_at\")\n",
    "    .filter(\"forecast_time IS NOT NULL\")\n",
    ")\n"
   ]
  },
  {
   "cell_type": "code",
   "execution_count": 0,
   "metadata": {
    "application/vnd.databricks.v1+cell": {
     "cellMetadata": {
      "byteLimit": 2048000,
      "rowLimit": 10000
     },
     "inputWidgets": {},
     "nuid": "6b1a0dc1-19eb-4a24-aefb-9482a1d3a18c",
     "showTitle": false,
     "tableResultSettingsMap": {},
     "title": ""
    }
   },
   "outputs": [],
   "source": [
    "df_rt = (\n",
    "    spark.read.format(\"delta\").load(RT_PATH)\n",
    "    .filter(F.col(\"ingestion_date\") == INGESTION_DATE)\n",
    ")\n"
   ]
  },
  {
   "cell_type": "code",
   "execution_count": 0,
   "metadata": {
    "application/vnd.databricks.v1+cell": {
     "cellMetadata": {
      "byteLimit": 2048000,
      "rowLimit": 10000
     },
     "inputWidgets": {},
     "nuid": "2bc27347-677f-4c96-b47f-f381f88e4791",
     "showTitle": false,
     "tableResultSettingsMap": {},
     "title": ""
    }
   },
   "outputs": [],
   "source": [
    "df_cross = df_rt.alias(\"rt\").join(\n",
    "    df_weather.alias(\"w\"),\n",
    "    F.col(\"w.forecast_time\") >= F.col(\"rt.event_ts\")\n",
    ")\n",
    "\n",
    "windowSpec = Window.partitionBy(\"rt.vehicle_id\", \"rt.event_ts\").orderBy(F.col(\"w.forecast_time\").asc())\n",
    "\n",
    "df_ranked = (\n",
    "    df_cross.withColumn(\"rank\", F.row_number().over(windowSpec))\n",
    "            .filter(\"rank = 1\")\n",
    "            .drop(\"rank\")\n",
    "            .withColumn(\"joined_at\", F.current_timestamp())\n",
    "            .drop(\"ingestion_date\")  # 👈 important\n",
    "            .withColumn(\"ingestion_date\", F.lit(INGESTION_DATE))\n",
    ")\n",
    "\n"
   ]
  },
  {
   "cell_type": "code",
   "execution_count": 0,
   "metadata": {
    "application/vnd.databricks.v1+cell": {
     "cellMetadata": {
      "byteLimit": 2048000,
      "rowLimit": 10000
     },
     "inputWidgets": {},
     "nuid": "bfa7e319-701f-4bdc-abd6-7cb6c96aa7c2",
     "showTitle": false,
     "tableResultSettingsMap": {},
     "title": ""
    }
   },
   "outputs": [],
   "source": [
    "df_ranked.write \\\n",
    "    .format(\"delta\") \\\n",
    "    .mode(\"overwrite\") \\\n",
    "    .partitionBy(\"ingestion_date\") \\\n",
    "    .save(JOINED_PATH)\n",
    "\n",
    "print(\"✓ GTFS-RT + Weather (nearest forecast) join saved to Gold\")\n"
   ]
  },
  {
   "cell_type": "code",
   "execution_count": 0,
   "metadata": {
    "application/vnd.databricks.v1+cell": {
     "cellMetadata": {
      "byteLimit": 2048000,
      "rowLimit": 10000
     },
     "inputWidgets": {},
     "nuid": "4d34b8b8-77ec-4049-af72-f52cf1228bcc",
     "showTitle": false,
     "tableResultSettingsMap": {},
     "title": ""
    }
   },
   "outputs": [],
   "source": [
    "print(df_ranked.columns)\n"
   ]
  },
  {
   "cell_type": "code",
   "execution_count": 0,
   "metadata": {
    "application/vnd.databricks.v1+cell": {
     "cellMetadata": {
      "byteLimit": 2048000,
      "rowLimit": 10000
     },
     "inputWidgets": {},
     "nuid": "498a3cbf-aa15-49e8-83fa-ac8c83178bf6",
     "showTitle": false,
     "tableResultSettingsMap": {},
     "title": ""
    }
   },
   "outputs": [],
   "source": [
    "df_ranked.select(\"event_ts\", \"forecast_time\", \"condition\", \"temperature\", \"route_short_name\").show(10, truncate=False)\n"
   ]
  },
  {
   "cell_type": "code",
   "execution_count": 0,
   "metadata": {
    "application/vnd.databricks.v1+cell": {
     "cellMetadata": {
      "byteLimit": 2048000,
      "rowLimit": 10000
     },
     "inputWidgets": {},
     "nuid": "5c4642fc-3ea4-4213-899f-b5b7fdfe4e31",
     "showTitle": false,
     "tableResultSettingsMap": {},
     "title": ""
    }
   },
   "outputs": [],
   "source": [
    "df_rt.select(\"event_ts\").orderBy(\"event_ts\").show(10, False)\n"
   ]
  },
  {
   "cell_type": "code",
   "execution_count": 0,
   "metadata": {
    "application/vnd.databricks.v1+cell": {
     "cellMetadata": {
      "byteLimit": 2048000,
      "rowLimit": 10000
     },
     "inputWidgets": {},
     "nuid": "0e289d69-642e-4e0a-8c3c-323a630e5bcf",
     "showTitle": false,
     "tableResultSettingsMap": {},
     "title": ""
    }
   },
   "outputs": [],
   "source": [
    "df_weather.select(\"forecast_time\").orderBy(\"forecast_time\").show(10, False)\n"
   ]
  },
  {
   "cell_type": "code",
   "execution_count": 0,
   "metadata": {
    "application/vnd.databricks.v1+cell": {
     "cellMetadata": {
      "byteLimit": 2048000,
      "rowLimit": 10000
     },
     "inputWidgets": {},
     "nuid": "927db77f-544a-4123-9777-332ad0ca7868",
     "showTitle": false,
     "tableResultSettingsMap": {},
     "title": ""
    }
   },
   "outputs": [],
   "source": [
    "df_rt.select(\"event_ts\").orderBy(\"event_ts\", ascending=False).show(5, False)\n",
    "df_weather.select(\"forecast_time\").orderBy(\"forecast_time\", ascending=True).show(5, False)\n"
   ]
  },
  {
   "cell_type": "code",
   "execution_count": 0,
   "metadata": {
    "application/vnd.databricks.v1+cell": {
     "cellMetadata": {},
     "inputWidgets": {},
     "nuid": "0da4f1f1-1e9f-4c18-aeff-4e496341e656",
     "showTitle": false,
     "tableResultSettingsMap": {},
     "title": ""
    }
   },
   "outputs": [],
   "source": []
  }
 ],
 "metadata": {
  "application/vnd.databricks.v1+notebook": {
   "computePreferences": null,
   "dashboards": [],
   "environmentMetadata": {
    "base_environment": "",
    "environment_version": "2"
   },
   "inputWidgetPreferences": null,
   "language": "python",
   "notebookMetadata": {
    "pythonIndentUnit": 4
   },
   "notebookName": "07_join_rt_with_weather",
   "widgets": {}
  },
  "language_info": {
   "name": "python"
  }
 },
 "nbformat": 4,
 "nbformat_minor": 0
}
