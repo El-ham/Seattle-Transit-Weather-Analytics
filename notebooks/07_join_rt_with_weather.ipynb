{
 "cells": [
  {
   "cell_type": "code",
   "execution_count": 0,
   "metadata": {
    "application/vnd.databricks.v1+cell": {
     "cellMetadata": {
      "byteLimit": 2048000,
      "rowLimit": 10000
     },
     "inputWidgets": {},
     "nuid": "851fceaf-8f89-4594-b6dd-01ca6c3aae30",
     "showTitle": false,
     "tableResultSettingsMap": {},
     "title": ""
    }
   },
   "outputs": [],
   "source": [
    "from pyspark.sql import functions as F\n",
    "\n",
    "TODAY = \"2025-05-21\"\n",
    "\n",
    "# Input paths\n",
    "RT_PATH = f\"dbfs:/gold/gtfs_rt_enriched/{TODAY}\"\n",
    "WEATHER_PATH = f\"dbfs:/silver/weather/{TODAY}\"\n",
    "\n",
    "# Output path\n",
    "JOINED_PATH = f\"dbfs:/gold/gtfs_rt_weather_joined/{TODAY}\"\n"
   ]
  },
  {
   "cell_type": "code",
   "execution_count": 0,
   "metadata": {
    "application/vnd.databricks.v1+cell": {
     "cellMetadata": {
      "byteLimit": 2048000,
      "rowLimit": 10000
     },
     "inputWidgets": {},
     "nuid": "8253bcba-4dfb-4731-9128-92bedb253218",
     "showTitle": false,
     "tableResultSettingsMap": {},
     "title": ""
    }
   },
   "outputs": [],
   "source": [
    "df_rt = spark.read.format(\"delta\").load(RT_PATH)\n",
    "df_weather = spark.read.format(\"delta\").load(WEATHER_PATH)\n"
   ]
  },
  {
   "cell_type": "code",
   "execution_count": 0,
   "metadata": {
    "application/vnd.databricks.v1+cell": {
     "cellMetadata": {
      "byteLimit": 2048000,
      "rowLimit": 10000
     },
     "inputWidgets": {},
     "nuid": "2bc27347-677f-4c96-b47f-f381f88e4791",
     "showTitle": false,
     "tableResultSettingsMap": {},
     "title": ""
    }
   },
   "outputs": [],
   "source": [
    "df_rt.select(\"vehicle_id\", \"event_ts\", \"route_short_name\").show(3)\n",
    "df_weather.select(\"forecast_time\", \"temperature\", \"condition\").show(3)\n"
   ]
  },
  {
   "cell_type": "code",
   "execution_count": 0,
   "metadata": {
    "application/vnd.databricks.v1+cell": {
     "cellMetadata": {
      "byteLimit": 2048000,
      "rowLimit": 10000
     },
     "inputWidgets": {},
     "nuid": "d55e6fa7-4844-41b9-81c0-c1f34d4db4d4",
     "showTitle": false,
     "tableResultSettingsMap": {},
     "title": ""
    }
   },
   "outputs": [],
   "source": [
    "# Round weather forecast to hour for safe join, and drop duplicate column\n",
    "df_weather_rounded = (\n",
    "    df_weather\n",
    "    .drop(\"processed_at\")  # 👈 Fix here\n",
    "    .withColumn(\"forecast_hour\", F.date_trunc(\"hour\", \"forecast_time\"))\n",
    ")\n",
    "\n",
    "# Round vehicle timestamp to hour\n",
    "df_rt_rounded = df_rt.withColumn(\"event_hour\", F.date_trunc(\"hour\", \"event_ts\"))\n",
    "\n",
    "# Join on hour\n",
    "df_joined = (\n",
    "    df_rt_rounded.join(\n",
    "        df_weather_rounded,\n",
    "        df_rt_rounded.event_hour == df_weather_rounded.forecast_hour,\n",
    "        how=\"left\"\n",
    "    )\n",
    "    .withColumn(\"joined_at\", F.current_timestamp())\n",
    ")\n"
   ]
  },
  {
   "cell_type": "code",
   "execution_count": 0,
   "metadata": {
    "application/vnd.databricks.v1+cell": {
     "cellMetadata": {
      "byteLimit": 2048000,
      "rowLimit": 10000
     },
     "inputWidgets": {},
     "nuid": "bfa7e319-701f-4bdc-abd6-7cb6c96aa7c2",
     "showTitle": false,
     "tableResultSettingsMap": {},
     "title": ""
    }
   },
   "outputs": [],
   "source": [
    "df_joined.write.format(\"delta\").mode(\"overwrite\").save(JOINED_PATH)\n",
    "print(\"✓ GTFS-RT + Weather join saved\")\n"
   ]
  },
  {
   "cell_type": "code",
   "execution_count": 0,
   "metadata": {
    "application/vnd.databricks.v1+cell": {
     "cellMetadata": {},
     "inputWidgets": {},
     "nuid": "498a3cbf-aa15-49e8-83fa-ac8c83178bf6",
     "showTitle": false,
     "tableResultSettingsMap": {},
     "title": ""
    }
   },
   "outputs": [],
   "source": []
  }
 ],
 "metadata": {
  "application/vnd.databricks.v1+notebook": {
   "computePreferences": null,
   "dashboards": [],
   "environmentMetadata": {
    "base_environment": "",
    "environment_version": "2"
   },
   "inputWidgetPreferences": null,
   "language": "python",
   "notebookMetadata": {
    "pythonIndentUnit": 4
   },
   "notebookName": "07_join_rt_with_weather",
   "widgets": {}
  },
  "language_info": {
   "name": "python"
  }
 },
 "nbformat": 4,
 "nbformat_minor": 0
}
