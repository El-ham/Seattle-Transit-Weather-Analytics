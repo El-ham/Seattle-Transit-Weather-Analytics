{
 "cells": [
  {
   "cell_type": "markdown",
   "metadata": {
    "application/vnd.databricks.v1+cell": {
     "cellMetadata": {},
     "inputWidgets": {},
     "nuid": "cdb43d28-8541-455a-bc2d-6179da276a88",
     "showTitle": false,
     "tableResultSettingsMap": {},
     "title": ""
    }
   },
   "source": [
    "## 07 - Join Transit Data with Weather (Gold Layer)\n",
    "\n",
    "This notebook performs a time-based join between enriched real-time transit data and hourly weather forecasts to build a comprehensive dataset for analysis.\n",
    "\n",
    "### Purpose\n",
    "To associate each vehicle update with the nearest **future** weather forecast, enabling exploration of how conditions affect transit behavior.\n",
    "\n",
    "### Workflow Summary\n",
    "- Loads partitioned GTFS-RT (Gold) and weather forecast (Silver) data for today\n",
    "- Uses a time-windowed join to match each vehicle update to its closest hourly forecast\n",
    "- Writes the final joined output to: `dbfs:/gold/gtfs_rt_weather_joined/`\n"
   ]
  },
  {
   "cell_type": "code",
   "execution_count": 0,
   "metadata": {
    "application/vnd.databricks.v1+cell": {
     "cellMetadata": {
      "byteLimit": 2048000,
      "rowLimit": 10000
     },
     "inputWidgets": {},
     "nuid": "5b180bad-76c8-4fee-8f42-5c55ad03ba9f",
     "showTitle": false,
     "tableResultSettingsMap": {},
     "title": ""
    }
   },
   "outputs": [],
   "source": [
    "# dbutils.fs.rm(\"dbfs:/gold/gtfs_rt_weather_joined/\", recurse=True)         #One-time cleanup"
   ]
  },
  {
   "cell_type": "code",
   "execution_count": 0,
   "metadata": {
    "application/vnd.databricks.v1+cell": {
     "cellMetadata": {
      "byteLimit": 2048000,
      "rowLimit": 10000
     },
     "inputWidgets": {},
     "nuid": "851fceaf-8f89-4594-b6dd-01ca6c3aae30",
     "showTitle": false,
     "tableResultSettingsMap": {},
     "title": ""
    }
   },
   "outputs": [],
   "source": [
    "from pyspark.sql import functions as F\n",
    "from pyspark.sql.window import Window\n",
    "import datetime as dt\n",
    "\n",
    "# Set today's ingestion date dynamically\n",
    "INGESTION_DATE = dt.date.today().isoformat()\n",
    "\n",
    "# Define input and output paths\n",
    "RT_PATH = \"dbfs:/gold/gtfs_rt_enriched/\"      # Enriched GTFS real-time\n",
    "WEATHER_PATH = \"dbfs:/silver/weather/\"        # Cleaned hourly weather\n",
    "JOINED_PATH = \"dbfs:/gold/gtfs_rt_weather_joined/\"    # Final output\n"
   ]
  },
  {
   "cell_type": "code",
   "execution_count": 0,
   "metadata": {
    "application/vnd.databricks.v1+cell": {
     "cellMetadata": {
      "byteLimit": 2048000,
      "rowLimit": 10000
     },
     "inputWidgets": {},
     "nuid": "8253bcba-4dfb-4731-9128-92bedb253218",
     "showTitle": false,
     "tableResultSettingsMap": {},
     "title": ""
    }
   },
   "outputs": [],
   "source": [
    "# Load today’s weather forecast and clean up unnecessary columns\n",
    "df_weather = (\n",
    "    spark.read.format(\"delta\").load(WEATHER_PATH)\n",
    "    .filter(F.col(\"ingestion_date\") == INGESTION_DATE)\n",
    "    .drop(\"processed_at\")\n",
    "    .filter(\"forecast_time IS NOT NULL\")\n",
    ")\n"
   ]
  },
  {
   "cell_type": "code",
   "execution_count": 0,
   "metadata": {
    "application/vnd.databricks.v1+cell": {
     "cellMetadata": {
      "byteLimit": 2048000,
      "rowLimit": 10000
     },
     "inputWidgets": {},
     "nuid": "9b716e7f-e012-4ad0-9baf-fe31de346258",
     "showTitle": false,
     "tableResultSettingsMap": {},
     "title": ""
    }
   },
   "outputs": [],
   "source": [
    "# Preview weather data coverage\n",
    "print(\"Weather records:\", df_weather.count())\n",
    "df_weather.select(\"forecast_time\").summary(\"min\", \"max\").show()\n"
   ]
  },
  {
   "cell_type": "code",
   "execution_count": 0,
   "metadata": {
    "application/vnd.databricks.v1+cell": {
     "cellMetadata": {
      "byteLimit": 2048000,
      "rowLimit": 10000
     },
     "inputWidgets": {},
     "nuid": "6b1a0dc1-19eb-4a24-aefb-9482a1d3a18c",
     "showTitle": false,
     "tableResultSettingsMap": {},
     "title": ""
    }
   },
   "outputs": [],
   "source": [
    "# Load enriched GTFS real-time data for today\n",
    "df_rt = (\n",
    "    spark.read.format(\"delta\").load(RT_PATH)\n",
    "    .filter(F.col(\"ingestion_date\") == INGESTION_DATE)\n",
    "    .filter(F.col(\"event_ts\").isNotNull())\n",
    ")\n"
   ]
  },
  {
   "cell_type": "code",
   "execution_count": 0,
   "metadata": {
    "application/vnd.databricks.v1+cell": {
     "cellMetadata": {
      "byteLimit": 2048000,
      "rowLimit": 10000
     },
     "inputWidgets": {},
     "nuid": "fbb5dbe0-40be-41e0-8432-277f54e21e16",
     "showTitle": false,
     "tableResultSettingsMap": {},
     "title": ""
    }
   },
   "outputs": [],
   "source": [
    "# Preview transit data coverage\n",
    "print(\"GTFS-RT records:\", df_rt.count())\n",
    "df_rt.select(\"event_ts\").summary(\"min\", \"max\").show()\n"
   ]
  },
  {
   "cell_type": "code",
   "execution_count": 0,
   "metadata": {
    "application/vnd.databricks.v1+cell": {
     "cellMetadata": {
      "byteLimit": 2048000,
      "rowLimit": 10000
     },
     "inputWidgets": {},
     "nuid": "2bc27347-677f-4c96-b47f-f381f88e4791",
     "showTitle": false,
     "tableResultSettingsMap": {},
     "title": ""
    }
   },
   "outputs": [],
   "source": [
    "# Join: Find the next available forecast for each transit event\n",
    "df_cross = df_rt.alias(\"rt\").join(\n",
    "    df_weather.alias(\"w\"),\n",
    "    F.col(\"w.forecast_time\") >= F.col(\"rt.event_ts\")\n",
    ")\n",
    "# Rank to pick the closest (minimum) forecast_time\n",
    "windowSpec = Window.partitionBy(\"rt.vehicle_id\", \"rt.event_ts\").orderBy(F.col(\"w.forecast_time\").asc())\n",
    "\n",
    "df_ranked = (\n",
    "    df_cross.withColumn(\"rank\", F.row_number().over(windowSpec))        # Assign ranking within each group\n",
    "            .filter(\"rank = 1\")                                         # Keep only the closest match\n",
    "            .drop(\"rank\")\n",
    "            .withColumn(\"joined_at\", F.current_timestamp())             # Track when join occurred\n",
    "            .drop(\"ingestion_date\")                                     # Drop weather ingestion date\n",
    "            .withColumn(\"ingestion_date\", F.lit(INGESTION_DATE))        # Replace with unified date\n",
    ")\n",
    "\n"
   ]
  },
  {
   "cell_type": "code",
   "execution_count": 0,
   "metadata": {
    "application/vnd.databricks.v1+cell": {
     "cellMetadata": {
      "byteLimit": 2048000,
      "rowLimit": 10000
     },
     "inputWidgets": {},
     "nuid": "97b101d0-779f-4796-ad1d-d87f04d8e6dd",
     "showTitle": false,
     "tableResultSettingsMap": {},
     "title": ""
    }
   },
   "outputs": [],
   "source": [
    "# Check final temporal ranges for quality assurance\n",
    "df_ranked.select(\"event_ts\", \"forecast_time\").summary(\"min\", \"max\").show()\n"
   ]
  },
  {
   "cell_type": "code",
   "execution_count": 0,
   "metadata": {
    "application/vnd.databricks.v1+cell": {
     "cellMetadata": {
      "byteLimit": 2048000,
      "rowLimit": 10000
     },
     "inputWidgets": {},
     "nuid": "bfa7e319-701f-4bdc-abd6-7cb6c96aa7c2",
     "showTitle": false,
     "tableResultSettingsMap": {},
     "title": ""
    }
   },
   "outputs": [],
   "source": [
    "# Deduplicate based on vehicle_id, event_ts, and forecast_time before writing to Gold\n",
    "try:\n",
    "    existing_joined = spark.read.format(\"delta\").load(JOINED_PATH).select(\"vehicle_id\", \"event_ts\", \"forecast_time\")\n",
    "    \n",
    "    df_ranked = df_ranked.alias(\"new\").join(\n",
    "        existing_joined.alias(\"existing\"),\n",
    "        on=[\"vehicle_id\", \"event_ts\", \"forecast_time\"],\n",
    "        how=\"left_anti\"\n",
    "    )\n",
    "except Exception as e:\n",
    "    print(f\"✓ No existing joined data found or table is empty. Proceeding without anti-join. Error: {e}\")\n",
    "\n",
    "# Save joined dataset to Gold layer\n",
    "df_ranked.write \\\n",
    "    .format(\"delta\") \\\n",
    "    .mode(\"append\") \\\n",
    "    .partitionBy(\"ingestion_date\") \\\n",
    "    .save(JOINED_PATH)\n",
    "\n",
    "print(\"✓ GTFS-RT + Weather (nearest forecast) join saved to Gold (duplicates avoided)\")"
   ]
  },
  {
   "cell_type": "code",
   "execution_count": 0,
   "metadata": {
    "application/vnd.databricks.v1+cell": {
     "cellMetadata": {
      "byteLimit": 2048000,
      "rowLimit": 10000
     },
     "inputWidgets": {},
     "nuid": "4d34b8b8-77ec-4049-af72-f52cf1228bcc",
     "showTitle": false,
     "tableResultSettingsMap": {},
     "title": ""
    }
   },
   "outputs": [],
   "source": [
    "# Quick look at all available columns\n",
    "print(df_ranked.columns)\n"
   ]
  },
  {
   "cell_type": "code",
   "execution_count": 0,
   "metadata": {
    "application/vnd.databricks.v1+cell": {
     "cellMetadata": {
      "byteLimit": 2048000,
      "rowLimit": 10000
     },
     "inputWidgets": {},
     "nuid": "498a3cbf-aa15-49e8-83fa-ac8c83178bf6",
     "showTitle": false,
     "tableResultSettingsMap": {},
     "title": ""
    }
   },
   "outputs": [],
   "source": [
    "# Preview sample rows with weather and transit merged\n",
    "df_ranked.select(\"event_ts\", \"forecast_time\", \"condition\", \"temperature\", \"route_short_name\").show(10, truncate=False)\n"
   ]
  },
  {
   "cell_type": "code",
   "execution_count": 0,
   "metadata": {
    "application/vnd.databricks.v1+cell": {
     "cellMetadata": {
      "byteLimit": 2048000,
      "rowLimit": 10000
     },
     "inputWidgets": {},
     "nuid": "5c4642fc-3ea4-4213-899f-b5b7fdfe4e31",
     "showTitle": false,
     "tableResultSettingsMap": {},
     "title": ""
    }
   },
   "outputs": [],
   "source": [
    "# Check GTFS timestamps\n",
    "df_rt.select(\"event_ts\").orderBy(\"event_ts\").show(10, False)\n"
   ]
  },
  {
   "cell_type": "code",
   "execution_count": 0,
   "metadata": {
    "application/vnd.databricks.v1+cell": {
     "cellMetadata": {
      "byteLimit": 2048000,
      "rowLimit": 10000
     },
     "inputWidgets": {},
     "nuid": "0e289d69-642e-4e0a-8c3c-323a630e5bcf",
     "showTitle": false,
     "tableResultSettingsMap": {},
     "title": ""
    }
   },
   "outputs": [],
   "source": [
    "# Check weather timestamps\n",
    "df_weather.select(\"forecast_time\").orderBy(\"forecast_time\").show(10, False)\n"
   ]
  },
  {
   "cell_type": "code",
   "execution_count": 0,
   "metadata": {
    "application/vnd.databricks.v1+cell": {
     "cellMetadata": {
      "byteLimit": 2048000,
      "rowLimit": 10000
     },
     "inputWidgets": {},
     "nuid": "927db77f-544a-4123-9777-332ad0ca7868",
     "showTitle": false,
     "tableResultSettingsMap": {},
     "title": ""
    }
   },
   "outputs": [],
   "source": [
    "# Compare the most recent GTFS event timestamps with the earliest weather forecast timestamps\n",
    "# This helps validate that the join window logic (forecast_time ≥ event_ts) works correctly\n",
    "df_rt.select(\"event_ts\").orderBy(\"event_ts\", ascending=False).show(5, False)\n",
    "df_weather.select(\"forecast_time\").orderBy(\"forecast_time\", ascending=True).show(5, False)\n"
   ]
  },
  {
   "cell_type": "code",
   "execution_count": 0,
   "metadata": {
    "application/vnd.databricks.v1+cell": {
     "cellMetadata": {},
     "inputWidgets": {},
     "nuid": "0da4f1f1-1e9f-4c18-aeff-4e496341e656",
     "showTitle": false,
     "tableResultSettingsMap": {},
     "title": ""
    }
   },
   "outputs": [],
   "source": []
  }
 ],
 "metadata": {
  "application/vnd.databricks.v1+notebook": {
   "computePreferences": null,
   "dashboards": [],
   "environmentMetadata": {
    "base_environment": "",
    "environment_version": "2"
   },
   "inputWidgetPreferences": null,
   "language": "python",
   "notebookMetadata": {
    "pythonIndentUnit": 4
   },
   "notebookName": "07_join_rt_with_weather",
   "widgets": {}
  },
  "language_info": {
   "name": "python"
  }
 },
 "nbformat": 4,
 "nbformat_minor": 0
}
