{
 "cells": [
  {
   "cell_type": "code",
   "execution_count": 0,
   "metadata": {
    "application/vnd.databricks.v1+cell": {
     "cellMetadata": {
      "byteLimit": 2048000,
      "rowLimit": 10000
     },
     "inputWidgets": {},
     "nuid": "851fceaf-8f89-4594-b6dd-01ca6c3aae30",
     "showTitle": false,
     "tableResultSettingsMap": {},
     "title": ""
    }
   },
   "outputs": [],
   "source": [
    "from pyspark.sql import functions as F\n",
    "from pyspark.sql.window import Window\n",
    "\n",
    "TODAY = \"2025-05-25\"\n",
    "\n",
    "# Input Paths\n",
    "RT_PATH = f\"dbfs:/gold/gtfs_rt_enriched/{TODAY}\"\n",
    "WEATHER_PATH = f\"dbfs:/silver/weather/{TODAY}\"\n",
    "\n",
    "# Output_Path\n",
    "JOINED_PATH = f\"dbfs:/gold/gtfs_rt_weather_joined/{TODAY}\"\n"
   ]
  },
  {
   "cell_type": "code",
   "execution_count": 0,
   "metadata": {
    "application/vnd.databricks.v1+cell": {
     "cellMetadata": {
      "byteLimit": 2048000,
      "rowLimit": 10000
     },
     "inputWidgets": {},
     "nuid": "8253bcba-4dfb-4731-9128-92bedb253218",
     "showTitle": false,
     "tableResultSettingsMap": {},
     "title": ""
    }
   },
   "outputs": [],
   "source": [
    "df_weather = (\n",
    "    spark.read.format(\"delta\").load(WEATHER_PATH)\n",
    "    .drop(\"processed_at\")  # 👈 Drop the duplicate before joining\n",
    "    .filter(\"forecast_time IS NOT NULL\")\n",
    ")\n"
   ]
  },
  {
   "cell_type": "code",
   "execution_count": 0,
   "metadata": {
    "application/vnd.databricks.v1+cell": {
     "cellMetadata": {
      "byteLimit": 2048000,
      "rowLimit": 10000
     },
     "inputWidgets": {},
     "nuid": "6b1a0dc1-19eb-4a24-aefb-9482a1d3a18c",
     "showTitle": false,
     "tableResultSettingsMap": {},
     "title": ""
    }
   },
   "outputs": [],
   "source": [
    "df_rt = spark.read.format(\"delta\").load(RT_PATH)"
   ]
  },
  {
   "cell_type": "code",
   "execution_count": 0,
   "metadata": {
    "application/vnd.databricks.v1+cell": {
     "cellMetadata": {
      "byteLimit": 2048000,
      "rowLimit": 10000
     },
     "inputWidgets": {},
     "nuid": "2bc27347-677f-4c96-b47f-f381f88e4791",
     "showTitle": false,
     "tableResultSettingsMap": {},
     "title": ""
    }
   },
   "outputs": [],
   "source": [
    "# Join each vehicle event to the earliest forecast that happens *after* it\n",
    "df_cross = df_rt.alias(\"rt\").join(\n",
    "    df_weather.alias(\"w\"),\n",
    "    F.col(\"w.forecast_time\") >= F.col(\"rt.event_ts\")\n",
    ")\n",
    "\n",
    "# Window: for each vehicle + event, get the nearest later forecast\n",
    "windowSpec = Window.partitionBy(\"rt.vehicle_id\", \"rt.event_ts\").orderBy(F.col(\"w.forecast_time\").asc())\n",
    "\n",
    "df_ranked = (\n",
    "    df_cross.withColumn(\"rank\", F.row_number().over(windowSpec))\n",
    "            .filter(\"rank = 1\")\n",
    "            .drop(\"rank\")\n",
    "            .withColumn(\"joined_at\", F.current_timestamp())\n",
    ")\n"
   ]
  },
  {
   "cell_type": "code",
   "execution_count": 0,
   "metadata": {
    "application/vnd.databricks.v1+cell": {
     "cellMetadata": {
      "byteLimit": 2048000,
      "rowLimit": 10000
     },
     "inputWidgets": {},
     "nuid": "bfa7e319-701f-4bdc-abd6-7cb6c96aa7c2",
     "showTitle": false,
     "tableResultSettingsMap": {},
     "title": ""
    }
   },
   "outputs": [],
   "source": [
    "df_ranked.write.format(\"delta\").mode(\"overwrite\").save(JOINED_PATH)\n",
    "\n",
    "print(\"✓ GTFS-RT + Weather (nearest earlier forecast) join saved to Gold\")\n"
   ]
  },
  {
   "cell_type": "code",
   "execution_count": 0,
   "metadata": {
    "application/vnd.databricks.v1+cell": {
     "cellMetadata": {
      "byteLimit": 2048000,
      "rowLimit": 10000
     },
     "inputWidgets": {},
     "nuid": "4d34b8b8-77ec-4049-af72-f52cf1228bcc",
     "showTitle": false,
     "tableResultSettingsMap": {},
     "title": ""
    }
   },
   "outputs": [],
   "source": [
    "print(df_ranked.columns)\n"
   ]
  },
  {
   "cell_type": "code",
   "execution_count": 0,
   "metadata": {
    "application/vnd.databricks.v1+cell": {
     "cellMetadata": {
      "byteLimit": 2048000,
      "rowLimit": 10000
     },
     "inputWidgets": {},
     "nuid": "498a3cbf-aa15-49e8-83fa-ac8c83178bf6",
     "showTitle": false,
     "tableResultSettingsMap": {},
     "title": ""
    }
   },
   "outputs": [],
   "source": [
    "df_ranked.select(\"event_ts\", \"forecast_time\", \"condition\", \"temperature\", \"route_short_name\").show(10, truncate=False)\n"
   ]
  },
  {
   "cell_type": "code",
   "execution_count": 0,
   "metadata": {
    "application/vnd.databricks.v1+cell": {
     "cellMetadata": {
      "byteLimit": 2048000,
      "rowLimit": 10000
     },
     "inputWidgets": {},
     "nuid": "5c4642fc-3ea4-4213-899f-b5b7fdfe4e31",
     "showTitle": false,
     "tableResultSettingsMap": {},
     "title": ""
    }
   },
   "outputs": [],
   "source": [
    "df_rt.select(\"event_ts\").orderBy(\"event_ts\").show(10, False)\n"
   ]
  },
  {
   "cell_type": "code",
   "execution_count": 0,
   "metadata": {
    "application/vnd.databricks.v1+cell": {
     "cellMetadata": {
      "byteLimit": 2048000,
      "rowLimit": 10000
     },
     "inputWidgets": {},
     "nuid": "0e289d69-642e-4e0a-8c3c-323a630e5bcf",
     "showTitle": false,
     "tableResultSettingsMap": {},
     "title": ""
    }
   },
   "outputs": [],
   "source": [
    "df_weather.select(\"forecast_time\").orderBy(\"forecast_time\").show(10, False)\n"
   ]
  },
  {
   "cell_type": "code",
   "execution_count": 0,
   "metadata": {
    "application/vnd.databricks.v1+cell": {
     "cellMetadata": {},
     "inputWidgets": {},
     "nuid": "927db77f-544a-4123-9777-332ad0ca7868",
     "showTitle": false,
     "tableResultSettingsMap": {},
     "title": ""
    }
   },
   "outputs": [],
   "source": []
  }
 ],
 "metadata": {
  "application/vnd.databricks.v1+notebook": {
   "computePreferences": null,
   "dashboards": [],
   "environmentMetadata": {
    "base_environment": "",
    "environment_version": "2"
   },
   "inputWidgetPreferences": null,
   "language": "python",
   "notebookMetadata": {
    "pythonIndentUnit": 4
   },
   "notebookName": "07_join_rt_with_weather",
   "widgets": {}
  },
  "language_info": {
   "name": "python"
  }
 },
 "nbformat": 4,
 "nbformat_minor": 0
}
