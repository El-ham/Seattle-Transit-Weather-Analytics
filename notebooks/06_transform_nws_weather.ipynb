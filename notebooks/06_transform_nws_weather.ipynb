{
 "cells": [
  {
   "cell_type": "code",
   "execution_count": 0,
   "metadata": {
    "application/vnd.databricks.v1+cell": {
     "cellMetadata": {
      "byteLimit": 2048000,
      "rowLimit": 10000
     },
     "inputWidgets": {},
     "nuid": "35afae6c-4ede-4cb9-9985-6a147322e707",
     "showTitle": false,
     "tableResultSettingsMap": {},
     "title": ""
    }
   },
   "outputs": [],
   "source": [
    "dbutils.fs.rm(\"dbfs:/silver/weather/\", recurse=True)"
   ]
  },
  {
   "cell_type": "code",
   "execution_count": 0,
   "metadata": {
    "application/vnd.databricks.v1+cell": {
     "cellMetadata": {
      "byteLimit": 2048000,
      "rowLimit": 10000
     },
     "inputWidgets": {},
     "nuid": "192f3f60-b41c-4f0d-8e6f-2d3c40fde872",
     "showTitle": false,
     "tableResultSettingsMap": {},
     "title": ""
    }
   },
   "outputs": [],
   "source": [
    "from pyspark.sql import functions as F\n",
    "import datetime as dt\n",
    "\n",
    "# Dynamic date\n",
    "INGESTION_DATE = dt.date.today().isoformat()\n",
    "\n",
    "# Input from partitioned Bronze\n",
    "BRONZE_PATH = \"dbfs:/bronze/weather/\"\n",
    "\n",
    "# Output path (shared, partitioned Silver)\n",
    "SILVER_PATH = \"dbfs:/silver/weather/\"\n"
   ]
  },
  {
   "cell_type": "code",
   "execution_count": 0,
   "metadata": {
    "application/vnd.databricks.v1+cell": {
     "cellMetadata": {
      "byteLimit": 2048000,
      "rowLimit": 10000
     },
     "inputWidgets": {},
     "nuid": "b631d4b0-5212-445d-a293-a5ef172cea3c",
     "showTitle": false,
     "tableResultSettingsMap": {},
     "title": ""
    }
   },
   "outputs": [],
   "source": [
    "# Read today's weather only\n",
    "df_bronze = (\n",
    "    spark.read.format(\"delta\")\n",
    "    .load(BRONZE_PATH)\n",
    "    .filter(F.col(\"ingestion_date\") == INGESTION_DATE)\n",
    ")\n",
    "\n",
    "df_bronze.select(\"forecast_time\", \"temperature\", \"shortForecast\", \"windSpeed\").show(5, truncate=False)\n"
   ]
  },
  {
   "cell_type": "code",
   "execution_count": 0,
   "metadata": {
    "application/vnd.databricks.v1+cell": {
     "cellMetadata": {
      "byteLimit": 2048000,
      "rowLimit": 10000
     },
     "inputWidgets": {},
     "nuid": "3d1d70b2-ec88-44d4-bb71-126aaf789636",
     "showTitle": false,
     "tableResultSettingsMap": {},
     "title": ""
    }
   },
   "outputs": [],
   "source": [
    "df_silver = (\n",
    "    df_bronze.select(\n",
    "        F.col(\"forecast_time\"),\n",
    "        F.col(\"temperature\").cast(\"int\"),\n",
    "        F.col(\"shortForecast\").alias(\"condition\"),\n",
    "        F.col(\"windSpeed\"),\n",
    "        F.col(\"forecast_retrieved_at\")\n",
    "    )\n",
    "    .withColumn(\"processed_at\", F.current_timestamp())\n",
    "    .withColumn(\"ingestion_date\", F.lit(INGESTION_DATE))\n",
    "    .dropDuplicates([\"forecast_time\"])\n",
    ")\n"
   ]
  },
  {
   "cell_type": "code",
   "execution_count": 0,
   "metadata": {
    "application/vnd.databricks.v1+cell": {
     "cellMetadata": {
      "byteLimit": 2048000,
      "rowLimit": 10000
     },
     "inputWidgets": {},
     "nuid": "72330c07-8996-4089-8330-22adc51b788d",
     "showTitle": false,
     "tableResultSettingsMap": {},
     "title": ""
    }
   },
   "outputs": [],
   "source": [
    "df_silver.write \\\n",
    "    .format(\"delta\") \\\n",
    "    .mode(\"append\") \\\n",
    "    .partitionBy(\"ingestion_date\") \\\n",
    "    .save(SILVER_PATH)\n",
    "\n",
    "print(\"✓ Weather Silver table saved (partitioned append)\")\n"
   ]
  },
  {
   "cell_type": "code",
   "execution_count": 0,
   "metadata": {
    "application/vnd.databricks.v1+cell": {
     "cellMetadata": {},
     "inputWidgets": {},
     "nuid": "ed3ab97a-21be-4ec5-a2b7-210d526db40b",
     "showTitle": false,
     "tableResultSettingsMap": {},
     "title": ""
    }
   },
   "outputs": [],
   "source": []
  }
 ],
 "metadata": {
  "application/vnd.databricks.v1+notebook": {
   "computePreferences": null,
   "dashboards": [],
   "environmentMetadata": {
    "base_environment": "",
    "environment_version": "2"
   },
   "inputWidgetPreferences": null,
   "language": "python",
   "notebookMetadata": {
    "pythonIndentUnit": 4
   },
   "notebookName": "06_transform_nws_weather",
   "widgets": {}
  },
  "language_info": {
   "name": "python"
  }
 },
 "nbformat": 4,
 "nbformat_minor": 0
}
