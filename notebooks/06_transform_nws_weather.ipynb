{
 "cells": [
  {
   "cell_type": "markdown",
   "metadata": {
    "application/vnd.databricks.v1+cell": {
     "cellMetadata": {},
     "inputWidgets": {},
     "nuid": "4a9b8b20-487f-4851-b69e-4a5e543a5c7f",
     "showTitle": false,
     "tableResultSettingsMap": {},
     "title": ""
    }
   },
   "source": [
    "## 06 - Transform Hourly Weather Data (Silver Layer)\n",
    "\n",
    "This notebook reads daily-ingested weather data from the Bronze Delta table and processes it into a cleaned and enriched Silver table for analysis and dashboarding.\n",
    "\n",
    "### Purpose\n",
    "To standardize and prepare Seattle hourly weather forecasts for reliable downstream use by filtering and enriching the raw API data.\n",
    "\n",
    "### Workflow Summary\n",
    "- Reads today’s hourly weather forecast from the Bronze Delta table\n",
    "- Filters out records with missing `forecast_time` or `temperature`\n",
    "- Casts and renames relevant columns for consistency\n",
    "- Writes clean data to `dbfs:/silver/weather/` partitioned by `ingestion_date`\n"
   ]
  },
  {
   "cell_type": "code",
   "execution_count": 0,
   "metadata": {
    "application/vnd.databricks.v1+cell": {
     "cellMetadata": {
      "byteLimit": 2048000,
      "rowLimit": 10000
     },
     "inputWidgets": {},
     "nuid": "35afae6c-4ede-4cb9-9985-6a147322e707",
     "showTitle": false,
     "tableResultSettingsMap": {},
     "title": ""
    }
   },
   "outputs": [],
   "source": [
    "# dbutils.fs.rm(\"dbfs:/silver/weather/\", recurse=True)"
   ]
  },
  {
   "cell_type": "code",
   "execution_count": 0,
   "metadata": {
    "application/vnd.databricks.v1+cell": {
     "cellMetadata": {
      "byteLimit": 2048000,
      "rowLimit": 10000
     },
     "inputWidgets": {},
     "nuid": "192f3f60-b41c-4f0d-8e6f-2d3c40fde872",
     "showTitle": false,
     "tableResultSettingsMap": {},
     "title": ""
    }
   },
   "outputs": [],
   "source": [
    "from pyspark.sql import functions as F\n",
    "import datetime as dt\n",
    "\n",
    "# Use today's date dynamically\n",
    "INGESTION_DATE = dt.date.today().isoformat()\n",
    "\n",
    "# Define input/output paths\n",
    "BRONZE_PATH = \"dbfs:/bronze/weather/\"     # Source: raw weather forecast\n",
    "SILVER_PATH = \"dbfs:/silver/weather/\"     # Destination: cleaned weather data\n"
   ]
  },
  {
   "cell_type": "code",
   "execution_count": 0,
   "metadata": {
    "application/vnd.databricks.v1+cell": {
     "cellMetadata": {
      "byteLimit": 2048000,
      "rowLimit": 10000
     },
     "inputWidgets": {},
     "nuid": "b631d4b0-5212-445d-a293-a5ef172cea3c",
     "showTitle": false,
     "tableResultSettingsMap": {},
     "title": ""
    }
   },
   "outputs": [],
   "source": [
    "# Read only today's ingested weather records from Bronze table\n",
    "df_bronze = (\n",
    "    spark.read.format(\"delta\")\n",
    "    .load(BRONZE_PATH)\n",
    "    .filter(F.col(\"ingestion_date\") == INGESTION_DATE)\n",
    ")\n",
    "# Preview important fields\n",
    "df_bronze.select(\"forecast_time\", \"temperature\", \"shortForecast\", \"windSpeed\").show(5, truncate=False)\n"
   ]
  },
  {
   "cell_type": "code",
   "execution_count": 0,
   "metadata": {
    "application/vnd.databricks.v1+cell": {
     "cellMetadata": {
      "byteLimit": 2048000,
      "rowLimit": 10000
     },
     "inputWidgets": {},
     "nuid": "88c41193-6692-4b6c-8170-2ab015979b4e",
     "showTitle": false,
     "tableResultSettingsMap": {},
     "title": ""
    }
   },
   "outputs": [],
   "source": [
    "# ✅ Remove rows with missing critical fields (timestamp or temperature)\n",
    "df_bronze = df_bronze.filter(\n",
    "    F.col(\"forecast_time\").isNotNull() &\n",
    "    F.col(\"temperature\").isNotNull()\n",
    ")\n"
   ]
  },
  {
   "cell_type": "code",
   "execution_count": 0,
   "metadata": {
    "application/vnd.databricks.v1+cell": {
     "cellMetadata": {
      "byteLimit": 2048000,
      "rowLimit": 10000
     },
     "inputWidgets": {},
     "nuid": "3d1d70b2-ec88-44d4-bb71-126aaf789636",
     "showTitle": false,
     "tableResultSettingsMap": {},
     "title": ""
    }
   },
   "outputs": [],
   "source": [
    "# Select and rename key columns, add metadata\n",
    "df_silver = (\n",
    "    df_bronze.select(\n",
    "        F.col(\"forecast_time\"),\n",
    "        F.col(\"temperature\").cast(\"int\"),                   # Cast temperature to integer\n",
    "        F.col(\"shortForecast\").alias(\"condition\"),          # Rename shortForecast to condition\n",
    "        F.col(\"windSpeed\"),\n",
    "        F.col(\"forecast_retrieved_at\")\n",
    "    )\n",
    "    .withColumn(\"processed_at\", F.current_timestamp())      # Timestamp for transformation time\n",
    "    .withColumn(\"ingestion_date\", F.lit(INGESTION_DATE))\n",
    "    .dropDuplicates([\"forecast_time\"])                      # Prevent duplicate forecast records\n",
    ")\n"
   ]
  },
  {
   "cell_type": "code",
   "execution_count": 0,
   "metadata": {
    "application/vnd.databricks.v1+cell": {
     "cellMetadata": {
      "byteLimit": 2048000,
      "rowLimit": 10000
     },
     "inputWidgets": {},
     "nuid": "72330c07-8996-4089-8330-22adc51b788d",
     "showTitle": false,
     "tableResultSettingsMap": {},
     "title": ""
    }
   },
   "outputs": [],
   "source": [
    "# Save transformed data to Silver Delta table, partitioned by ingestion date\n",
    "df_silver.write \\\n",
    "    .format(\"delta\") \\\n",
    "    .mode(\"append\") \\\n",
    "    .partitionBy(\"ingestion_date\") \\\n",
    "    .save(SILVER_PATH)\n",
    "\n",
    "print(\"✓ Weather Silver table saved (partitioned append)\")\n"
   ]
  },
  {
   "cell_type": "code",
   "execution_count": 0,
   "metadata": {
    "application/vnd.databricks.v1+cell": {
     "cellMetadata": {},
     "inputWidgets": {},
     "nuid": "ed3ab97a-21be-4ec5-a2b7-210d526db40b",
     "showTitle": false,
     "tableResultSettingsMap": {},
     "title": ""
    }
   },
   "outputs": [],
   "source": []
  }
 ],
 "metadata": {
  "application/vnd.databricks.v1+notebook": {
   "computePreferences": null,
   "dashboards": [],
   "environmentMetadata": {
    "base_environment": "",
    "environment_version": "2"
   },
   "inputWidgetPreferences": null,
   "language": "python",
   "notebookMetadata": {
    "pythonIndentUnit": 4
   },
   "notebookName": "06_transform_nws_weather",
   "widgets": {}
  },
  "language_info": {
   "name": "python"
  }
 },
 "nbformat": 4,
 "nbformat_minor": 0
}
