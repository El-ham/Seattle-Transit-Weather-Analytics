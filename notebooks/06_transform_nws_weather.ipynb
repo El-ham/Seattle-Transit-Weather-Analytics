{
 "cells": [
  {
   "cell_type": "code",
   "execution_count": 0,
   "metadata": {
    "application/vnd.databricks.v1+cell": {
     "cellMetadata": {
      "byteLimit": 2048000,
      "rowLimit": 10000
     },
     "inputWidgets": {},
     "nuid": "192f3f60-b41c-4f0d-8e6f-2d3c40fde872",
     "showTitle": false,
     "tableResultSettingsMap": {},
     "title": ""
    }
   },
   "outputs": [],
   "source": [
    "from pyspark.sql import functions as F\n",
    "\n",
    "TODAY = \"2025-05-21\"\n",
    "\n",
    "# Input from Bronze\n",
    "BRONZE_PATH = f\"dbfs:/bronze/weather/{TODAY}\"\n",
    "\n",
    "# Output Silver path\n",
    "SILVER_PATH = f\"dbfs:/silver/weather/{TODAY}\"\n"
   ]
  },
  {
   "cell_type": "code",
   "execution_count": 0,
   "metadata": {
    "application/vnd.databricks.v1+cell": {
     "cellMetadata": {
      "byteLimit": 2048000,
      "rowLimit": 10000
     },
     "inputWidgets": {},
     "nuid": "b631d4b0-5212-445d-a293-a5ef172cea3c",
     "showTitle": false,
     "tableResultSettingsMap": {},
     "title": ""
    }
   },
   "outputs": [],
   "source": [
    "df_bronze = spark.read.format(\"delta\").load(BRONZE_PATH)\n",
    "df_bronze.select(\"name\", \"forecast_time\", \"temperature\", \"shortForecast\", \"windSpeed\").show(5, truncate=False)\n"
   ]
  },
  {
   "cell_type": "code",
   "execution_count": 0,
   "metadata": {
    "application/vnd.databricks.v1+cell": {
     "cellMetadata": {
      "byteLimit": 2048000,
      "rowLimit": 10000
     },
     "inputWidgets": {},
     "nuid": "3d1d70b2-ec88-44d4-bb71-126aaf789636",
     "showTitle": false,
     "tableResultSettingsMap": {},
     "title": ""
    }
   },
   "outputs": [],
   "source": [
    "df_silver = (\n",
    "    df_bronze.select(\n",
    "        F.col(\"forecast_time\"),\n",
    "        F.col(\"temperature\").cast(\"int\"),\n",
    "        F.col(\"shortForecast\").alias(\"condition\"),\n",
    "        F.col(\"windSpeed\"),\n",
    "        F.col(\"forecast_retrieved_at\")\n",
    "    )\n",
    "    .withColumn(\"processed_at\", F.current_timestamp())\n",
    "    .dropDuplicates([\"forecast_time\"])\n",
    ")\n"
   ]
  },
  {
   "cell_type": "code",
   "execution_count": 0,
   "metadata": {
    "application/vnd.databricks.v1+cell": {
     "cellMetadata": {
      "byteLimit": 2048000,
      "rowLimit": 10000
     },
     "inputWidgets": {},
     "nuid": "72330c07-8996-4089-8330-22adc51b788d",
     "showTitle": false,
     "tableResultSettingsMap": {},
     "title": ""
    }
   },
   "outputs": [],
   "source": [
    "df_silver.write.format(\"delta\").mode(\"overwrite\").save(SILVER_PATH)\n",
    "print(\"✓ Weather Silver table saved\")\n"
   ]
  },
  {
   "cell_type": "code",
   "execution_count": 0,
   "metadata": {
    "application/vnd.databricks.v1+cell": {
     "cellMetadata": {},
     "inputWidgets": {},
     "nuid": "ed3ab97a-21be-4ec5-a2b7-210d526db40b",
     "showTitle": false,
     "tableResultSettingsMap": {},
     "title": ""
    }
   },
   "outputs": [],
   "source": []
  }
 ],
 "metadata": {
  "application/vnd.databricks.v1+notebook": {
   "computePreferences": null,
   "dashboards": [],
   "environmentMetadata": {
    "base_environment": "",
    "environment_version": "2"
   },
   "inputWidgetPreferences": null,
   "language": "python",
   "notebookMetadata": {
    "pythonIndentUnit": 4
   },
   "notebookName": "06_transform_nws_weather",
   "widgets": {}
  },
  "language_info": {
   "name": "python"
  }
 },
 "nbformat": 4,
 "nbformat_minor": 0
}
