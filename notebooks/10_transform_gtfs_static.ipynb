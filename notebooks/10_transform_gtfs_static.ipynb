{
 "cells": [
  {
   "cell_type": "code",
   "execution_count": 0,
   "metadata": {
    "application/vnd.databricks.v1+cell": {
     "cellMetadata": {
      "byteLimit": 2048000,
      "rowLimit": 10000
     },
     "inputWidgets": {},
     "nuid": "fa8074f9-814f-4bb9-9e74-9b2045741ebe",
     "showTitle": false,
     "tableResultSettingsMap": {},
     "title": ""
    }
   },
   "outputs": [],
   "source": [
    "import datetime as dt\n",
    "from pyspark.sql import functions as F\n",
    "\n",
    "# Date to match your Bronze ingest\n",
    "TODAY = \"2025-05-21\"\n",
    "\n",
    "# Bronze and Silver base paths\n",
    "BRONZE_PATH = f\"dbfs:/bronze/gtfs_static/{TODAY}\"\n",
    "SILVER_PATH = f\"dbfs:/silver/gtfs_static/{TODAY}\"\n"
   ]
  },
  {
   "cell_type": "code",
   "execution_count": 0,
   "metadata": {
    "application/vnd.databricks.v1+cell": {
     "cellMetadata": {
      "byteLimit": 2048000,
      "rowLimit": 10000
     },
     "inputWidgets": {},
     "nuid": "9c560c87-42d4-4050-bfe4-8dbf60de766d",
     "showTitle": false,
     "tableResultSettingsMap": {},
     "title": ""
    }
   },
   "outputs": [],
   "source": [
    "df_stops = (\n",
    "    spark.read.format(\"delta\").load(f\"{BRONZE_PATH}/stops\")\n",
    "    .withColumn(\"stop_lat\", F.col(\"stop_lat\").cast(\"double\"))\n",
    "    .withColumn(\"stop_lon\", F.col(\"stop_lon\").cast(\"double\"))\n",
    "    .withColumn(\"location\", F.expr(\"struct(stop_lat, stop_lon)\"))\n",
    "    .withColumn(\"ingestion_ts\", F.current_timestamp())\n",
    ")\n",
    "\n",
    "# Write to Silver\n",
    "(\n",
    "    df_stops.write\n",
    "    .format(\"delta\")\n",
    "    .mode(\"overwrite\")\n",
    "    .save(f\"{SILVER_PATH}/stops\")\n",
    ")\n"
   ]
  },
  {
   "cell_type": "code",
   "execution_count": 0,
   "metadata": {
    "application/vnd.databricks.v1+cell": {
     "cellMetadata": {
      "byteLimit": 2048000,
      "rowLimit": 10000
     },
     "inputWidgets": {},
     "nuid": "51c43187-f761-4778-a2df-ad4e983e87bd",
     "showTitle": false,
     "tableResultSettingsMap": {},
     "title": ""
    }
   },
   "outputs": [],
   "source": [
    "spark.read.format(\"delta\").load(f\"{SILVER_PATH}/stops\").show(5)\n"
   ]
  },
  {
   "cell_type": "code",
   "execution_count": 0,
   "metadata": {
    "application/vnd.databricks.v1+cell": {
     "cellMetadata": {
      "byteLimit": 2048000,
      "rowLimit": 10000
     },
     "inputWidgets": {},
     "nuid": "071ce9ee-7cee-4c15-9c19-492803795e9a",
     "showTitle": false,
     "tableResultSettingsMap": {},
     "title": ""
    }
   },
   "outputs": [],
   "source": [
    "spark.read.format(\"delta\").load(f\"{SILVER_PATH}/stops\").printSchema()\n"
   ]
  },
  {
   "cell_type": "code",
   "execution_count": 0,
   "metadata": {
    "application/vnd.databricks.v1+cell": {
     "cellMetadata": {
      "byteLimit": 2048000,
      "rowLimit": 10000
     },
     "inputWidgets": {},
     "nuid": "1ae208b7-05eb-4beb-8b98-a18435987d9f",
     "showTitle": false,
     "tableResultSettingsMap": {},
     "title": ""
    }
   },
   "outputs": [],
   "source": [
    "df_silver = spark.read.format(\"delta\").load(f\"{SILVER_PATH}/stops\")\n",
    "\n",
    "# Show only location struct\n",
    "df_silver.select(\"stop_id\", \"location\").show(5, truncate=False)\n"
   ]
  },
  {
   "cell_type": "code",
   "execution_count": 0,
   "metadata": {
    "application/vnd.databricks.v1+cell": {
     "cellMetadata": {
      "byteLimit": 2048000,
      "rowLimit": 10000
     },
     "inputWidgets": {},
     "nuid": "7600e5d9-3f15-42da-a668-2e08d3e8028c",
     "showTitle": false,
     "tableResultSettingsMap": {},
     "title": ""
    }
   },
   "outputs": [],
   "source": [
    "df_silver.select(\n",
    "    \"stop_id\",\n",
    "    \"location.stop_lat\",\n",
    "    \"location.stop_lon\"\n",
    ").show(5)\n"
   ]
  },
  {
   "cell_type": "code",
   "execution_count": 0,
   "metadata": {
    "application/vnd.databricks.v1+cell": {
     "cellMetadata": {},
     "inputWidgets": {},
     "nuid": "dbbdd279-8b8e-4b14-ba0d-f945b6f9d0e9",
     "showTitle": false,
     "tableResultSettingsMap": {},
     "title": ""
    }
   },
   "outputs": [],
   "source": []
  }
 ],
 "metadata": {
  "application/vnd.databricks.v1+notebook": {
   "computePreferences": null,
   "dashboards": [],
   "environmentMetadata": {
    "base_environment": "",
    "environment_version": "2"
   },
   "inputWidgetPreferences": null,
   "language": "python",
   "notebookMetadata": {
    "pythonIndentUnit": 4
   },
   "notebookName": "10_transform_gtfs_static",
   "widgets": {}
  },
  "language_info": {
   "name": "python"
  }
 },
 "nbformat": 4,
 "nbformat_minor": 0
}
