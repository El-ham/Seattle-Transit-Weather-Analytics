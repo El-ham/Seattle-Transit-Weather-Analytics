{
 "cells": [
  {
   "cell_type": "markdown",
   "metadata": {
    "application/vnd.databricks.v1+cell": {
     "cellMetadata": {},
     "inputWidgets": {},
     "nuid": "bdb31e4e-b563-4b99-9a96-e0ca88083630",
     "showTitle": false,
     "tableResultSettingsMap": {},
     "title": ""
    }
   },
   "source": [
    "## 10 - Transform GTFS Static Data (Silver Layer)\n",
    "\n",
    "This notebook processes static GTFS tables from the Bronze layer into a cleaned Silver format.\n",
    "\n",
    "### Purpose\n",
    "To clean and enrich core GTFS reference tables — including `stops`, `routes`, and `trips` — by applying casting, enrichment, and schema validation steps.\n",
    "\n",
    "### Workflow Summary\n",
    "- Reads static GTFS data (stops, routes, trips) from the Bronze layer\n",
    "- Applies column type casting and adds new columns (e.g., `location`, `ingestion_ts`)\n",
    "- Writes the cleaned data into Delta tables in the Silver layer for consistent downstream usage\n"
   ]
  },
  {
   "cell_type": "code",
   "execution_count": 0,
   "metadata": {
    "application/vnd.databricks.v1+cell": {
     "cellMetadata": {
      "byteLimit": 2048000,
      "rowLimit": 10000
     },
     "inputWidgets": {},
     "nuid": "fa8074f9-814f-4bb9-9e74-9b2045741ebe",
     "showTitle": false,
     "tableResultSettingsMap": {},
     "title": ""
    }
   },
   "outputs": [],
   "source": [
    "# Set the static GTFS ingestion date (same as used in Bronze layer)\n",
    "import datetime as dt\n",
    "from pyspark.sql import functions as F\n",
    "\n",
    "# Date to match your Bronze ingest\n",
    "TODAY = \"2025-05-21\"\n",
    "\n",
    "# Set Bronze input and Silver output paths\n",
    "BRONZE_PATH = f\"dbfs:/bronze/gtfs_static/{TODAY}\"\n",
    "SILVER_PATH = f\"dbfs:/silver/gtfs_static/{TODAY}\"\n"
   ]
  },
  {
   "cell_type": "code",
   "execution_count": 0,
   "metadata": {
    "application/vnd.databricks.v1+cell": {
     "cellMetadata": {
      "byteLimit": 2048000,
      "rowLimit": 10000
     },
     "inputWidgets": {},
     "nuid": "9c560c87-42d4-4050-bfe4-8dbf60de766d",
     "showTitle": false,
     "tableResultSettingsMap": {},
     "title": ""
    }
   },
   "outputs": [],
   "source": [
    "# Transform 'stops' table — cast lat/lon to double, create location struct\n",
    "df_stops = (\n",
    "    spark.read.format(\"delta\").load(f\"{BRONZE_PATH}/stops\")\n",
    "    .withColumn(\"stop_lat\", F.col(\"stop_lat\").cast(\"double\"))\n",
    "    .withColumn(\"stop_lon\", F.col(\"stop_lon\").cast(\"double\"))\n",
    "    .withColumn(\"location\", F.expr(\"struct(stop_lat, stop_lon)\"))\n",
    "    .withColumn(\"ingestion_ts\", F.current_timestamp())\n",
    ")\n",
    "\n",
    "# Write to Silver layer\n",
    "(\n",
    "    df_stops.write\n",
    "    .format(\"delta\")\n",
    "    .mode(\"overwrite\")\n",
    "    .save(f\"{SILVER_PATH}/stops\")\n",
    ")\n"
   ]
  },
  {
   "cell_type": "code",
   "execution_count": 0,
   "metadata": {
    "application/vnd.databricks.v1+cell": {
     "cellMetadata": {
      "byteLimit": 2048000,
      "rowLimit": 10000
     },
     "inputWidgets": {},
     "nuid": "51c43187-f761-4778-a2df-ad4e983e87bd",
     "showTitle": false,
     "tableResultSettingsMap": {},
     "title": ""
    }
   },
   "outputs": [],
   "source": [
    "# Quick preview of Silver 'stops' table\n",
    "spark.read.format(\"delta\").load(f\"{SILVER_PATH}/stops\").show(5)\n"
   ]
  },
  {
   "cell_type": "code",
   "execution_count": 0,
   "metadata": {
    "application/vnd.databricks.v1+cell": {
     "cellMetadata": {
      "byteLimit": 2048000,
      "rowLimit": 10000
     },
     "inputWidgets": {},
     "nuid": "071ce9ee-7cee-4c15-9c19-492803795e9a",
     "showTitle": false,
     "tableResultSettingsMap": {},
     "title": ""
    }
   },
   "outputs": [],
   "source": [
    "# View schema of 'stops' to confirm lat/lon + location struct\n",
    "spark.read.format(\"delta\").load(f\"{SILVER_PATH}/stops\").printSchema()\n"
   ]
  },
  {
   "cell_type": "code",
   "execution_count": 0,
   "metadata": {
    "application/vnd.databricks.v1+cell": {
     "cellMetadata": {
      "byteLimit": 2048000,
      "rowLimit": 10000
     },
     "inputWidgets": {},
     "nuid": "1ae208b7-05eb-4beb-8b98-a18435987d9f",
     "showTitle": false,
     "tableResultSettingsMap": {},
     "title": ""
    }
   },
   "outputs": [],
   "source": [
    "# Show stop_id and full location struct\n",
    "df_silver = spark.read.format(\"delta\").load(f\"{SILVER_PATH}/stops\")\n",
    "df_silver.select(\"stop_id\", \"location\").show(5, truncate=False)\n"
   ]
  },
  {
   "cell_type": "code",
   "execution_count": 0,
   "metadata": {
    "application/vnd.databricks.v1+cell": {
     "cellMetadata": {
      "byteLimit": 2048000,
      "rowLimit": 10000
     },
     "inputWidgets": {},
     "nuid": "7600e5d9-3f15-42da-a668-2e08d3e8028c",
     "showTitle": false,
     "tableResultSettingsMap": {},
     "title": ""
    }
   },
   "outputs": [],
   "source": [
    "# View separated lat/lon from location struct\n",
    "df_silver.select(\n",
    "    \"stop_id\",\n",
    "    \"location.stop_lat\",\n",
    "    \"location.stop_lon\"\n",
    ").show(5)\n"
   ]
  },
  {
   "cell_type": "code",
   "execution_count": 0,
   "metadata": {
    "application/vnd.databricks.v1+cell": {
     "cellMetadata": {
      "byteLimit": 2048000,
      "rowLimit": 10000
     },
     "inputWidgets": {},
     "nuid": "dbbdd279-8b8e-4b14-ba0d-f945b6f9d0e9",
     "showTitle": false,
     "tableResultSettingsMap": {},
     "title": ""
    }
   },
   "outputs": [],
   "source": [
    "# Transform 'routes' table — apply casting and timestamp\n",
    "df_routes = (\n",
    "    spark.read.format(\"delta\").load(f\"{BRONZE_PATH}/routes\")\n",
    "    .withColumn(\"route_id\", F.col(\"route_id\").cast(\"string\"))\n",
    "    .withColumn(\"route_short_name\", F.col(\"route_short_name\").cast(\"string\"))\n",
    "    .withColumn(\"route_type\", F.col(\"route_type\").cast(\"int\"))\n",
    "    .withColumn(\"ingestion_ts\", F.current_timestamp())\n",
    ")\n",
    "# Save to Silver\n",
    "df_routes.write.format(\"delta\").mode(\"overwrite\").save(f\"{SILVER_PATH}/routes\")\n",
    "print(\"✓ Silver routes saved\")\n"
   ]
  },
  {
   "cell_type": "code",
   "execution_count": 0,
   "metadata": {
    "application/vnd.databricks.v1+cell": {
     "cellMetadata": {
      "byteLimit": 2048000,
      "rowLimit": 10000
     },
     "inputWidgets": {},
     "nuid": "5c29f618-8935-4ea1-96db-c67527b659e0",
     "showTitle": false,
     "tableResultSettingsMap": {},
     "title": ""
    }
   },
   "outputs": [],
   "source": [
    "# Transform 'trips' table — cast fields and enrich with timestamp\n",
    "df_trips = (\n",
    "    spark.read.format(\"delta\").load(f\"{BRONZE_PATH}/trips\")\n",
    "    .withColumn(\"trip_id\", F.col(\"trip_id\").cast(\"string\"))\n",
    "    .withColumn(\"route_id\", F.col(\"route_id\").cast(\"string\"))\n",
    "    .withColumn(\"service_id\", F.col(\"service_id\").cast(\"string\"))\n",
    "    .withColumn(\"direction_id\", F.col(\"direction_id\").cast(\"int\"))\n",
    "    .withColumn(\"ingestion_ts\", F.current_timestamp())\n",
    ")\n",
    "# Save to Silver\n",
    "df_trips.write.format(\"delta\").mode(\"overwrite\").save(f\"{SILVER_PATH}/trips\")\n",
    "print(\"✓ Silver trips saved\")\n"
   ]
  },
  {
   "cell_type": "code",
   "execution_count": 0,
   "metadata": {
    "application/vnd.databricks.v1+cell": {
     "cellMetadata": {
      "byteLimit": 2048000,
      "rowLimit": 10000
     },
     "inputWidgets": {},
     "nuid": "c32092e5-4f8e-49d7-aabd-256cc252eefc",
     "showTitle": false,
     "tableResultSettingsMap": {},
     "title": ""
    }
   },
   "outputs": [],
   "source": [
    "# Preview both 'routes' and 'trips' in Silver\n",
    "spark.read.format(\"delta\").load(f\"{SILVER_PATH}/routes\").show(5)\n",
    "spark.read.format(\"delta\").load(f\"{SILVER_PATH}/trips\").show(5)\n"
   ]
  },
  {
   "cell_type": "code",
   "execution_count": 0,
   "metadata": {
    "application/vnd.databricks.v1+cell": {
     "cellMetadata": {
      "byteLimit": 2048000,
      "rowLimit": 10000
     },
     "inputWidgets": {},
     "nuid": "d5574275-ad57-4347-a7c8-c02af9dd97ef",
     "showTitle": false,
     "tableResultSettingsMap": {},
     "title": ""
    }
   },
   "outputs": [],
   "source": [
    "# View schema of both Silver tables\n",
    "spark.read.format(\"delta\").load(f\"{SILVER_PATH}/routes\").printSchema()    # Routes\n",
    "spark.read.format(\"delta\").load(f\"{SILVER_PATH}/trips\").printSchema()     # Trips\n"
   ]
  },
  {
   "cell_type": "code",
   "execution_count": 0,
   "metadata": {
    "application/vnd.databricks.v1+cell": {
     "cellMetadata": {},
     "inputWidgets": {},
     "nuid": "5cf66f58-3357-4810-b6d1-fdbd88ad4d9c",
     "showTitle": false,
     "tableResultSettingsMap": {},
     "title": ""
    }
   },
   "outputs": [],
   "source": []
  }
 ],
 "metadata": {
  "application/vnd.databricks.v1+notebook": {
   "computePreferences": null,
   "dashboards": [],
   "environmentMetadata": {
    "base_environment": "",
    "environment_version": "2"
   },
   "inputWidgetPreferences": null,
   "language": "python",
   "notebookMetadata": {
    "pythonIndentUnit": 4
   },
   "notebookName": "10_transform_gtfs_static",
   "widgets": {}
  },
  "language_info": {
   "name": "python"
  }
 },
 "nbformat": 4,
 "nbformat_minor": 0
}
