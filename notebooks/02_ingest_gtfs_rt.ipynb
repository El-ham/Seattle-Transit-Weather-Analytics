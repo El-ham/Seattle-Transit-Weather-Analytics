{
 "cells": [
  {
   "cell_type": "code",
   "execution_count": 0,
   "metadata": {
    "application/vnd.databricks.v1+cell": {
     "cellMetadata": {
      "byteLimit": 2048000,
      "rowLimit": 10000
     },
     "inputWidgets": {},
     "nuid": "ba28c086-93be-429f-8d7e-5c273ac6217f",
     "showTitle": false,
     "tableResultSettingsMap": {},
     "title": ""
    }
   },
   "outputs": [],
   "source": [
    "%pip install gtfs-realtime-bindings --quiet\n",
    "dbutils.library.restartPython()\n"
   ]
  },
  {
   "cell_type": "code",
   "execution_count": 0,
   "metadata": {
    "application/vnd.databricks.v1+cell": {
     "cellMetadata": {
      "byteLimit": 2048000,
      "rowLimit": 10000
     },
     "inputWidgets": {},
     "nuid": "b2a412ab-da02-4f88-b9c7-88e656871867",
     "showTitle": false,
     "tableResultSettingsMap": {},
     "title": ""
    }
   },
   "outputs": [],
   "source": [
    "dbutils.library.restartPython()\n"
   ]
  },
  {
   "cell_type": "code",
   "execution_count": 0,
   "metadata": {
    "application/vnd.databricks.v1+cell": {
     "cellMetadata": {
      "byteLimit": 2048000,
      "rowLimit": 10000
     },
     "inputWidgets": {},
     "nuid": "6fb74d52-2cf7-46ec-a59a-c44010237433",
     "showTitle": false,
     "tableResultSettingsMap": {},
     "title": ""
    }
   },
   "outputs": [],
   "source": [
    "import datetime as dt\n",
    "from google.transit import gtfs_realtime_pb2\n",
    "import requests\n",
    "\n",
    "TODAY = \"2025-05-21\"   # or your actual ingestion date\n",
    "BRONZE_RT_PATH = f\"dbfs:/bronze/gtfs_rt/{TODAY}\"\n"
   ]
  },
  {
   "cell_type": "code",
   "execution_count": 0,
   "metadata": {
    "application/vnd.databricks.v1+cell": {
     "cellMetadata": {
      "byteLimit": 2048000,
      "rowLimit": 10000
     },
     "inputWidgets": {},
     "nuid": "7b67a7fc-fea1-45f7-ac00-53c5a0932bf1",
     "showTitle": false,
     "tableResultSettingsMap": {},
     "title": ""
    }
   },
   "outputs": [],
   "source": [
    "# URL = \"https://svc.metrotransit.org/gtfs/vehiclepositions.pb\"\n",
    "URL = \"https://s3.amazonaws.com/kcm-alerts-realtime-prod/vehiclepositions.pb\"\n",
    "response = requests.get(URL)\n",
    "feed = gtfs_realtime_pb2.FeedMessage()\n",
    "feed.ParseFromString(response.content)\n",
    "\n",
    "print(f\"# of entities: {len(feed.entity)}\")\n",
    "print(feed.entity[0]) if feed.entity else print('No vehicle updates available.')\n"
   ]
  },
  {
   "cell_type": "code",
   "execution_count": 0,
   "metadata": {
    "application/vnd.databricks.v1+cell": {
     "cellMetadata": {
      "byteLimit": 2048000,
      "rowLimit": 10000
     },
     "inputWidgets": {},
     "nuid": "b53600a3-977d-4fbe-9b05-56aa5f1cbbb3",
     "showTitle": false,
     "tableResultSettingsMap": {},
     "title": ""
    }
   },
   "outputs": [],
   "source": [
    "from pyspark.sql import SparkSession\n",
    "from pyspark.sql.types import StructType, StructField, StringType, DoubleType, LongType, TimestampType\n",
    "from datetime import datetime\n",
    "import time\n",
    "\n",
    "# Define schema for the DataFrame\n",
    "schema = StructType([\n",
    "    StructField(\"vehicle_id\", StringType(), True),\n",
    "    StructField(\"trip_id\", StringType(), True),\n",
    "    StructField(\"route_id\", StringType(), True),\n",
    "    StructField(\"latitude\", DoubleType(), True),\n",
    "    StructField(\"longitude\", DoubleType(), True),\n",
    "    StructField(\"timestamp\", LongType(), True),\n",
    "    StructField(\"ingestion_ts\", TimestampType(), True)\n",
    "])\n",
    "\n",
    "# Initialize an empty list to collect rows\n",
    "rows = []\n",
    "\n",
    "# Check if the feed has entities\n",
    "if feed.entity:\n",
    "    for entity in feed.entity:\n",
    "        vehicle = entity.vehicle\n",
    "        position = vehicle.position\n",
    "        trip = vehicle.trip\n",
    "\n",
    "        rows.append((\n",
    "            entity.id,\n",
    "            trip.trip_id,\n",
    "            trip.route_id,\n",
    "            position.latitude,\n",
    "            position.longitude,\n",
    "            vehicle.timestamp,\n",
    "            datetime.utcnow()\n",
    "        ))\n",
    "else:\n",
    "    print(\"No vehicle updates available. Creating an empty DataFrame.\")\n",
    "\n",
    "# Create Spark DataFrame\n",
    "df_rt = spark.createDataFrame(rows, schema)\n",
    "\n",
    "# Write to Bronze Delta Lake path\n",
    "df_rt.write.format(\"delta\").mode(\"overwrite\").save(BRONZE_RT_PATH)\n",
    "print(\"✓ GTFS-RT Bronze ingest complete\")\n"
   ]
  },
  {
   "cell_type": "code",
   "execution_count": 0,
   "metadata": {
    "application/vnd.databricks.v1+cell": {
     "cellMetadata": {
      "byteLimit": 2048000,
      "rowLimit": 10000
     },
     "inputWidgets": {},
     "nuid": "5c05c96b-7d45-4066-8360-0e0a82ea54cb",
     "showTitle": false,
     "tableResultSettingsMap": {},
     "title": ""
    }
   },
   "outputs": [],
   "source": [
    "df_check = spark.read.format(\"delta\").load(BRONZE_RT_PATH)\n",
    "df_check.show(5)\n"
   ]
  },
  {
   "cell_type": "code",
   "execution_count": 0,
   "metadata": {
    "application/vnd.databricks.v1+cell": {
     "cellMetadata": {},
     "inputWidgets": {},
     "nuid": "07bcbf6d-3393-4470-9697-d7797156dab8",
     "showTitle": false,
     "tableResultSettingsMap": {},
     "title": ""
    }
   },
   "outputs": [],
   "source": []
  }
 ],
 "metadata": {
  "application/vnd.databricks.v1+notebook": {
   "computePreferences": null,
   "dashboards": [],
   "environmentMetadata": {
    "base_environment": "",
    "environment_version": "2"
   },
   "inputWidgetPreferences": null,
   "language": "python",
   "notebookMetadata": {
    "pythonIndentUnit": 4
   },
   "notebookName": "02_ingest_gtfs_rt",
   "widgets": {}
  },
  "language_info": {
   "name": "python"
  }
 },
 "nbformat": 4,
 "nbformat_minor": 0
}
