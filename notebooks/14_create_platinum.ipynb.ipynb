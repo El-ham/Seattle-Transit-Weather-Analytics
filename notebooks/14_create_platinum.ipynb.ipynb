{
 "cells": [
  {
   "cell_type": "markdown",
   "metadata": {
    "application/vnd.databricks.v1+cell": {
     "cellMetadata": {},
     "inputWidgets": {},
     "nuid": "48738ac2-27d0-4be8-b4b7-1838c15e00ff",
     "showTitle": false,
     "tableResultSettingsMap": {},
     "title": ""
    }
   },
   "source": [
    "## 14 – Create Platinum Star‑Schema (for Power BI)\n",
    "\n",
    "This notebook materialises **dimension** and **fact** tables that Power BI (or any BI tool)\n",
    "can query efficiently.\n",
    "\n",
    "**Layer:** Platinum fact_transit_event\n",
    "\n",
    "**What it contains:** Real‑time vehicle events + nearest weather\n",
    "\n",
    "**Source:** Gold `gtfs_rt_weather_joined`& Platinum dim_route / Platinum dim_trip\n",
    "\n",
    "All tables are written to **`dbfs:/plat/*`** in Delta format.\n"
   ]
  },
  {
   "cell_type": "code",
   "execution_count": 0,
   "metadata": {
    "application/vnd.databricks.v1+cell": {
     "cellMetadata": {
      "byteLimit": 2048000,
      "rowLimit": 10000
     },
     "inputWidgets": {},
     "nuid": "6f8e61d2-6b5e-446b-9565-9e138a621576",
     "showTitle": false,
     "tableResultSettingsMap": {},
     "title": ""
    }
   },
   "outputs": [],
   "source": [
    "from pyspark.sql import functions as F, Window\n",
    "import datetime as dt\n",
    "\n",
    "# ---------- I/O locations ----------\n",
    "# Gold input path (real-time GTFS enriched with weather)\n",
    "GOLD_RT_WEATHER = \"dbfs:/gold/gtfs_rt_weather_joined\" \n",
    "# Platinum root path for fact/dim tables\n",
    "PLAT = \"dbfs:/plat\"                         "
   ]
  },
  {
   "cell_type": "code",
   "execution_count": 0,
   "metadata": {
    "application/vnd.databricks.v1+cell": {
     "cellMetadata": {
      "byteLimit": 2048000,
      "rowLimit": 10000
     },
     "inputWidgets": {},
     "nuid": "0a6fc5a2-b8be-49c3-8579-6cdedaa316b9",
     "showTitle": false,
     "tableResultSettingsMap": {},
     "title": ""
    }
   },
   "outputs": [],
   "source": [
    "# Load dimension tables from Platinum layer\n",
    "dim_trip = spark.read.format(\"delta\").load(f\"{PLAT}/dim_trip\")\n",
    "dim_route = spark.read.format(\"delta\").load(f\"{PLAT}/dim_route\")"
   ]
  },
  {
   "cell_type": "code",
   "execution_count": 0,
   "metadata": {
    "application/vnd.databricks.v1+cell": {
     "cellMetadata": {
      "byteLimit": 2048000,
      "rowLimit": 10000
     },
     "inputWidgets": {},
     "nuid": "f7433a55-3a75-4ed0-9c98-6fe8e4df2e29",
     "showTitle": false,
     "tableResultSettingsMap": {},
     "title": ""
    }
   },
   "outputs": [],
   "source": [
    "# Load enriched GTFS + Weather Gold data\n",
    "fact = (\n",
    "    spark.read.format(\"delta\").load(GOLD_RT_WEATHER)\n",
    "    )\n",
    "print(f\"Events loaded: {fact.count()}\")\n"
   ]
  },
  {
   "cell_type": "code",
   "execution_count": 0,
   "metadata": {
    "application/vnd.databricks.v1+cell": {
     "cellMetadata": {
      "byteLimit": 2048000,
      "rowLimit": 10000
     },
     "inputWidgets": {},
     "nuid": "ce7a4554-8bdb-4361-b1c0-f0481af00607",
     "showTitle": false,
     "tableResultSettingsMap": {},
     "title": ""
    }
   },
   "outputs": [],
   "source": [
    "# Join with trip dimension table using SCD2 logic\n",
    "# Match on trip_id AND timestamp within the [start_time, end_time) window\n",
    "cond_trip = (\n",
    "    (F.col(\"f.trip_id\") == F.col(\"t.trip_id\")) &\n",
    "    (F.col(\"f.event_ts\") >= F.col(\"t.start_time\")) &\n",
    "    (F.col(\"f.event_ts\") <  F.coalesce(F.col(\"t.end_time\"),\n",
    "                                       F.lit(\"9999-12-31 23:59:59\")))\n",
    ")\n",
    "# Join and add trip_sk\n",
    "fact = (\n",
    "    fact.alias(\"f\")\n",
    "    .join(dim_trip.alias(\"t\"), cond_trip, \"left\")\n",
    "    .select(\"f.*\", \"t.trip_sk\")\n",
    ").drop(\"t.route_id\") # drop duplicate/unused column"
   ]
  },
  {
   "cell_type": "code",
   "execution_count": 0,
   "metadata": {
    "application/vnd.databricks.v1+cell": {
     "cellMetadata": {
      "byteLimit": 2048000,
      "rowLimit": 10000
     },
     "inputWidgets": {},
     "nuid": "54963fe9-22ff-4c78-971d-b9114e039e3e",
     "showTitle": false,
     "tableResultSettingsMap": {},
     "title": ""
    }
   },
   "outputs": [],
   "source": [
    "# Join with route dimension table using SCD2 logic\n",
    "cond_route = (\n",
    "    (F.col(\"f.route_id\") == F.col(\"r.route_id\")) &\n",
    "    (F.col(\"f.event_ts\") >= F.col(\"r.start_time\")) &\n",
    "    (F.col(\"f.event_ts\") <  F.coalesce(F.col(\"r.end_time\"),\n",
    "                                       F.lit(\"9999-12-31 23:59:59\")))\n",
    ")\n",
    "# Join and add route_sk\n",
    "fact = (\n",
    "    fact.alias(\"f\")\n",
    "    .join(dim_route.alias(\"r\"), cond_route, \"left\")\n",
    "    .select(\"f.*\", \"r.route_sk\")\n",
    ")"
   ]
  },
  {
   "cell_type": "code",
   "execution_count": 0,
   "metadata": {
    "application/vnd.databricks.v1+cell": {
     "cellMetadata": {
      "byteLimit": 2048000,
      "rowLimit": 10000
     },
     "inputWidgets": {},
     "nuid": "35075873-161b-42a8-91bb-5233c5b7f3ea",
     "showTitle": false,
     "tableResultSettingsMap": {},
     "title": ""
    }
   },
   "outputs": [],
   "source": [
    "# Drop unnecessary columns to keep fact table lean\n",
    "fact_clean = (\n",
    "    fact\n",
    "    .drop(\"trip_id\", \"route_id\",            # Already replaced by SKs\n",
    "          \"shortForecast\",\n",
    "          \"route_short_name\", \"route_type\",\n",
    "          \"timestamp\" , \"direction_id\", \n",
    "          \"temperature\", \"condition\", \n",
    "          \"windSpeed\",\"forecast_retrieved_at\"\n",
    "          ) # keep dims lean too\n",
    ")\n",
    "# Write final fact_transit_event table to Platinum layer\n",
    "fact_clean.write \\\n",
    "    .format(\"delta\") \\\n",
    "    .mode(\"overwrite\") \\\n",
    "    .partitionBy(\"ingestion_date\") \\\n",
    "    .save(f\"{PLAT}/fact_transit_event\")\n",
    "\n",
    "print(f\"✓ fact_transit_event rows: {fact_clean.count()}\")\n"
   ]
  },
  {
   "cell_type": "code",
   "execution_count": 0,
   "metadata": {
    "application/vnd.databricks.v1+cell": {
     "cellMetadata": {
      "byteLimit": 2048000,
      "rowLimit": 10000
     },
     "inputWidgets": {},
     "nuid": "243ef24c-6fe1-4ec2-b20c-3d3d06f4e22a",
     "showTitle": false,
     "tableResultSettingsMap": {},
     "title": ""
    }
   },
   "outputs": [],
   "source": [
    "# Preview the cleaned fact table\n",
    "fact_clean.display()"
   ]
  }
 ],
 "metadata": {
  "application/vnd.databricks.v1+notebook": {
   "computePreferences": null,
   "dashboards": [],
   "environmentMetadata": {
    "base_environment": "",
    "environment_version": "2"
   },
   "inputWidgetPreferences": null,
   "language": "python",
   "notebookMetadata": {
    "pythonIndentUnit": 4
   },
   "notebookName": "14_create_platinum.ipynb",
   "widgets": {}
  },
  "language_info": {
   "name": "python"
  }
 },
 "nbformat": 4,
 "nbformat_minor": 0
}
