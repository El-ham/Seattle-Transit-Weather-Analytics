{
 "cells": [
  {
   "cell_type": "markdown",
   "metadata": {
    "application/vnd.databricks.v1+cell": {
     "cellMetadata": {},
     "inputWidgets": {},
     "nuid": "2d367c59-bd0f-49d6-abd4-16c8349001cc",
     "showTitle": false,
     "tableResultSettingsMap": {},
     "title": ""
    }
   },
   "source": [
    "## 99 - Cleanup: Remove Bad Records from Silver and Gold Layers\n",
    "\n",
    "This notebook performs cleanup operations to ensure the quality and integrity of data in the Silver and Gold layers by deleting records with invalid or placeholder values (e.g., `1970-01-01` timestamps).\n",
    "\n",
    "### Purpose\n",
    "To remove corrupted or default timestamped rows from GTFS real-time and weather datasets, ensuring accurate analytics and visualizations.\n",
    "\n",
    "### Workflow Summary\n",
    "- Deletes GTFS real-time records with `event_date = '1970-01-01'`\n",
    "- Deletes weather records with missing or invalid `forecast_time`\n",
    "- Applies deletions across Silver and Gold Delta tables\n",
    "- Validates cleanup with row counts after deletion\n"
   ]
  },
  {
   "cell_type": "code",
   "execution_count": 0,
   "metadata": {
    "application/vnd.databricks.v1+cell": {
     "cellMetadata": {
      "byteLimit": 2048000,
      "rowLimit": 10000
     },
     "inputWidgets": {},
     "nuid": "f717e0b8-8d4d-4cd3-b786-f4155059fcc2",
     "showTitle": false,
     "tableResultSettingsMap": {},
     "title": ""
    }
   },
   "outputs": [],
   "source": [
    "# Delete corrupted GTFS-RT Silver rows with Unix epoch default date\n",
    "spark.sql(\"\"\"\n",
    "DELETE FROM delta.`dbfs:/silver/gtfs_rt`\n",
    "WHERE event_date = '1970-01-01'\n",
    "\"\"\")\n"
   ]
  },
  {
   "cell_type": "code",
   "execution_count": 0,
   "metadata": {
    "application/vnd.databricks.v1+cell": {
     "cellMetadata": {
      "byteLimit": 2048000,
      "rowLimit": 10000
     },
     "inputWidgets": {},
     "nuid": "1881bc80-f38a-42ac-a02d-ab15fbf6fa52",
     "showTitle": false,
     "tableResultSettingsMap": {},
     "title": ""
    }
   },
   "outputs": [],
   "source": [
    "# Confirm deletion was successful (should return 0)\n",
    "spark.read.format(\"delta\").load(\"dbfs:/silver/gtfs_rt\") \\\n",
    "    .filter(\"event_date = '1970-01-01'\") \\\n",
    "    .count()\n"
   ]
  },
  {
   "cell_type": "code",
   "execution_count": 0,
   "metadata": {
    "application/vnd.databricks.v1+cell": {
     "cellMetadata": {
      "byteLimit": 2048000,
      "rowLimit": 10000
     },
     "inputWidgets": {},
     "nuid": "1b463618-17b6-4f3b-89ea-6a5785d0df14",
     "showTitle": false,
     "tableResultSettingsMap": {},
     "title": ""
    }
   },
   "outputs": [],
   "source": [
    "# Delete matching bad records in GTFS-RT Enriched Gold layer\n",
    "spark.sql(\"\"\"\n",
    "DELETE FROM delta.`dbfs:/gold/gtfs_rt_enriched`\n",
    "WHERE event_date = '1970-01-01'\n",
    "\"\"\")\n"
   ]
  },
  {
   "cell_type": "code",
   "execution_count": 0,
   "metadata": {
    "application/vnd.databricks.v1+cell": {
     "cellMetadata": {
      "byteLimit": 2048000,
      "rowLimit": 10000
     },
     "inputWidgets": {},
     "nuid": "ea253dad-5a42-42cb-a3c4-8d096180c907",
     "showTitle": false,
     "tableResultSettingsMap": {},
     "title": ""
    }
   },
   "outputs": [],
   "source": [
    "# Delete bad records from GTFS-RT + Weather joined table\n",
    "spark.sql(\"\"\"\n",
    "DELETE FROM delta.`dbfs:/gold/gtfs_rt_weather_joined`\n",
    "WHERE event_date = '1970-01-01'\n",
    "\"\"\")\n"
   ]
  },
  {
   "cell_type": "code",
   "execution_count": 0,
   "metadata": {
    "application/vnd.databricks.v1+cell": {
     "cellMetadata": {
      "byteLimit": 2048000,
      "rowLimit": 10000
     },
     "inputWidgets": {},
     "nuid": "6b0bb005-8fae-4f64-bf60-e6fcf58c5d60",
     "showTitle": false,
     "tableResultSettingsMap": {},
     "title": ""
    }
   },
   "outputs": [],
   "source": [
    "# Confirm deletion in both Gold tables\n",
    "for path in [\"dbfs:/gold/gtfs_rt_enriched\", \"dbfs:/gold/gtfs_rt_weather_joined\"]:\n",
    "    count = spark.read.format(\"delta\").load(path).filter(\"event_date = '1970-01-01'\").count()\n",
    "    print(f\"{path} — 1970 count:\", count)\n"
   ]
  },
  {
   "cell_type": "code",
   "execution_count": 0,
   "metadata": {
    "application/vnd.databricks.v1+cell": {
     "cellMetadata": {
      "byteLimit": 2048000,
      "rowLimit": 10000
     },
     "inputWidgets": {},
     "nuid": "28bd547b-ba57-4617-9ad9-7c0d52485dc1",
     "showTitle": false,
     "tableResultSettingsMap": {},
     "title": ""
    }
   },
   "outputs": [],
   "source": [
    "# Delete weather records with null or default forecast_time\n",
    "spark.sql(\"\"\"\n",
    "DELETE FROM delta.`dbfs:/silver/weather`\n",
    "WHERE forecast_time IS NULL OR DATE(forecast_time) = '1970-01-01'\n",
    "\"\"\")\n"
   ]
  },
  {
   "cell_type": "code",
   "execution_count": 0,
   "metadata": {
    "application/vnd.databricks.v1+cell": {
     "cellMetadata": {
      "byteLimit": 2048000,
      "rowLimit": 10000
     },
     "inputWidgets": {},
     "nuid": "fea043a0-9dff-4739-9fb6-975967127772",
     "showTitle": false,
     "tableResultSettingsMap": {},
     "title": ""
    }
   },
   "outputs": [],
   "source": [
    "# Confirm deletion of bad weather rows\n",
    "spark.read.format(\"delta\").load(\"dbfs:/silver/weather\") \\\n",
    "    .filter(\"forecast_time IS NULL OR DATE(forecast_time) = '1970-01-01'\") \\\n",
    "    .count()\n"
   ]
  },
  {
   "cell_type": "code",
   "execution_count": 0,
   "metadata": {
    "application/vnd.databricks.v1+cell": {
     "cellMetadata": {},
     "inputWidgets": {},
     "nuid": "5cb86f5d-a6c4-45b7-b70a-21d2ad796f48",
     "showTitle": false,
     "tableResultSettingsMap": {},
     "title": ""
    }
   },
   "outputs": [],
   "source": []
  }
 ],
 "metadata": {
  "application/vnd.databricks.v1+notebook": {
   "computePreferences": null,
   "dashboards": [],
   "environmentMetadata": {
    "base_environment": "",
    "environment_version": "2"
   },
   "inputWidgetPreferences": null,
   "language": "python",
   "notebookMetadata": {
    "pythonIndentUnit": 4
   },
   "notebookName": "99_cleanup_silver_rt.ipynb",
   "widgets": {}
  },
  "language_info": {
   "name": "python"
  }
 },
 "nbformat": 4,
 "nbformat_minor": 0
}
