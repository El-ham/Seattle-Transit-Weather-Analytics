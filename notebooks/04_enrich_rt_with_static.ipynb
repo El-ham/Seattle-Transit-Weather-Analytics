{
 "cells": [
  {
   "cell_type": "code",
   "execution_count": 0,
   "metadata": {
    "application/vnd.databricks.v1+cell": {
     "cellMetadata": {
      "byteLimit": 2048000,
      "rowLimit": 10000
     },
     "inputWidgets": {},
     "nuid": "b1be6fe2-df63-4ea9-8b29-002b52de63d1",
     "showTitle": false,
     "tableResultSettingsMap": {},
     "title": ""
    }
   },
   "outputs": [],
   "source": [
    "TODAY = \"2025-05-25\"            # for real-time input (df_rt)\n",
    "STATIC_DATE = \"2025-05-21\"      # for static GTFS inputs (df_trips, df_routes)\n"
   ]
  },
  {
   "cell_type": "code",
   "execution_count": 0,
   "metadata": {
    "application/vnd.databricks.v1+cell": {
     "cellMetadata": {
      "byteLimit": 2048000,
      "rowLimit": 10000
     },
     "inputWidgets": {},
     "nuid": "6c6b8f3c-ff43-4031-801f-7f3a7e8ac104",
     "showTitle": false,
     "tableResultSettingsMap": {},
     "title": ""
    }
   },
   "outputs": [],
   "source": [
    "import datetime as dt\n",
    "from pyspark.sql import functions as F\n",
    "\n",
    "\n",
    "# Silver inputs\n",
    "RT_SILVER_PATH     = f\"dbfs:/silver/gtfs_rt/{TODAY}\"\n",
    "TRIPS_SILVER_PATH  = f\"dbfs:/silver/gtfs_static/{STATIC_DATE}/trips\"\n",
    "ROUTES_SILVER_PATH = f\"dbfs:/silver/gtfs_static/{STATIC_DATE}/routes\"\n",
    "\n",
    "# Gold output\n",
    "GOLD_PATH = f\"dbfs:/gold/gtfs_rt_enriched/{TODAY}\"\n"
   ]
  },
  {
   "cell_type": "code",
   "execution_count": 0,
   "metadata": {
    "application/vnd.databricks.v1+cell": {
     "cellMetadata": {
      "byteLimit": 2048000,
      "rowLimit": 10000
     },
     "inputWidgets": {},
     "nuid": "16654390-21c4-4f3d-9e9c-042cd77c12fb",
     "showTitle": false,
     "tableResultSettingsMap": {},
     "title": ""
    }
   },
   "outputs": [],
   "source": [
    "df_rt     = spark.read.format(\"delta\").load(RT_SILVER_PATH)\n",
    "df_trips  = spark.read.format(\"delta\").load(TRIPS_SILVER_PATH)\n",
    "df_routes = spark.read.format(\"delta\").load(ROUTES_SILVER_PATH)\n"
   ]
  },
  {
   "cell_type": "code",
   "execution_count": 0,
   "metadata": {
    "application/vnd.databricks.v1+cell": {
     "cellMetadata": {
      "byteLimit": 2048000,
      "rowLimit": 10000
     },
     "inputWidgets": {},
     "nuid": "efeea07b-1682-42d5-87d4-833d513503ee",
     "showTitle": false,
     "tableResultSettingsMap": {},
     "title": ""
    }
   },
   "outputs": [],
   "source": [
    "# If df_rt had route_id already, we’ll drop it before the joins\n",
    "df_rt_clean = df_rt.drop(\"route_id\")  # 👈 prevents duplicate later\n",
    "\n",
    "df_joined = (\n",
    "    df_rt_clean\n",
    "    .join(df_trips.select(\"trip_id\", \"route_id\", \"direction_id\"), on=\"trip_id\", how=\"left\")\n",
    ")\n",
    "\n",
    "df_enriched = (\n",
    "    df_joined\n",
    "    .join(\n",
    "        df_routes.select(\"route_id\", \"route_short_name\", \"route_type\"),\n",
    "        on=\"route_id\",\n",
    "        how=\"left\"\n",
    "    )\n",
    "    .withColumn(\"joined_at\", F.current_timestamp())\n",
    ")\n"
   ]
  },
  {
   "cell_type": "code",
   "execution_count": 0,
   "metadata": {
    "application/vnd.databricks.v1+cell": {
     "cellMetadata": {
      "byteLimit": 2048000,
      "rowLimit": 10000
     },
     "inputWidgets": {},
     "nuid": "ef05a036-c3be-4a0f-a621-537e2ac9c0a4",
     "showTitle": false,
     "tableResultSettingsMap": {},
     "title": ""
    }
   },
   "outputs": [],
   "source": [
    "df_enriched.select(\n",
    "    \"vehicle_id\", \"route_short_name\", \"direction_id\", \n",
    "    \"latitude\", \"longitude\", \"event_ts\", \"joined_at\"\n",
    ").show(5, truncate=False)\n"
   ]
  },
  {
   "cell_type": "code",
   "execution_count": 0,
   "metadata": {
    "application/vnd.databricks.v1+cell": {
     "cellMetadata": {
      "byteLimit": 2048000,
      "rowLimit": 10000
     },
     "inputWidgets": {},
     "nuid": "b5578d8a-209f-424c-bb4c-9434cd293905",
     "showTitle": false,
     "tableResultSettingsMap": {},
     "title": ""
    }
   },
   "outputs": [],
   "source": [
    "df_enriched.write.format(\"delta\").mode(\"overwrite\").save(GOLD_PATH)\n",
    "print(\"✓ GTFS-RT Enriched data saved to Gold\")"
   ]
  },
  {
   "cell_type": "code",
   "execution_count": 0,
   "metadata": {
    "application/vnd.databricks.v1+cell": {
     "cellMetadata": {
      "byteLimit": 2048000,
      "rowLimit": 10000
     },
     "inputWidgets": {},
     "nuid": "95025e84-0e40-4727-8d28-0df84d2f25fb",
     "showTitle": false,
     "tableResultSettingsMap": {},
     "title": ""
    }
   },
   "outputs": [],
   "source": [
    "print(df_enriched.columns)\n"
   ]
  },
  {
   "cell_type": "code",
   "execution_count": 0,
   "metadata": {
    "application/vnd.databricks.v1+cell": {
     "cellMetadata": {},
     "inputWidgets": {},
     "nuid": "0b73c47f-0dc1-4642-87e4-ca34f53a0ca6",
     "showTitle": false,
     "tableResultSettingsMap": {},
     "title": ""
    }
   },
   "outputs": [],
   "source": []
  }
 ],
 "metadata": {
  "application/vnd.databricks.v1+notebook": {
   "computePreferences": null,
   "dashboards": [],
   "environmentMetadata": {
    "base_environment": "",
    "environment_version": "2"
   },
   "inputWidgetPreferences": null,
   "language": "python",
   "notebookMetadata": {
    "pythonIndentUnit": 4
   },
   "notebookName": "04_enrich_rt_with_static",
   "widgets": {}
  },
  "language_info": {
   "name": "python"
  }
 },
 "nbformat": 4,
 "nbformat_minor": 0
}
