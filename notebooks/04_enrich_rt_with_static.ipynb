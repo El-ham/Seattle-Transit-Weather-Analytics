{
 "cells": [
  {
   "cell_type": "code",
   "execution_count": 0,
   "metadata": {
    "application/vnd.databricks.v1+cell": {
     "cellMetadata": {
      "byteLimit": 2048000,
      "rowLimit": 10000
     },
     "inputWidgets": {},
     "nuid": "4a970b4e-0339-4a60-9bdd-813c43ca2f4c",
     "showTitle": false,
     "tableResultSettingsMap": {},
     "title": ""
    }
   },
   "outputs": [],
   "source": [
    "# dbutils.fs.rm(\"dbfs:/gold/gtfs_rt_enriched/\", recurse=True)       One-time utility: This cell is only needed the very first time you switch from overwrite to append logic."
   ]
  },
  {
   "cell_type": "code",
   "execution_count": 0,
   "metadata": {
    "application/vnd.databricks.v1+cell": {
     "cellMetadata": {
      "byteLimit": 2048000,
      "rowLimit": 10000
     },
     "inputWidgets": {},
     "nuid": "b1be6fe2-df63-4ea9-8b29-002b52de63d1",
     "showTitle": false,
     "tableResultSettingsMap": {},
     "title": ""
    }
   },
   "outputs": [],
   "source": [
    "import datetime as dt\n",
    "\n",
    "# Use today for real-time ingestion (Silver input + Gold partition)\n",
    "INGESTION_DATE = dt.date.today().isoformat()\n",
    "\n",
    "# Keep static GTFS date as-is\n",
    "STATIC_DATE = \"2025-05-21\"\n"
   ]
  },
  {
   "cell_type": "code",
   "execution_count": 0,
   "metadata": {
    "application/vnd.databricks.v1+cell": {
     "cellMetadata": {
      "byteLimit": 2048000,
      "rowLimit": 10000
     },
     "inputWidgets": {},
     "nuid": "6c6b8f3c-ff43-4031-801f-7f3a7e8ac104",
     "showTitle": false,
     "tableResultSettingsMap": {},
     "title": ""
    }
   },
   "outputs": [],
   "source": [
    "from pyspark.sql import functions as F\n",
    "\n",
    "# Silver (partitioned) input — dynamic\n",
    "RT_SILVER_PATH = \"dbfs:/silver/gtfs_rt/\"\n",
    "\n",
    "# Static GTFS (same as before)\n",
    "TRIPS_SILVER_PATH  = f\"dbfs:/silver/gtfs_static/{STATIC_DATE}/trips\"\n",
    "ROUTES_SILVER_PATH = f\"dbfs:/silver/gtfs_static/{STATIC_DATE}/routes\"\n",
    "\n",
    "# Partitioned Gold output\n",
    "GOLD_PATH = \"dbfs:/gold/gtfs_rt_enriched/\"\n"
   ]
  },
  {
   "cell_type": "code",
   "execution_count": 0,
   "metadata": {
    "application/vnd.databricks.v1+cell": {
     "cellMetadata": {
      "byteLimit": 2048000,
      "rowLimit": 10000
     },
     "inputWidgets": {},
     "nuid": "16654390-21c4-4f3d-9e9c-042cd77c12fb",
     "showTitle": false,
     "tableResultSettingsMap": {},
     "title": ""
    }
   },
   "outputs": [],
   "source": [
    "# Read partitioned Silver table — filter by today's ingestion + validate input\n",
    "df_rt = (\n",
    "    spark.read.format(\"delta\").load(RT_SILVER_PATH)\n",
    "    .filter(F.col(\"ingestion_date\") == INGESTION_DATE)\n",
    "    .filter(F.col(\"trip_id\").isNotNull())  # ✅ Required for joining\n",
    "    .filter(F.col(\"latitude\").isNotNull() & F.col(\"longitude\").isNotNull())  # ✅ Required for location\n",
    ")\n",
    "\n",
    "\n",
    "df_trips  = spark.read.format(\"delta\").load(TRIPS_SILVER_PATH)\n",
    "df_routes = spark.read.format(\"delta\").load(ROUTES_SILVER_PATH)\n"
   ]
  },
  {
   "cell_type": "code",
   "execution_count": 0,
   "metadata": {
    "application/vnd.databricks.v1+cell": {
     "cellMetadata": {
      "byteLimit": 2048000,
      "rowLimit": 10000
     },
     "inputWidgets": {},
     "nuid": "efeea07b-1682-42d5-87d4-833d513503ee",
     "showTitle": false,
     "tableResultSettingsMap": {},
     "title": ""
    }
   },
   "outputs": [],
   "source": [
    "# If df_rt had route_id already, we’ll drop it before the joins\n",
    "df_rt_clean = df_rt.drop(\"route_id\")  # 👈 prevents duplicate later\n",
    "\n",
    "df_joined = (\n",
    "    df_rt_clean\n",
    "    .join(df_trips.select(\"trip_id\", \"route_id\", \"direction_id\"), on=\"trip_id\", how=\"left\")\n",
    ")\n",
    "\n",
    "df_enriched = (\n",
    "    df_joined\n",
    "    .join(\n",
    "        df_routes.select(\"route_id\", \"route_short_name\", \"route_type\"),\n",
    "        on=\"route_id\",\n",
    "        how=\"left\"\n",
    "    )\n",
    "    .withColumn(\"joined_at\", F.current_timestamp())\n",
    ")\n"
   ]
  },
  {
   "cell_type": "code",
   "execution_count": 0,
   "metadata": {
    "application/vnd.databricks.v1+cell": {
     "cellMetadata": {
      "byteLimit": 2048000,
      "rowLimit": 10000
     },
     "inputWidgets": {},
     "nuid": "984006f6-9f17-42e3-9db1-d183cd1f80cd",
     "showTitle": false,
     "tableResultSettingsMap": {},
     "title": ""
    }
   },
   "outputs": [],
   "source": [
    "# Sanity check — how many records have missing route_id or route_short_name?\n",
    "df_enriched.filter(F.col(\"route_id\").isNull() | F.col(\"route_short_name\").isNull()).count()\n"
   ]
  },
  {
   "cell_type": "code",
   "execution_count": 0,
   "metadata": {
    "application/vnd.databricks.v1+cell": {
     "cellMetadata": {
      "byteLimit": 2048000,
      "rowLimit": 10000
     },
     "inputWidgets": {},
     "nuid": "ef05a036-c3be-4a0f-a621-537e2ac9c0a4",
     "showTitle": false,
     "tableResultSettingsMap": {},
     "title": ""
    }
   },
   "outputs": [],
   "source": [
    "df_enriched.select(\n",
    "    \"vehicle_id\", \"route_short_name\", \"direction_id\", \n",
    "    \"latitude\", \"longitude\", \"event_ts\", \"joined_at\"\n",
    ").show(5, truncate=False)\n"
   ]
  },
  {
   "cell_type": "code",
   "execution_count": 0,
   "metadata": {
    "application/vnd.databricks.v1+cell": {
     "cellMetadata": {
      "byteLimit": 2048000,
      "rowLimit": 10000
     },
     "inputWidgets": {},
     "nuid": "b5578d8a-209f-424c-bb4c-9434cd293905",
     "showTitle": false,
     "tableResultSettingsMap": {},
     "title": ""
    }
   },
   "outputs": [],
   "source": [
    "# Append to partitioned Gold table\n",
    "df_enriched = df_enriched.withColumn(\"ingestion_date\", F.lit(INGESTION_DATE))\n",
    "\n",
    "df_enriched.write \\\n",
    "    .format(\"delta\") \\\n",
    "    .mode(\"append\") \\\n",
    "    .partitionBy(\"ingestion_date\") \\\n",
    "    .save(GOLD_PATH)\n",
    "\n",
    "print(\"✓ GTFS-RT Enriched data appended to Gold\")\n"
   ]
  },
  {
   "cell_type": "code",
   "execution_count": 0,
   "metadata": {
    "application/vnd.databricks.v1+cell": {
     "cellMetadata": {
      "byteLimit": 2048000,
      "rowLimit": 10000
     },
     "inputWidgets": {},
     "nuid": "95025e84-0e40-4727-8d28-0df84d2f25fb",
     "showTitle": false,
     "tableResultSettingsMap": {},
     "title": ""
    }
   },
   "outputs": [],
   "source": [
    "print(df_enriched.columns)\n"
   ]
  },
  {
   "cell_type": "code",
   "execution_count": 0,
   "metadata": {
    "application/vnd.databricks.v1+cell": {
     "cellMetadata": {},
     "inputWidgets": {},
     "nuid": "0b73c47f-0dc1-4642-87e4-ca34f53a0ca6",
     "showTitle": false,
     "tableResultSettingsMap": {},
     "title": ""
    }
   },
   "outputs": [],
   "source": []
  }
 ],
 "metadata": {
  "application/vnd.databricks.v1+notebook": {
   "computePreferences": null,
   "dashboards": [],
   "environmentMetadata": {
    "base_environment": "",
    "environment_version": "2"
   },
   "inputWidgetPreferences": null,
   "language": "python",
   "notebookMetadata": {
    "pythonIndentUnit": 4
   },
   "notebookName": "04_enrich_rt_with_static",
   "widgets": {}
  },
  "language_info": {
   "name": "python"
  }
 },
 "nbformat": 4,
 "nbformat_minor": 0
}
