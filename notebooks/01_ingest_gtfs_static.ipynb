{
 "cells": [
  {
   "cell_type": "markdown",
   "metadata": {
    "application/vnd.databricks.v1+cell": {
     "cellMetadata": {},
     "inputWidgets": {},
     "nuid": "e0c7bb2f-d269-428c-a4c8-bdd585fd98f6",
     "showTitle": false,
     "tableResultSettingsMap": {},
     "title": ""
    }
   },
   "source": [
    "## 01 - Ingest GTFS Static Data (Bronze Layer)\n",
    "\n",
    "This notebook downloads and ingests the **static GTFS feed** from King County Metro into the **Bronze Delta Lake layer**.\n",
    "\n",
    "### Purpose\n",
    "To extract and store core static transit reference data (routes, stops, trips, calendars, etc.) for use in later enrichment and analysis steps.\n",
    "\n",
    "### Workflow Summary\n",
    "- Downloads the latest GTFS static `.zip` file from [King County Metro GTFS](https://metro.kingcounty.gov/gtfs/)\n",
    "- Extracts and parses key `.txt` files (e.g., `routes.txt`, `stops.txt`, `calendar.txt`)\n",
    "- Converts them into Spark DataFrames\n",
    "- Writes each table to a separate **Delta table** under:\n"
   ]
  },
  {
   "cell_type": "code",
   "execution_count": 0,
   "metadata": {
    "application/vnd.databricks.v1+cell": {
     "cellMetadata": {
      "byteLimit": 2048000,
      "rowLimit": 10000
     },
     "inputWidgets": {},
     "nuid": "e0b1af74-eb05-4704-a328-5a91cc15c063",
     "showTitle": false,
     "tableResultSettingsMap": {},
     "title": ""
    }
   },
   "outputs": [],
   "source": [
    "### Download and Ingest GTFS Static Files\n",
    "from pyspark.sql import functions as F\n",
    "import requests, zipfile, io, datetime as dt, os, shutil, tempfile   # dt alias\n",
    "\n",
    "# ---------- config ----------\n",
    "GTFS_URL    = \"https://metro.kingcounty.gov/gtfs/google_transit.zip\"        # GTFS static data feed\n",
    "TODAY       = \"2025-05-21\"          # Static ingest date\n",
    "BRONZE_BASE = \"dbfs:/bronze\"\n",
    "BRONZE_PATH = f\"{BRONZE_BASE}/gtfs_static/{TODAY}\"\n",
    "\n",
    "# Create temporary directory for downloaded and extracted files\n",
    "tmp_dir = tempfile.mkdtemp(prefix=\"gtfs_\")\n",
    "print(f\"Temp dir: {tmp_dir}\")\n",
    "\n",
    "try:\n",
    "    print(\"Downloading GTFS zip …\")\n",
    "    z = zipfile.ZipFile(io.BytesIO(requests.get(GTFS_URL, timeout=30).content))\n",
    "\n",
    "    for name in z.namelist():\n",
    "        if not name.endswith(\".txt\"):\n",
    "            continue        # Skip non-text files\n",
    "        print(f\"Processing {name} …\")\n",
    "\n",
    "        # Extract file locally\n",
    "        local_file = os.path.join(tmp_dir, name)\n",
    "        os.makedirs(os.path.dirname(local_file), exist_ok=True)\n",
    "        with z.open(name) as src, open(local_file, \"wb\") as dst:\n",
    "            dst.write(src.read())\n",
    "\n",
    "        # Read into Spark DataFrame\n",
    "        df = (spark.read\n",
    "                .option(\"header\", True)\n",
    "                .csv(f\"file://{local_file}\"))\n",
    "\n",
    "        # Write to Bronze layer as Delta table\n",
    "        (df.write\n",
    "           .format(\"delta\")\n",
    "           .mode(\"overwrite\")\n",
    "           .save(f\"{BRONZE_PATH}/{name.replace('.txt','')}\"))\n",
    "\n",
    "    print(\"✓ GTFS static ingest complete\")\n",
    "\n",
    "finally:\n",
    "    shutil.rmtree(tmp_dir, ignore_errors=True) # Clean up temp files\n"
   ]
  },
  {
   "cell_type": "code",
   "execution_count": 0,
   "metadata": {
    "application/vnd.databricks.v1+cell": {
     "cellMetadata": {
      "byteLimit": 2048000,
      "rowLimit": 10000
     },
     "inputWidgets": {},
     "nuid": "e0a8c8bc-c90f-4d71-b2a9-7b456fafae03",
     "showTitle": false,
     "tableResultSettingsMap": {},
     "title": ""
    }
   },
   "outputs": [],
   "source": [
    "### Preview `stops` Table\n",
    "# Show a few rows from Bronze/stops\n",
    "spark.read.format(\"delta\").load(f\"{BRONZE_PATH}/stops\").show(5)"
   ]
  },
  {
   "cell_type": "code",
   "execution_count": 0,
   "metadata": {
    "application/vnd.databricks.v1+cell": {
     "cellMetadata": {
      "byteLimit": 2048000,
      "rowLimit": 10000
     },
     "inputWidgets": {},
     "nuid": "489dd847-47b9-4fb6-bfe6-737735663fce",
     "showTitle": false,
     "tableResultSettingsMap": {},
     "title": ""
    }
   },
   "outputs": [],
   "source": [
    "### Preview Other GTFS Tables\n",
    "# View 5 rows of 'routes' table\n",
    "spark.read.format(\"delta\").load(f\"{BRONZE_PATH}/routes\").show(5)\n",
    "\n",
    "# View 'calendar' table\n",
    "spark.read.format(\"delta\").load(f\"{BRONZE_PATH}/calendar\").show(5)\n",
    "\n",
    "# View 'trips' table\n",
    "spark.read.format(\"delta\").load(f\"{BRONZE_PATH}/trips\").show(5)\n"
   ]
  },
  {
   "cell_type": "code",
   "execution_count": 0,
   "metadata": {
    "application/vnd.databricks.v1+cell": {
     "cellMetadata": {
      "byteLimit": 2048000,
      "rowLimit": 10000
     },
     "inputWidgets": {},
     "nuid": "71393c42-9313-43b0-a4a9-95c887e862ba",
     "showTitle": false,
     "tableResultSettingsMap": {},
     "title": ""
    }
   },
   "outputs": [],
   "source": [
    "### Inspect Route Metadata\n",
    "# Check key route attributes\n",
    "# route_type defines the mode of transportation (bus, rail, etc.)\n",
    "df_routes = spark.read.format(\"delta\").load(f\"{BRONZE_PATH}/routes\")\n",
    "df_routes.select(\"route_id\", \"route_short_name\", \"route_type\").show(10)"
   ]
  },
  {
   "cell_type": "code",
   "execution_count": 0,
   "metadata": {
    "application/vnd.databricks.v1+cell": {
     "cellMetadata": {
      "byteLimit": 2048000,
      "rowLimit": 10000
     },
     "inputWidgets": {},
     "nuid": "08ccb9c2-bde5-49fb-9588-832af92dc216",
     "showTitle": false,
     "tableResultSettingsMap": {},
     "title": ""
    }
   },
   "outputs": [],
   "source": [
    "spark.read.format(\"delta\").load(\"dbfs:/bronze/gtfs_static/2025-05-21/stops\").show(5)\n"
   ]
  },
  {
   "cell_type": "code",
   "execution_count": 0,
   "metadata": {
    "application/vnd.databricks.v1+cell": {
     "cellMetadata": {},
     "inputWidgets": {},
     "nuid": "4ff73d4a-b3f9-44b9-8710-391c28f6613c",
     "showTitle": false,
     "tableResultSettingsMap": {},
     "title": ""
    }
   },
   "outputs": [],
   "source": []
  }
 ],
 "metadata": {
  "application/vnd.databricks.v1+notebook": {
   "computePreferences": null,
   "dashboards": [],
   "environmentMetadata": {
    "base_environment": "",
    "environment_version": "2"
   },
   "inputWidgetPreferences": null,
   "language": "python",
   "notebookMetadata": {
    "pythonIndentUnit": 4
   },
   "notebookName": "01_ingest_gtfs_static",
   "widgets": {}
  },
  "language_info": {
   "name": "python"
  }
 },
 "nbformat": 4,
 "nbformat_minor": 0
}
