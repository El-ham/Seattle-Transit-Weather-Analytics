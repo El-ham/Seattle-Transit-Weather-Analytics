{
 "cells": [
  {
   "cell_type": "code",
   "execution_count": 0,
   "metadata": {
    "application/vnd.databricks.v1+cell": {
     "cellMetadata": {
      "byteLimit": 2048000,
      "rowLimit": 10000
     },
     "inputWidgets": {},
     "nuid": "e0b1af74-eb05-4704-a328-5a91cc15c063",
     "showTitle": true,
     "tableResultSettingsMap": {},
     "title": "er"
    }
   },
   "outputs": [],
   "source": [
    "from pyspark.sql import functions as F\n",
    "import requests, zipfile, io, datetime as dt, os, shutil, tempfile   # dt alias\n",
    "\n",
    "# ---------- config ----------\n",
    "GTFS_URL    = \"https://metro.kingcounty.gov/gtfs/google_transit.zip\"\n",
    "TODAY       = dt.date.today().isoformat()          # ← use dt instead of datetime\n",
    "BRONZE_BASE = \"dbfs:/bronze\"\n",
    "BRONZE_PATH = f\"{BRONZE_BASE}/gtfs_static/{TODAY}\"\n",
    "\n",
    "tmp_dir = tempfile.mkdtemp(prefix=\"gtfs_\")\n",
    "print(f\"Temp dir: {tmp_dir}\")\n",
    "\n",
    "try:\n",
    "    print(\"Downloading GTFS zip …\")\n",
    "    z = zipfile.ZipFile(io.BytesIO(requests.get(GTFS_URL, timeout=30).content))\n",
    "\n",
    "    for name in z.namelist():\n",
    "        if not name.endswith(\".txt\"):\n",
    "            continue\n",
    "        print(f\"Processing {name} …\")\n",
    "\n",
    "        local_file = os.path.join(tmp_dir, name)\n",
    "        os.makedirs(os.path.dirname(local_file), exist_ok=True)\n",
    "        with z.open(name) as src, open(local_file, \"wb\") as dst:\n",
    "            dst.write(src.read())\n",
    "\n",
    "        df = (spark.read\n",
    "                .option(\"header\", True)\n",
    "                .csv(f\"file://{local_file}\"))\n",
    "\n",
    "        (df.write\n",
    "           .format(\"delta\")\n",
    "           .mode(\"overwrite\")\n",
    "           .save(f\"{BRONZE_PATH}/{name.replace('.txt','')}\"))\n",
    "\n",
    "    print(\"✓ GTFS static ingest complete\")\n",
    "\n",
    "finally:\n",
    "    shutil.rmtree(tmp_dir, ignore_errors=True)\n"
   ]
  },
  {
   "cell_type": "code",
   "execution_count": 0,
   "metadata": {
    "application/vnd.databricks.v1+cell": {
     "cellMetadata": {
      "byteLimit": 2048000,
      "rowLimit": 10000
     },
     "inputWidgets": {},
     "nuid": "e0a8c8bc-c90f-4d71-b2a9-7b456fafae03",
     "showTitle": false,
     "tableResultSettingsMap": {},
     "title": ""
    }
   },
   "outputs": [],
   "source": [
    "spark.read.format(\"delta\").load(f\"{BRONZE_PATH}/stops\").show(5)"
   ]
  },
  {
   "cell_type": "code",
   "execution_count": 0,
   "metadata": {
    "application/vnd.databricks.v1+cell": {
     "cellMetadata": {
      "byteLimit": 2048000,
      "rowLimit": 10000
     },
     "inputWidgets": {},
     "nuid": "489dd847-47b9-4fb6-bfe6-737735663fce",
     "showTitle": false,
     "tableResultSettingsMap": {},
     "title": ""
    }
   },
   "outputs": [],
   "source": [
    "# View 5 rows of 'routes' table\n",
    "spark.read.format(\"delta\").load(f\"{BRONZE_PATH}/routes\").show(5)\n",
    "\n",
    "# View 'calendar' table\n",
    "spark.read.format(\"delta\").load(f\"{BRONZE_PATH}/calendar\").show(5)\n",
    "\n",
    "# View 'trips' table\n",
    "spark.read.format(\"delta\").load(f\"{BRONZE_PATH}/trips\").show(5)\n"
   ]
  },
  {
   "cell_type": "code",
   "execution_count": 0,
   "metadata": {
    "application/vnd.databricks.v1+cell": {
     "cellMetadata": {
      "byteLimit": 2048000,
      "rowLimit": 10000
     },
     "inputWidgets": {},
     "nuid": "71393c42-9313-43b0-a4a9-95c887e862ba",
     "showTitle": false,
     "tableResultSettingsMap": {},
     "title": ""
    }
   },
   "outputs": [],
   "source": [
    "df_routes = spark.read.format(\"delta\").load(f\"{BRONZE_PATH}/routes\")\n",
    "df_routes.select(\"route_id\", \"route_short_name\", \"route_type\").show(10)"
   ]
  },
  {
   "cell_type": "code",
   "execution_count": 0,
   "metadata": {
    "application/vnd.databricks.v1+cell": {
     "cellMetadata": {},
     "inputWidgets": {},
     "nuid": "6c8b6589-b6b3-4665-a6e0-66dae30c2ce2",
     "showTitle": false,
     "tableResultSettingsMap": {},
     "title": ""
    }
   },
   "outputs": [],
   "source": []
  }
 ],
 "metadata": {
  "application/vnd.databricks.v1+notebook": {
   "computePreferences": null,
   "dashboards": [],
   "environmentMetadata": {
    "base_environment": "",
    "environment_version": "2"
   },
   "inputWidgetPreferences": null,
   "language": "python",
   "notebookMetadata": {
    "pythonIndentUnit": 4
   },
   "notebookName": "01_ingest_gtfs_static",
   "widgets": {}
  },
  "language_info": {
   "name": "python"
  }
 },
 "nbformat": 4,
 "nbformat_minor": 0
}
