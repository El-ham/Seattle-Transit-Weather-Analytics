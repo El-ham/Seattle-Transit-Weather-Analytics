{
 "cells": [
  {
   "cell_type": "markdown",
   "metadata": {
    "application/vnd.databricks.v1+cell": {
     "cellMetadata": {},
     "inputWidgets": {},
     "nuid": "3f0d9dfb-a7ed-40be-8d18-06266358d405",
     "showTitle": false,
     "tableResultSettingsMap": {},
     "title": ""
    }
   },
   "source": [
    "## 13 – Create Platinum Dimensions (Static Data)\n",
    "\n",
    "This notebook builds the **dimension tables** for static GTFS data (*routes*, and *trips*) in a **Platinum Star Schema**.\n",
    "\n",
    "- It uses **SCD Type 2** records from the Bronze layer as input  \n",
    "- Each dimension is enriched with a **surrogate key** for BI lookups  \n",
    "- Output is saved to `dbfs:/plat/` in Delta format (one table per dimension)\n"
   ]
  },
  {
   "cell_type": "code",
   "execution_count": 0,
   "metadata": {
    "application/vnd.databricks.v1+cell": {
     "cellMetadata": {
      "byteLimit": 2048000,
      "rowLimit": 10000
     },
     "inputWidgets": {},
     "nuid": "48f43d2a-cd60-421a-bd08-4b8add4fc5de",
     "showTitle": false,
     "tableResultSettingsMap": {},
     "title": ""
    }
   },
   "outputs": [],
   "source": [
    "from pyspark.sql import functions as F, Window\n",
    "import datetime as dt\n",
    "# Path to Bronze GTFS static data (with SCD2)\n",
    "BRONZE_STATIC = \"dbfs:/bronze/gtfs_static\" # SCD‑2 routes, trips\n",
    "# Output path for Platinum dimension tables\n",
    "PLAT = \"dbfs:/plat\""
   ]
  },
  {
   "cell_type": "code",
   "execution_count": 0,
   "metadata": {
    "application/vnd.databricks.v1+cell": {
     "cellMetadata": {
      "byteLimit": 2048000,
      "rowLimit": 10000
     },
     "inputWidgets": {},
     "nuid": "46fca635-741f-4def-bcfc-802341e2ce70",
     "showTitle": false,
     "tableResultSettingsMap": {},
     "title": ""
    }
   },
   "outputs": [],
   "source": [
    "def add_surrogate(df, cols, sk_col):\n",
    "    \"\"\"\n",
    "    Deterministically hashes the chosen columns so the same\n",
    "    natural‑key + start_time pair always gets the same surrogate key.\n",
    "    \"\"\"\n",
    "    concat_expr = F.concat_ws(\"||\", *[F.col(c).cast(\"string\") for c in cols])\n",
    "    return df.withColumn(sk_col, F.sha2(concat_expr, 256))"
   ]
  },
  {
   "cell_type": "code",
   "execution_count": 0,
   "metadata": {
    "application/vnd.databricks.v1+cell": {
     "cellMetadata": {
      "byteLimit": 2048000,
      "rowLimit": 10000
     },
     "inputWidgets": {},
     "nuid": "73d13ddf-27bd-409b-91cb-94d0519d8c55",
     "showTitle": false,
     "tableResultSettingsMap": {},
     "title": ""
    }
   },
   "outputs": [],
   "source": [
    "# Build dim_route table from SCD2 Bronze routes data (transformation)\n",
    "dim_route = (\n",
    "    spark.read.format(\"delta\").load(f\"{BRONZE_STATIC}/routes\")\n",
    "    .withColumn(\"route_id\", F.col(\"route_id\").cast(\"string\"))\n",
    "    .withColumn(\"route_short_name\", F.col(\"route_short_name\").cast(\"string\"))\n",
    "    .withColumn(\"route_type\", F.col(\"route_type\").cast(\"int\"))\n",
    "    .withColumn(\"ingestion_ts\", F.current_timestamp())\n",
    "    .transform(lambda d: add_surrogate(d, [\"route_id\", \"start_time\"],\n",
    "                                       \"route_sk\"))\n",
    ")\n",
    "\n",
    "# Write to Platinum layer\n",
    "dim_route.write.format(\"delta\").mode(\"overwrite\").save(f\"{PLAT}/dim_route\")\n",
    "print(f\"✓ dim_route rows: {dim_route.count()}\")\n"
   ]
  },
  {
   "cell_type": "code",
   "execution_count": 0,
   "metadata": {
    "application/vnd.databricks.v1+cell": {
     "cellMetadata": {
      "byteLimit": 2048000,
      "rowLimit": 10000
     },
     "inputWidgets": {},
     "nuid": "08ca1181-d6a7-43e9-8299-e62900d078dd",
     "showTitle": false,
     "tableResultSettingsMap": {},
     "title": ""
    }
   },
   "outputs": [],
   "source": [
    "# Count distinct surrogate keys to confirm uniqueness\n",
    "dim_route.select('route_sk').distinct().count()"
   ]
  },
  {
   "cell_type": "code",
   "execution_count": 0,
   "metadata": {
    "application/vnd.databricks.v1+cell": {
     "cellMetadata": {
      "byteLimit": 2048000,
      "rowLimit": 10000
     },
     "inputWidgets": {},
     "nuid": "c5e77e8e-9630-4557-88f9-eda5b494ecd4",
     "showTitle": false,
     "tableResultSettingsMap": {},
     "title": ""
    }
   },
   "outputs": [],
   "source": [
    "# Build dim_trip table from SCD2 Bronze trips data (transformation)\n",
    "dim_trip = (\n",
    "    spark.read.format(\"delta\").load(f\"{BRONZE_STATIC}/trips\")\n",
    "    .withColumn(\"trip_id\", F.col(\"trip_id\").cast(\"string\"))\n",
    "    .withColumn(\"route_id\", F.col(\"route_id\").cast(\"string\"))\n",
    "    .withColumn(\"service_id\", F.col(\"service_id\").cast(\"string\"))\n",
    "    .withColumn(\"direction_id\", F.col(\"direction_id\").cast(\"int\"))\n",
    "    .withColumn(\"ingestion_ts\", F.current_timestamp())\n",
    "    .transform(lambda d: add_surrogate(d, [\"trip_id\", \"start_time\"],\n",
    "                                       \"trip_sk\"))\n",
    ")\n",
    "# Write to Platinum layer\n",
    "dim_trip.write.format(\"delta\").mode(\"overwrite\").save(f\"{PLAT}/dim_trip\")\n",
    "print(f\"✓ dim_trip rows: {dim_trip.count()}\")\n"
   ]
  },
  {
   "cell_type": "code",
   "execution_count": 0,
   "metadata": {
    "application/vnd.databricks.v1+cell": {
     "cellMetadata": {
      "byteLimit": 2048000,
      "rowLimit": 10000
     },
     "inputWidgets": {},
     "nuid": "8c2cc55f-066e-4a42-8cd8-437c1a197b1e",
     "showTitle": false,
     "tableResultSettingsMap": {},
     "title": ""
    }
   },
   "outputs": [],
   "source": [
    "# Count distinct surrogate keys to confirm uniqueness\n",
    "dim_trip.select('trip_sk').distinct().count()"
   ]
  },
  {
   "cell_type": "code",
   "execution_count": 0,
   "metadata": {
    "application/vnd.databricks.v1+cell": {
     "cellMetadata": {},
     "inputWidgets": {},
     "nuid": "323402b5-34a4-47e7-8bc8-b60cca213e01",
     "showTitle": false,
     "tableResultSettingsMap": {},
     "title": ""
    }
   },
   "outputs": [],
   "source": []
  }
 ],
 "metadata": {
  "application/vnd.databricks.v1+notebook": {
   "computePreferences": null,
   "dashboards": [],
   "environmentMetadata": {
    "base_environment": "",
    "environment_version": "2"
   },
   "inputWidgetPreferences": null,
   "language": "python",
   "notebookMetadata": {
    "pythonIndentUnit": 4
   },
   "notebookName": "13_platinum_static",
   "widgets": {}
  },
  "language_info": {
   "name": "python"
  }
 },
 "nbformat": 4,
 "nbformat_minor": 0
}
