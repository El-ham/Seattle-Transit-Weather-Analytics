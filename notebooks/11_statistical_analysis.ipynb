{
 "cells": [
  {
   "cell_type": "markdown",
   "metadata": {
    "application/vnd.databricks.v1+cell": {
     "cellMetadata": {},
     "inputWidgets": {},
     "nuid": "057464fe-cbee-44d7-94a6-eb8d5340843d",
     "showTitle": false,
     "tableResultSettingsMap": {},
     "title": ""
    }
   },
   "source": [
    "## 11 - Statistical Analysis of Seattle Transit Activity vs Weather\n",
    "\n",
    "This notebook explores how weather and temporal features influence real-time public transit activity in Seattle.  \n",
    "We use the **Gold-layer** table `gtfs_rt_weather_joined` to perform correlation analysis and hypothesis testing.\n",
    "\n",
    "**Goals:**\n",
    "- Explore the correlation between **temperature** and **number of vehicle updates**\n",
    "- Perform statistical tests (**Pearson**, **Spearman**, **t-test**, **ANOVA**)\n",
    "- Identify meaningful behavioral patterns (e.g., **weekday vs. weekend** transit activity)\n"
   ]
  },
  {
   "cell_type": "code",
   "execution_count": 0,
   "metadata": {
    "application/vnd.databricks.v1+cell": {
     "cellMetadata": {
      "byteLimit": 2048000,
      "rowLimit": 10000
     },
     "inputWidgets": {},
     "nuid": "da2ab08d-fc70-41fe-aada-df0d61a0c3a1",
     "showTitle": false,
     "tableResultSettingsMap": {},
     "title": ""
    }
   },
   "outputs": [],
   "source": [
    "# Import PySpark functions and Python libraries for analysis and plotting\n",
    "from pyspark.sql.functions import col, hour, dayofweek, count, to_date\n",
    "from pyspark.sql import functions as F\n",
    "# Python libraries for statistical analysis and visualization\n",
    "import pandas as pd\n",
    "import seaborn as sns\n",
    "import matplotlib.pyplot as plt\n",
    "from scipy.stats import pearsonr, spearmanr, ttest_ind, f_oneway\n",
    "from pyspark.sql.functions import to_date, count, avg, dayofweek, when\n",
    "from scipy.stats import pearsonr, spearmanr"
   ]
  },
  {
   "cell_type": "code",
   "execution_count": 0,
   "metadata": {
    "application/vnd.databricks.v1+cell": {
     "cellMetadata": {
      "byteLimit": 2048000,
      "rowLimit": 10000
     },
     "inputWidgets": {},
     "nuid": "037a3c22-bf11-4553-bd92-572160856ade",
     "showTitle": false,
     "tableResultSettingsMap": {},
     "title": ""
    }
   },
   "outputs": [],
   "source": [
    "# Load the Gold layer table that joins real-time GTFS data with weather snapshots\n",
    "GOLD_PATH = \"/gold/gtfs_rt_weather_joined\"\n",
    "df_gold = spark.read.format(\"delta\").load(GOLD_PATH)\n",
    "df_gold.display()\n"
   ]
  },
  {
   "cell_type": "markdown",
   "metadata": {
    "application/vnd.databricks.v1+cell": {
     "cellMetadata": {},
     "inputWidgets": {},
     "nuid": "77e87fdd-0f04-48c1-a02e-441c6b4e01e9",
     "showTitle": false,
     "tableResultSettingsMap": {},
     "title": ""
    }
   },
   "source": [
    "### Aggregate Transit Volume"
   ]
  },
  {
   "cell_type": "code",
   "execution_count": 0,
   "metadata": {
    "application/vnd.databricks.v1+cell": {
     "cellMetadata": {
      "byteLimit": 2048000,
      "rowLimit": 10000
     },
     "inputWidgets": {},
     "nuid": "92912661-2bd9-46df-a9f3-6cbc15b11926",
     "showTitle": false,
     "tableResultSettingsMap": {},
     "title": ""
    }
   },
   "outputs": [],
   "source": [
    "# Extract hour of day from each event timestamp for time-based grouping\n",
    "df_gold = df_gold.withColumn(\"hour\", hour(\"event_ts\"))\n"
   ]
  },
  {
   "cell_type": "code",
   "execution_count": 0,
   "metadata": {
    "application/vnd.databricks.v1+cell": {
     "cellMetadata": {
      "byteLimit": 2048000,
      "rowLimit": 10000
     },
     "inputWidgets": {},
     "nuid": "b9339712-1404-440d-8dcc-8e779f34d7c1",
     "showTitle": false,
     "tableResultSettingsMap": {},
     "title": ""
    }
   },
   "outputs": [],
   "source": [
    "# Count the number of vehicle updates per hour to identify data skewedness\n",
    "df_gold.groupBy(\"hour\").count().orderBy(\"count\", ascending=False).show()\n"
   ]
  },
  {
   "cell_type": "code",
   "execution_count": 0,
   "metadata": {
    "application/vnd.databricks.v1+cell": {
     "cellMetadata": {
      "byteLimit": 2048000,
      "rowLimit": 10000
     },
     "inputWidgets": {},
     "nuid": "7bb066cb-165d-4754-a9b6-423ac12196fe",
     "showTitle": false,
     "tableResultSettingsMap": {},
     "title": ""
    }
   },
   "outputs": [],
   "source": [
    "# Filter to a specific hour (3 PM) with the highest available data across different dates\n",
    "df_gold = df_gold.filter(col(\"hour\")==15)"
   ]
  },
  {
   "cell_type": "code",
   "execution_count": 0,
   "metadata": {
    "application/vnd.databricks.v1+cell": {
     "cellMetadata": {
      "byteLimit": 2048000,
      "rowLimit": 10000
     },
     "inputWidgets": {},
     "nuid": "631b0c8c-9dab-4e22-8141-563dd864a2d6",
     "showTitle": false,
     "tableResultSettingsMap": {},
     "title": ""
    }
   },
   "outputs": [],
   "source": [
    "# Group by event date and weekend/weekday flag\n",
    "# Aggregate to get daily vehicle update count and average temperature\n",
    "df_daily = df_gold \\\n",
    "    .withColumn(\"event_date\", to_date(\"event_ts\")) \\\n",
    "    .withColumn(\"day_of_week\", dayofweek(\"event_ts\")) \\\n",
    "    .withColumn(\"is_weekend\", when(col(\"day_of_week\").isin(1, 7), True).otherwise(False)) \\\n",
    "    .groupBy(\"event_date\", \"is_weekend\") \\\n",
    "    .agg(\n",
    "        count(\"*\").alias(\"vehicle_update_count\"),\n",
    "        avg(\"temperature\").alias(\"avg_temp\")\n",
    "    ) \\\n",
    "    .orderBy(\"event_date\")\n",
    "    \n",
    "# Convert to pandas for statistical analysis\n",
    "df_daily_pd = df_daily.toPandas()\n",
    "df_daily_pd.head()\n"
   ]
  },
  {
   "cell_type": "markdown",
   "metadata": {
    "application/vnd.databricks.v1+cell": {
     "cellMetadata": {},
     "inputWidgets": {},
     "nuid": "cd6dc2c1-79b1-4762-b15c-8b9a32967d29",
     "showTitle": false,
     "tableResultSettingsMap": {},
     "title": ""
    }
   },
   "source": [
    "### Correlation Analysis – Temperature vs Vehicle Count"
   ]
  },
  {
   "cell_type": "code",
   "execution_count": 0,
   "metadata": {
    "application/vnd.databricks.v1+cell": {
     "cellMetadata": {
      "byteLimit": 2048000,
      "rowLimit": 10000
     },
     "inputWidgets": {},
     "nuid": "15db5594-fe07-42a0-a1a7-1be205d8cd5d",
     "showTitle": false,
     "tableResultSettingsMap": {},
     "title": ""
    }
   },
   "outputs": [],
   "source": [
    "# Drop rows with nulls in key columns\n",
    "df_corr = df_daily_pd.dropna(subset=[\"vehicle_update_count\", \"avg_temp\"])\n",
    "\n",
    "# Pearson correlation (linear relationship)\n",
    "pearson_corr, pearson_p = pearsonr(df_corr[\"avg_temp\"], df_corr[\"vehicle_update_count\"])\n",
    "\n",
    "# Spearman correlation (monotonic relationship)\n",
    "spearman_corr, spearman_p = spearmanr(df_corr[\"avg_temp\"], df_corr[\"vehicle_update_count\"])\n",
    "\n",
    "# Print correlation results\n",
    "print(f\"Pearson Correlation: {pearson_corr:.2f} (p={pearson_p:.3f})\")\n",
    "print(f\"Spearman Correlation: {spearman_corr:.2f} (p={spearman_p:.3f})\")\n",
    "\n",
    "# Plot correlation between average temperature and transit volume\n",
    "sns.regplot(data=df_corr, x=\"avg_temp\", y=\"vehicle_update_count\")\n",
    "plt.title(\"Correlation: Temperature vs Vehicle Update Count\")\n",
    "plt.xlabel(\"Average Daily Temperature (°F)\")\n",
    "plt.ylabel(\"Vehicle Updates\")\n",
    "plt.show()\n"
   ]
  },
  {
   "cell_type": "markdown",
   "metadata": {
    "application/vnd.databricks.v1+cell": {
     "cellMetadata": {},
     "inputWidgets": {},
     "nuid": "4780754e-a76a-46bf-b279-85ac8f84c5f1",
     "showTitle": false,
     "tableResultSettingsMap": {},
     "title": ""
    }
   },
   "source": [
    "Weak positive correlation between temperature and number of vehicle updates.\n",
    "\n",
    "p-values > 0.05 → Not statistically significant, so the correlation is likely due to chance."
   ]
  },
  {
   "cell_type": "markdown",
   "metadata": {
    "application/vnd.databricks.v1+cell": {
     "cellMetadata": {},
     "inputWidgets": {},
     "nuid": "0dd89dcc-21ab-4722-8a3f-4907d8fc6b82",
     "showTitle": false,
     "tableResultSettingsMap": {},
     "title": ""
    }
   },
   "source": [
    "### Correlation Analysis – Temperature vs Vehicle Count (Weekdays)\n",
    "Here, we test whether restricting the analysis to weekdays only reveals a more significant relationship between temperature and transit volume."
   ]
  },
  {
   "cell_type": "code",
   "execution_count": 0,
   "metadata": {
    "application/vnd.databricks.v1+cell": {
     "cellMetadata": {
      "byteLimit": 2048000,
      "rowLimit": 10000
     },
     "inputWidgets": {},
     "nuid": "55947346-995c-4ee0-bb78-ce61f8f7dc9c",
     "showTitle": false,
     "tableResultSettingsMap": {},
     "title": ""
    }
   },
   "outputs": [],
   "source": [
    "# Filter to weekday data only\n",
    "df_weekday = df_daily_pd.loc[df_daily_pd[\"is_weekend\"] == False]\n",
    "\n",
    "# Drop rows with nulls\n",
    "df_corr = df_weekday.dropna(subset=[\"vehicle_update_count\", \"avg_temp\"])\n",
    "\n",
    "# Pearson & Spearman correlations (for weekdays only)\n",
    "pearson_corr, pearson_p = pearsonr(df_corr[\"avg_temp\"], df_corr[\"vehicle_update_count\"])\n",
    "spearman_corr, spearman_p = spearmanr(df_corr[\"avg_temp\"], df_corr[\"vehicle_update_count\"])\n",
    "\n",
    "# Print results\n",
    "print(f\"Pearson Correlation: {pearson_corr:.2f} (p={pearson_p:.3f})\")\n",
    "print(f\"Spearman Correlation: {spearman_corr:.2f} (p={spearman_p:.3f})\")\n",
    "\n",
    "# Plot\n",
    "sns.regplot(data=df_corr, x=\"avg_temp\", y=\"vehicle_update_count\")\n",
    "plt.title(\"Correlation: Temperature vs Vehicle Update Count\")\n",
    "plt.xlabel(\"Average Daily Temperature (°F)\")\n",
    "plt.ylabel(\"Vehicle Updates\")\n",
    "plt.show()\n"
   ]
  },
  {
   "cell_type": "markdown",
   "metadata": {
    "application/vnd.databricks.v1+cell": {
     "cellMetadata": {},
     "inputWidgets": {},
     "nuid": "78714138-bdc9-4111-a14b-91bb477dfd57",
     "showTitle": false,
     "tableResultSettingsMap": {},
     "title": ""
    }
   },
   "source": [
    "Although the correlation values increased slightly, the results remain statistically insignificant."
   ]
  },
  {
   "cell_type": "markdown",
   "metadata": {
    "application/vnd.databricks.v1+cell": {
     "cellMetadata": {},
     "inputWidgets": {},
     "nuid": "81fd3ac3-fd1a-48cd-96bd-58175472186c",
     "showTitle": false,
     "tableResultSettingsMap": {},
     "title": ""
    }
   },
   "source": [
    "### Weekday vs Weekend – t-test"
   ]
  },
  {
   "cell_type": "code",
   "execution_count": 0,
   "metadata": {
    "application/vnd.databricks.v1+cell": {
     "cellMetadata": {
      "byteLimit": 2048000,
      "rowLimit": 10000
     },
     "inputWidgets": {},
     "nuid": "aebfc692-d675-40c7-a759-8e01f9fe7d73",
     "showTitle": false,
     "tableResultSettingsMap": {},
     "title": ""
    }
   },
   "outputs": [],
   "source": [
    "# Ensure weekend flag is present\n",
    "if \"is_weekend\" not in df_daily_pd.columns:\n",
    "    df_daily_pd[\"is_weekend\"] = df_daily_pd[\"event_date\"].apply(lambda d: pd.to_datetime(d).weekday() >= 5)\n",
    "\n",
    "# Separate weekday and weekend samples\n",
    "weekend = df_daily_pd[df_daily_pd[\"is_weekend\"] == True][\"vehicle_update_count\"]\n",
    "weekday = df_daily_pd[df_daily_pd[\"is_weekend\"] == False][\"vehicle_update_count\"]\n",
    "\n",
    "# Perform independent t-test\n",
    "t_stat, p_val = ttest_ind(weekday, weekend, equal_var=False)\n",
    "\n",
    "# Output statistics\n",
    "print(f\"Weekday Mean: {weekday.mean():.2f}\")\n",
    "print(f\"Weekend Mean: {weekend.mean():.2f}\")\n",
    "print(f\"t-statistic = {t_stat:.2f}, p-value = {p_val:.4f}\")\n"
   ]
  },
  {
   "cell_type": "markdown",
   "metadata": {
    "application/vnd.databricks.v1+cell": {
     "cellMetadata": {},
     "inputWidgets": {},
     "nuid": "fd77f929-9827-4f98-9212-06b7e4c9aa10",
     "showTitle": false,
     "tableResultSettingsMap": {},
     "title": ""
    }
   },
   "source": [
    "This result does show a statistically significant difference between weekday and weekend traffic.\n",
    "So the vehicle activity is significantly higher on weekdays than weekends.\n"
   ]
  },
  {
   "cell_type": "code",
   "execution_count": 0,
   "metadata": {
    "application/vnd.databricks.v1+cell": {
     "cellMetadata": {},
     "inputWidgets": {},
     "nuid": "4a4c0e2f-4c93-4b68-8e3e-a40c776a0a12",
     "showTitle": false,
     "tableResultSettingsMap": {},
     "title": ""
    }
   },
   "outputs": [],
   "source": []
  }
 ],
 "metadata": {
  "application/vnd.databricks.v1+notebook": {
   "computePreferences": null,
   "dashboards": [],
   "environmentMetadata": {
    "base_environment": "",
    "environment_version": "3"
   },
   "inputWidgetPreferences": null,
   "language": "python",
   "notebookMetadata": {
    "pythonIndentUnit": 4
   },
   "notebookName": "11_statistical_analysis",
   "widgets": {}
  },
  "language_info": {
   "name": "python"
  }
 },
 "nbformat": 4,
 "nbformat_minor": 0
}
