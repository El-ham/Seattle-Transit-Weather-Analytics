{
 "cells": [
  {
   "cell_type": "markdown",
   "metadata": {
    "application/vnd.databricks.v1+cell": {
     "cellMetadata": {},
     "inputWidgets": {},
     "nuid": "e4494e01-9eef-43a2-8c57-7dd3c885b34b",
     "showTitle": false,
     "tableResultSettingsMap": {},
     "title": ""
    }
   },
   "source": [
    "# 96- One-Time Deduplication for Historical Data\n",
    "\n",
    "\n",
    "This notebook performs a one-time cleanup of historical duplicate records\n",
    "in key Delta tables using the correct primary keys. It ensures data\n",
    "integrity for downstream analytics and modeling.\n",
    "\n",
    "Steps:\n",
    "- Identify duplicate records\n",
    "- Drop duplicates based on key columns\n",
    "- Overwrite the cleaned data in Delta format\n"
   ]
  },
  {
   "cell_type": "markdown",
   "metadata": {
    "application/vnd.databricks.v1+cell": {
     "cellMetadata": {},
     "inputWidgets": {},
     "nuid": "12870e5e-8f4b-4773-8c30-c762364cc1c6",
     "showTitle": false,
     "tableResultSettingsMap": {},
     "title": ""
    }
   },
   "source": [
    "## 02 - Ingest GTFS Real-Time Data (Bronze Layer)"
   ]
  },
  {
   "cell_type": "code",
   "execution_count": 0,
   "metadata": {
    "application/vnd.databricks.v1+cell": {
     "cellMetadata": {
      "byteLimit": 2048000,
      "rowLimit": 10000
     },
     "inputWidgets": {},
     "nuid": "1d71a95e-b491-45d1-baca-f08203addfd1",
     "showTitle": false,
     "tableResultSettingsMap": {},
     "title": ""
    }
   },
   "outputs": [],
   "source": [
    "from pyspark.sql.functions import col"
   ]
  },
  {
   "cell_type": "code",
   "execution_count": 0,
   "metadata": {
    "application/vnd.databricks.v1+cell": {
     "cellMetadata": {
      "byteLimit": 2048000,
      "rowLimit": 10000
     },
     "inputWidgets": {},
     "nuid": "b62c2d22-2b92-4081-a075-5547c84e8c8c",
     "showTitle": false,
     "tableResultSettingsMap": {},
     "title": ""
    }
   },
   "outputs": [],
   "source": [
    "BRONZE_RT_PATH = \"dbfs:/bronze/gtfs_rt/\"\n",
    "df_rt = spark.read.format(\"delta\").load(BRONZE_RT_PATH)"
   ]
  },
  {
   "cell_type": "code",
   "execution_count": 0,
   "metadata": {
    "application/vnd.databricks.v1+cell": {
     "cellMetadata": {
      "byteLimit": 2048000,
      "rowLimit": 10000
     },
     "inputWidgets": {},
     "nuid": "f4c0a61a-c7a7-4102-bee2-7612f1f98eef",
     "showTitle": false,
     "tableResultSettingsMap": {},
     "title": ""
    }
   },
   "outputs": [],
   "source": [
    "\n",
    "# Replace `df_rt` with your actual DataFrame name\n",
    "df_rt.groupBy(\"vehicle_id\", \"timestamp\") \\\n",
    "  .count() \\\n",
    "  .filter(col(\"count\") > 1) \\\n",
    "  .show()"
   ]
  },
  {
   "cell_type": "code",
   "execution_count": 0,
   "metadata": {
    "application/vnd.databricks.v1+cell": {
     "cellMetadata": {
      "byteLimit": 2048000,
      "rowLimit": 10000
     },
     "inputWidgets": {},
     "nuid": "45a183a1-a073-440e-892f-ea69b41f6798",
     "showTitle": false,
     "tableResultSettingsMap": {},
     "title": ""
    }
   },
   "outputs": [],
   "source": [
    "\n",
    "# Replace `df_rt` with your actual DataFrame name\n",
    "df_rt.groupBy(\"vehicle_id\", \"timestamp\") \\\n",
    "  .count() \\\n",
    "  .filter(col(\"count\") == 1) \\\n",
    "  .count()"
   ]
  },
  {
   "cell_type": "code",
   "execution_count": 0,
   "metadata": {
    "application/vnd.databricks.v1+cell": {
     "cellMetadata": {
      "byteLimit": 2048000,
      "rowLimit": 10000
     },
     "inputWidgets": {},
     "nuid": "f94d4199-4235-42f7-91cd-ad75d16655ea",
     "showTitle": false,
     "tableResultSettingsMap": {},
     "title": ""
    }
   },
   "outputs": [],
   "source": [
    "df_rt= df_rt.dropDuplicates([\"vehicle_id\", \"timestamp\"])\n",
    "display(df_rt)"
   ]
  },
  {
   "cell_type": "code",
   "execution_count": 0,
   "metadata": {
    "application/vnd.databricks.v1+cell": {
     "cellMetadata": {
      "byteLimit": 2048000,
      "rowLimit": 10000
     },
     "inputWidgets": {},
     "nuid": "90fdb512-a8d0-4269-805e-f71d52fe9d12",
     "showTitle": false,
     "tableResultSettingsMap": {},
     "title": ""
    }
   },
   "outputs": [],
   "source": [
    "\n",
    "# Replace `df_rt` with your actual DataFrame name\n",
    "df_rt.groupBy(\"vehicle_id\", \"timestamp\") \\\n",
    "  .count() \\\n",
    "  .filter(col(\"count\") > 1) \\\n",
    "  .count()"
   ]
  },
  {
   "cell_type": "code",
   "execution_count": 0,
   "metadata": {
    "application/vnd.databricks.v1+cell": {
     "cellMetadata": {
      "byteLimit": 2048000,
      "rowLimit": 10000
     },
     "inputWidgets": {},
     "nuid": "f2eaae9e-b352-4d2b-aedb-70e96afee185",
     "showTitle": false,
     "tableResultSettingsMap": {},
     "title": ""
    }
   },
   "outputs": [],
   "source": [
    "\n",
    "# Replace `df_rt` with your actual DataFrame name\n",
    "df_rt.groupBy(\"vehicle_id\", \"timestamp\") \\\n",
    "  .count() \\\n",
    "  .filter(col(\"count\") == 1) \\\n",
    "  .count()"
   ]
  },
  {
   "cell_type": "code",
   "execution_count": 0,
   "metadata": {
    "application/vnd.databricks.v1+cell": {
     "cellMetadata": {
      "byteLimit": 2048000,
      "rowLimit": 10000
     },
     "inputWidgets": {},
     "nuid": "5a1d0d3e-1c56-4901-bf48-b49c45de5f18",
     "showTitle": false,
     "tableResultSettingsMap": {},
     "title": ""
    }
   },
   "outputs": [],
   "source": [
    "df_rt.write \\\n",
    "    .format(\"delta\") \\\n",
    "    .mode(\"overwrite\") \\\n",
    "    .partitionBy(\"ingestion_date\") \\\n",
    "    .save(BRONZE_RT_PATH)"
   ]
  },
  {
   "cell_type": "markdown",
   "metadata": {
    "application/vnd.databricks.v1+cell": {
     "cellMetadata": {},
     "inputWidgets": {},
     "nuid": "a1636cac-e763-4d65-beae-af0a192c3ff9",
     "showTitle": false,
     "tableResultSettingsMap": {},
     "title": ""
    }
   },
   "source": [
    "## 03 - Transform GTFS Real-Time Data (Silver Layer)"
   ]
  },
  {
   "cell_type": "code",
   "execution_count": 0,
   "metadata": {
    "application/vnd.databricks.v1+cell": {
     "cellMetadata": {
      "byteLimit": 2048000,
      "rowLimit": 10000
     },
     "inputWidgets": {},
     "nuid": "7d627d90-f1cb-4034-b40e-8b6823535d0c",
     "showTitle": false,
     "tableResultSettingsMap": {},
     "title": ""
    }
   },
   "outputs": [],
   "source": [
    "SILVER_RT_PATH = \"dbfs:/silver/gtfs_rt/\"\n",
    "df_silver= spark.read.format(\"delta\").load(SILVER_RT_PATH)"
   ]
  },
  {
   "cell_type": "code",
   "execution_count": 0,
   "metadata": {
    "application/vnd.databricks.v1+cell": {
     "cellMetadata": {
      "byteLimit": 2048000,
      "rowLimit": 10000
     },
     "inputWidgets": {},
     "nuid": "7710b0a9-69bc-45de-978e-78a1910d72b0",
     "showTitle": false,
     "tableResultSettingsMap": {},
     "title": ""
    }
   },
   "outputs": [],
   "source": [
    "\n",
    "# Replace `df_rt` with your actual DataFrame name\n",
    "df_silver.groupBy(\"vehicle_id\", \"timestamp\") \\\n",
    "  .count() \\\n",
    "  .filter(col(\"count\") > 1) \\\n",
    "  .count()"
   ]
  },
  {
   "cell_type": "code",
   "execution_count": 0,
   "metadata": {
    "application/vnd.databricks.v1+cell": {
     "cellMetadata": {
      "byteLimit": 2048000,
      "rowLimit": 10000
     },
     "inputWidgets": {},
     "nuid": "6d0d1912-4419-4d7f-b665-3ee88f53f354",
     "showTitle": false,
     "tableResultSettingsMap": {},
     "title": ""
    }
   },
   "outputs": [],
   "source": [
    "duplicate_keys = df_silver.groupBy(\"vehicle_id\", \"timestamp\") \\\n",
    "                   .count() \\\n",
    "                   .filter(col(\"count\") > 1) \\\n",
    "                   .select(\"vehicle_id\", \"timestamp\")\n",
    "duplicate_rows = df_silver.join(duplicate_keys, on=[\"vehicle_id\", \"timestamp\"], how=\"inner\").orderBy(\"vehicle_id\", \"timestamp\")\n",
    "\n",
    "duplicate_rows.display()"
   ]
  },
  {
   "cell_type": "code",
   "execution_count": 0,
   "metadata": {
    "application/vnd.databricks.v1+cell": {
     "cellMetadata": {
      "byteLimit": 2048000,
      "rowLimit": 10000
     },
     "inputWidgets": {},
     "nuid": "628693b6-75ec-49d4-a33b-66e90922d8b0",
     "showTitle": false,
     "tableResultSettingsMap": {},
     "title": ""
    }
   },
   "outputs": [],
   "source": [
    "\n",
    "# Replace `df_rt` with your actual DataFrame name\n",
    "df_silver.groupBy(\"vehicle_id\", \"timestamp\") \\\n",
    "  .count() \\\n",
    "  .filter(col(\"count\") == 1) \\\n",
    "  .count()"
   ]
  },
  {
   "cell_type": "code",
   "execution_count": 0,
   "metadata": {
    "application/vnd.databricks.v1+cell": {
     "cellMetadata": {
      "byteLimit": 2048000,
      "rowLimit": 10000
     },
     "inputWidgets": {},
     "nuid": "48179415-c0c6-47c7-91da-17c7105a8899",
     "showTitle": false,
     "tableResultSettingsMap": {},
     "title": ""
    }
   },
   "outputs": [],
   "source": [
    "df_silver= df_silver.dropDuplicates([\"vehicle_id\", \"timestamp\"])\n",
    "display(df_silver)"
   ]
  },
  {
   "cell_type": "code",
   "execution_count": 0,
   "metadata": {
    "application/vnd.databricks.v1+cell": {
     "cellMetadata": {
      "byteLimit": 2048000,
      "rowLimit": 10000
     },
     "inputWidgets": {},
     "nuid": "f2aabee1-b374-426a-b13d-622cc25019e7",
     "showTitle": false,
     "tableResultSettingsMap": {},
     "title": ""
    }
   },
   "outputs": [],
   "source": [
    "\n",
    "# Replace `df_rt` with your actual DataFrame name\n",
    "df_silver.groupBy(\"vehicle_id\", \"timestamp\") \\\n",
    "  .count() \\\n",
    "  .filter(col(\"count\") > 1) \\\n",
    "  .count()"
   ]
  },
  {
   "cell_type": "code",
   "execution_count": 0,
   "metadata": {
    "application/vnd.databricks.v1+cell": {
     "cellMetadata": {
      "byteLimit": 2048000,
      "rowLimit": 10000
     },
     "inputWidgets": {},
     "nuid": "9037c9df-3cf4-4a5f-8e56-4d42974e6dd1",
     "showTitle": false,
     "tableResultSettingsMap": {},
     "title": ""
    }
   },
   "outputs": [],
   "source": [
    "\n",
    "# Replace `df_rt` with your actual DataFrame name\n",
    "df_silver.groupBy(\"vehicle_id\", \"timestamp\") \\\n",
    "  .count() \\\n",
    "  .filter(col(\"count\") == 1) \\\n",
    "  .count()"
   ]
  },
  {
   "cell_type": "code",
   "execution_count": 0,
   "metadata": {
    "application/vnd.databricks.v1+cell": {
     "cellMetadata": {
      "byteLimit": 2048000,
      "rowLimit": 10000
     },
     "inputWidgets": {},
     "nuid": "6ac696d2-4c7a-4ea8-a17a-aee7213fd828",
     "showTitle": false,
     "tableResultSettingsMap": {},
     "title": ""
    }
   },
   "outputs": [],
   "source": [
    "df_silver.write \\\n",
    "    .format(\"delta\") \\\n",
    "    .mode(\"overwrite\") \\\n",
    "    .partitionBy(\"ingestion_date\") \\\n",
    "    .save(SILVER_RT_PATH)"
   ]
  },
  {
   "cell_type": "markdown",
   "metadata": {
    "application/vnd.databricks.v1+cell": {
     "cellMetadata": {},
     "inputWidgets": {},
     "nuid": "a38a0713-3675-4256-8e8d-fa85a1dd29ce",
     "showTitle": false,
     "tableResultSettingsMap": {},
     "title": ""
    }
   },
   "source": [
    "## 04 - Enrich GTFS Real-Time with Static Data (Gold Layer)"
   ]
  },
  {
   "cell_type": "code",
   "execution_count": 0,
   "metadata": {
    "application/vnd.databricks.v1+cell": {
     "cellMetadata": {
      "byteLimit": 2048000,
      "rowLimit": 10000
     },
     "inputWidgets": {},
     "nuid": "d47d9906-9f8a-4f9b-9000-0406e1b3f037",
     "showTitle": false,
     "tableResultSettingsMap": {},
     "title": ""
    }
   },
   "outputs": [],
   "source": [
    "GOLD_PATH = \"dbfs:/gold/gtfs_rt_enriched/\"\n",
    "df_enriched= spark.read.format(\"delta\").load(GOLD_PATH)"
   ]
  },
  {
   "cell_type": "code",
   "execution_count": 0,
   "metadata": {
    "application/vnd.databricks.v1+cell": {
     "cellMetadata": {
      "byteLimit": 2048000,
      "rowLimit": 10000
     },
     "inputWidgets": {},
     "nuid": "dfb81845-6a21-4f56-9f2d-bae66bd2d8cb",
     "showTitle": false,
     "tableResultSettingsMap": {},
     "title": ""
    }
   },
   "outputs": [],
   "source": [
    "# Get all column names except \"joined_at\"\n",
    "columns_to_check = [c for c in df_enriched.columns if c not in [\"joined_at\", \"processed_at\"]]\n",
    "# Replace `df_rt` with your actual DataFrame name\n",
    "df_enriched.groupBy(columns_to_check) \\\n",
    "  .count() \\\n",
    "  .filter(col(\"count\") > 1) \\\n",
    "  .count()"
   ]
  },
  {
   "cell_type": "code",
   "execution_count": 0,
   "metadata": {
    "application/vnd.databricks.v1+cell": {
     "cellMetadata": {
      "byteLimit": 2048000,
      "rowLimit": 10000
     },
     "inputWidgets": {},
     "nuid": "c1f39141-c0c5-461d-b858-f7fcec376cba",
     "showTitle": false,
     "tableResultSettingsMap": {},
     "title": ""
    }
   },
   "outputs": [],
   "source": [
    "\n",
    "# Replace `df_rt` with your actual DataFrame name\n",
    "df_enriched.groupBy(columns_to_check) \\\n",
    "  .count() \\\n",
    "  .filter(col(\"count\") == 1) \\\n",
    "  .count()"
   ]
  },
  {
   "cell_type": "code",
   "execution_count": 0,
   "metadata": {
    "application/vnd.databricks.v1+cell": {
     "cellMetadata": {
      "byteLimit": 2048000,
      "rowLimit": 10000
     },
     "inputWidgets": {},
     "nuid": "bf6346f6-5389-4fbd-a3ba-e11feb1ff164",
     "showTitle": false,
     "tableResultSettingsMap": {},
     "title": ""
    }
   },
   "outputs": [],
   "source": [
    "df_enriched= df_enriched.dropDuplicates(columns_to_check)\n",
    "display(df_enriched)"
   ]
  },
  {
   "cell_type": "code",
   "execution_count": 0,
   "metadata": {
    "application/vnd.databricks.v1+cell": {
     "cellMetadata": {
      "byteLimit": 2048000,
      "rowLimit": 10000
     },
     "inputWidgets": {},
     "nuid": "06d88f5b-bcd3-4278-b985-040803669348",
     "showTitle": false,
     "tableResultSettingsMap": {},
     "title": ""
    }
   },
   "outputs": [],
   "source": [
    "\n",
    "# Replace `df_rt` with your actual DataFrame name\n",
    "df_enriched.groupBy(columns_to_check) \\\n",
    "  .count() \\\n",
    "  .filter(col(\"count\") > 1) \\\n",
    "  .count()"
   ]
  },
  {
   "cell_type": "code",
   "execution_count": 0,
   "metadata": {
    "application/vnd.databricks.v1+cell": {
     "cellMetadata": {
      "byteLimit": 2048000,
      "rowLimit": 10000
     },
     "inputWidgets": {},
     "nuid": "8103c216-68ca-4be4-b367-3a175126835e",
     "showTitle": false,
     "tableResultSettingsMap": {},
     "title": ""
    }
   },
   "outputs": [],
   "source": [
    "\n",
    "# Replace `df_rt` with your actual DataFrame name\n",
    "df_enriched.groupBy(columns_to_check) \\\n",
    "  .count() \\\n",
    "  .filter(col(\"count\") == 1) \\\n",
    "  .count()"
   ]
  },
  {
   "cell_type": "code",
   "execution_count": 0,
   "metadata": {
    "application/vnd.databricks.v1+cell": {
     "cellMetadata": {
      "byteLimit": 2048000,
      "rowLimit": 10000
     },
     "inputWidgets": {},
     "nuid": "4608083b-82a0-431d-b125-63cd86d5443f",
     "showTitle": false,
     "tableResultSettingsMap": {},
     "title": ""
    }
   },
   "outputs": [],
   "source": [
    "df_enriched.write \\\n",
    "    .format(\"delta\") \\\n",
    "    .mode(\"overwrite\") \\\n",
    "    .partitionBy(\"ingestion_date\") \\\n",
    "    .save(GOLD_PATH)"
   ]
  },
  {
   "cell_type": "markdown",
   "metadata": {
    "application/vnd.databricks.v1+cell": {
     "cellMetadata": {
      "byteLimit": 2048000,
      "rowLimit": 10000
     },
     "inputWidgets": {},
     "nuid": "d2ed2117-7167-495e-bef6-625bff026185",
     "showTitle": false,
     "tableResultSettingsMap": {},
     "title": ""
    }
   },
   "source": [
    "## 05 - Ingest Hourly Weather Data from NWS API (Bronze Layer)"
   ]
  },
  {
   "cell_type": "code",
   "execution_count": 0,
   "metadata": {
    "application/vnd.databricks.v1+cell": {
     "cellMetadata": {
      "byteLimit": 2048000,
      "rowLimit": 10000
     },
     "inputWidgets": {},
     "nuid": "c409fc90-237a-4a36-8b1f-c9997190f694",
     "showTitle": false,
     "tableResultSettingsMap": {},
     "title": ""
    }
   },
   "outputs": [],
   "source": [
    "BRONZE_WEATHER_PATH = \"dbfs:/bronze/weather/\"\n",
    "df_weather= spark.read.format(\"delta\").load(BRONZE_WEATHER_PATH)"
   ]
  },
  {
   "cell_type": "code",
   "execution_count": 0,
   "metadata": {
    "application/vnd.databricks.v1+cell": {
     "cellMetadata": {
      "byteLimit": 2048000,
      "rowLimit": 10000
     },
     "inputWidgets": {},
     "nuid": "c86358f9-4342-47f9-8e19-e3310dd617a2",
     "showTitle": false,
     "tableResultSettingsMap": {},
     "title": ""
    }
   },
   "outputs": [],
   "source": [
    "# Replace `df_rt` with your actual DataFrame name\n",
    "df_weather.groupBy(\"forecast_time\") \\\n",
    "  .count() \\\n",
    "  .filter(col(\"count\") > 1) \\\n",
    "  .count()"
   ]
  },
  {
   "cell_type": "code",
   "execution_count": 0,
   "metadata": {
    "application/vnd.databricks.v1+cell": {
     "cellMetadata": {
      "byteLimit": 2048000,
      "rowLimit": 10000
     },
     "inputWidgets": {},
     "nuid": "a9369e0e-188e-48f7-be92-7c6e34110077",
     "showTitle": false,
     "tableResultSettingsMap": {},
     "title": ""
    }
   },
   "outputs": [],
   "source": [
    "\n",
    "# Replace `df_rt` with your actual DataFrame name\n",
    "df_weather.groupBy(\"forecast_time\") \\\n",
    "  .count() \\\n",
    "  .filter(col(\"count\") == 1) \\\n",
    "  .count()"
   ]
  },
  {
   "cell_type": "code",
   "execution_count": 0,
   "metadata": {
    "application/vnd.databricks.v1+cell": {
     "cellMetadata": {
      "byteLimit": 2048000,
      "rowLimit": 10000
     },
     "inputWidgets": {},
     "nuid": "70ab0a51-ec6f-4171-a7ce-7f476fbb88df",
     "showTitle": false,
     "tableResultSettingsMap": {},
     "title": ""
    }
   },
   "outputs": [],
   "source": [
    "duplicate_keys = df_weather.groupBy(\"forecast_time\") \\\n",
    "                   .count() \\\n",
    "                   .filter(col(\"count\") > 1) \\\n",
    "                   .select(\"forecast_time\")\n",
    "duplicate_rows = df_weather.join(duplicate_keys, on=[\"forecast_time\"], how=\"inner\")\n",
    "\n",
    "duplicate_rows.orderBy(col(\"forecast_time\").desc()).display()"
   ]
  },
  {
   "cell_type": "code",
   "execution_count": 0,
   "metadata": {
    "application/vnd.databricks.v1+cell": {
     "cellMetadata": {
      "byteLimit": 2048000,
      "rowLimit": 10000
     },
     "inputWidgets": {},
     "nuid": "78e52e4a-7e1c-4826-9c54-ee20ad2207b2",
     "showTitle": false,
     "tableResultSettingsMap": {},
     "title": ""
    }
   },
   "outputs": [],
   "source": [
    "from pyspark.sql.functions import col, row_number\n",
    "from pyspark.sql.window import Window\n",
    "\n",
    "w = Window.partitionBy(\"forecast_time\").orderBy(col(\"forecast_retrieved_at\").desc())\n",
    "\n",
    "df_weather_deduped = (\n",
    "    df_weather.withColumn(\"rn\", row_number().over(w))\n",
    "              .filter(\"rn = 1\")\n",
    "              .drop(\"rn\")\n",
    ")\n"
   ]
  },
  {
   "cell_type": "code",
   "execution_count": 0,
   "metadata": {
    "application/vnd.databricks.v1+cell": {
     "cellMetadata": {
      "byteLimit": 2048000,
      "rowLimit": 10000
     },
     "inputWidgets": {},
     "nuid": "3ba48056-1316-421d-a7cc-4e6da35e250b",
     "showTitle": false,
     "tableResultSettingsMap": {},
     "title": ""
    }
   },
   "outputs": [],
   "source": [
    "# Replace `df_rt` with your actual DataFrame name\n",
    "df_weather_deduped.groupBy(\"forecast_time\") \\\n",
    "  .count() \\\n",
    "  .filter(col(\"count\") > 1) \\\n",
    "  .count()"
   ]
  },
  {
   "cell_type": "code",
   "execution_count": 0,
   "metadata": {
    "application/vnd.databricks.v1+cell": {
     "cellMetadata": {
      "byteLimit": 2048000,
      "rowLimit": 10000
     },
     "inputWidgets": {},
     "nuid": "cc3cabae-1288-497c-8e9d-b55edfb27a8a",
     "showTitle": false,
     "tableResultSettingsMap": {},
     "title": ""
    }
   },
   "outputs": [],
   "source": [
    "\n",
    "# Replace `df_rt` with your actual DataFrame name\n",
    "df_weather_deduped.groupBy(\"forecast_time\") \\\n",
    "  .count() \\\n",
    "  .filter(col(\"count\") == 1) \\\n",
    "  .count()"
   ]
  },
  {
   "cell_type": "code",
   "execution_count": 0,
   "metadata": {
    "application/vnd.databricks.v1+cell": {
     "cellMetadata": {
      "byteLimit": 2048000,
      "rowLimit": 10000
     },
     "inputWidgets": {},
     "nuid": "582a1814-ef4c-4f4f-9039-3385bb11e7e0",
     "showTitle": false,
     "tableResultSettingsMap": {},
     "title": ""
    }
   },
   "outputs": [],
   "source": [
    "df_weather_deduped.write \\\n",
    "    .format(\"delta\") \\\n",
    "    .mode(\"overwrite\") \\\n",
    "    .partitionBy(\"ingestion_date\") \\\n",
    "    .save(BRONZE_WEATHER_PATH)"
   ]
  },
  {
   "cell_type": "markdown",
   "metadata": {
    "application/vnd.databricks.v1+cell": {
     "cellMetadata": {},
     "inputWidgets": {},
     "nuid": "225e801e-d2e6-4093-8086-4c65366f116b",
     "showTitle": false,
     "tableResultSettingsMap": {},
     "title": ""
    }
   },
   "source": [
    "## 06 - Transform Hourly Weather Data (Silver Layer)"
   ]
  },
  {
   "cell_type": "code",
   "execution_count": 0,
   "metadata": {
    "application/vnd.databricks.v1+cell": {
     "cellMetadata": {
      "byteLimit": 2048000,
      "rowLimit": 10000
     },
     "inputWidgets": {},
     "nuid": "aa8d8b3c-8fd7-4a36-8fc7-bc77a7300f2a",
     "showTitle": false,
     "tableResultSettingsMap": {},
     "title": ""
    }
   },
   "outputs": [],
   "source": [
    "SILVER_PATH = \"dbfs:/silver/weather/\"\n",
    "df_silver= spark.read.format(\"delta\").load(SILVER_PATH)"
   ]
  },
  {
   "cell_type": "code",
   "execution_count": 0,
   "metadata": {
    "application/vnd.databricks.v1+cell": {
     "cellMetadata": {
      "byteLimit": 2048000,
      "rowLimit": 10000
     },
     "inputWidgets": {},
     "nuid": "66729543-f98b-4a84-9905-5fcdfc7372bf",
     "showTitle": false,
     "tableResultSettingsMap": {},
     "title": ""
    }
   },
   "outputs": [],
   "source": [
    "# Replace `df_rt` with your actual DataFrame name\n",
    "df_silver.groupBy(\"forecast_time\") \\\n",
    "  .count() \\\n",
    "  .filter(col(\"count\") > 1) \\\n",
    "  .count()"
   ]
  },
  {
   "cell_type": "code",
   "execution_count": 0,
   "metadata": {
    "application/vnd.databricks.v1+cell": {
     "cellMetadata": {
      "byteLimit": 2048000,
      "rowLimit": 10000
     },
     "inputWidgets": {},
     "nuid": "ad0ca937-a6bb-44b9-9461-771b1caa8700",
     "showTitle": false,
     "tableResultSettingsMap": {},
     "title": ""
    }
   },
   "outputs": [],
   "source": [
    "\n",
    "# Replace `df_rt` with your actual DataFrame name\n",
    "df_silver.groupBy(\"forecast_time\") \\\n",
    "  .count() \\\n",
    "  .filter(col(\"count\") == 1) \\\n",
    "  .count()"
   ]
  },
  {
   "cell_type": "code",
   "execution_count": 0,
   "metadata": {
    "application/vnd.databricks.v1+cell": {
     "cellMetadata": {
      "byteLimit": 2048000,
      "rowLimit": 10000
     },
     "inputWidgets": {},
     "nuid": "d594ba81-d2f0-4b27-bc4f-47eb1d3e2868",
     "showTitle": false,
     "tableResultSettingsMap": {},
     "title": ""
    }
   },
   "outputs": [],
   "source": [
    "duplicate_keys = df_silver.groupBy(\"forecast_time\") \\\n",
    "                   .count() \\\n",
    "                   .filter(col(\"count\") > 1) \\\n",
    "                   .select(\"forecast_time\")\n",
    "duplicate_rows = df_silver.join(duplicate_keys, on=[\"forecast_time\"], how=\"inner\")\n",
    "\n",
    "duplicate_rows.orderBy(col(\"forecast_time\").desc()).display()"
   ]
  },
  {
   "cell_type": "code",
   "execution_count": 0,
   "metadata": {
    "application/vnd.databricks.v1+cell": {
     "cellMetadata": {
      "byteLimit": 2048000,
      "rowLimit": 10000
     },
     "inputWidgets": {},
     "nuid": "286944fe-4016-4e12-9090-de26a0b74b6d",
     "showTitle": false,
     "tableResultSettingsMap": {},
     "title": ""
    }
   },
   "outputs": [],
   "source": [
    "from pyspark.sql.functions import col, row_number\n",
    "from pyspark.sql.window import Window\n",
    "\n",
    "w = Window.partitionBy(\"forecast_time\").orderBy(col(\"forecast_retrieved_at\").desc())\n",
    "\n",
    "df_silver_deduped = (\n",
    "    df_silver.withColumn(\"rn\", row_number().over(w))\n",
    "              .filter(\"rn = 1\")\n",
    "              .drop(\"rn\")\n",
    ")\n"
   ]
  },
  {
   "cell_type": "code",
   "execution_count": 0,
   "metadata": {
    "application/vnd.databricks.v1+cell": {
     "cellMetadata": {
      "byteLimit": 2048000,
      "rowLimit": 10000
     },
     "inputWidgets": {},
     "nuid": "002dae3a-38d2-419b-bcc1-0df4a352379f",
     "showTitle": false,
     "tableResultSettingsMap": {},
     "title": ""
    }
   },
   "outputs": [],
   "source": [
    "\n",
    "# Replace `df_rt` with your actual DataFrame name\n",
    "df_silver_deduped.groupBy(\"forecast_time\") \\\n",
    "  .count() \\\n",
    "  .filter(col(\"count\") > 1) \\\n",
    "  .count()"
   ]
  },
  {
   "cell_type": "code",
   "execution_count": 0,
   "metadata": {
    "application/vnd.databricks.v1+cell": {
     "cellMetadata": {
      "byteLimit": 2048000,
      "rowLimit": 10000
     },
     "inputWidgets": {},
     "nuid": "7e0f237e-29e4-4fc9-8fae-ca5b705bc3d9",
     "showTitle": false,
     "tableResultSettingsMap": {},
     "title": ""
    }
   },
   "outputs": [],
   "source": [
    "\n",
    "# Replace `df_rt` with your actual DataFrame name\n",
    "df_silver_deduped.groupBy(\"forecast_time\") \\\n",
    "  .count() \\\n",
    "  .filter(col(\"count\") == 1) \\\n",
    "  .count()"
   ]
  },
  {
   "cell_type": "code",
   "execution_count": 0,
   "metadata": {
    "application/vnd.databricks.v1+cell": {
     "cellMetadata": {
      "byteLimit": 2048000,
      "rowLimit": 10000
     },
     "inputWidgets": {},
     "nuid": "aca244a2-58ef-4d70-b656-17c35e0914bd",
     "showTitle": false,
     "tableResultSettingsMap": {},
     "title": ""
    }
   },
   "outputs": [],
   "source": [
    "df_silver_deduped.write \\\n",
    "    .format(\"delta\") \\\n",
    "    .mode(\"overwrite\") \\\n",
    "    .partitionBy(\"ingestion_date\") \\\n",
    "    .save(SILVER_PATH)"
   ]
  },
  {
   "cell_type": "markdown",
   "metadata": {
    "application/vnd.databricks.v1+cell": {
     "cellMetadata": {},
     "inputWidgets": {},
     "nuid": "60ef3de6-564f-4a12-adee-c337f38163f8",
     "showTitle": false,
     "tableResultSettingsMap": {},
     "title": ""
    }
   },
   "source": [
    "## 07 - Join Transit Data with Weather (Gold Layer)"
   ]
  },
  {
   "cell_type": "code",
   "execution_count": 0,
   "metadata": {
    "application/vnd.databricks.v1+cell": {
     "cellMetadata": {
      "byteLimit": 2048000,
      "rowLimit": 10000
     },
     "inputWidgets": {},
     "nuid": "0b743205-4714-44ac-8f7c-061d1ee370ce",
     "showTitle": false,
     "tableResultSettingsMap": {},
     "title": ""
    }
   },
   "outputs": [],
   "source": [
    "JOINED_PATH = \"dbfs:/gold/gtfs_rt_weather_joined/\"\n",
    "df_joined= spark.read.format(\"delta\").load(JOINED_PATH)"
   ]
  },
  {
   "cell_type": "code",
   "execution_count": 0,
   "metadata": {
    "application/vnd.databricks.v1+cell": {
     "cellMetadata": {
      "byteLimit": 2048000,
      "rowLimit": 10000
     },
     "inputWidgets": {},
     "nuid": "68227ab0-93be-46b5-94bb-c1a2d259e40f",
     "showTitle": false,
     "tableResultSettingsMap": {},
     "title": ""
    }
   },
   "outputs": [],
   "source": [
    "# Replace `df_rt` with your actual DataFrame name\n",
    "df_joined.groupBy([\"vehicle_id\", \"event_ts\", \"forecast_time\"]) \\\n",
    "  .count() \\\n",
    "  .filter(col(\"count\") > 1) \\\n",
    "  .count()"
   ]
  },
  {
   "cell_type": "code",
   "execution_count": 0,
   "metadata": {
    "application/vnd.databricks.v1+cell": {
     "cellMetadata": {
      "byteLimit": 2048000,
      "rowLimit": 10000
     },
     "inputWidgets": {},
     "nuid": "70828de3-c9e2-44d1-a5ae-6e04dfafe732",
     "showTitle": false,
     "tableResultSettingsMap": {},
     "title": ""
    }
   },
   "outputs": [],
   "source": [
    "# Replace `df_rt` with your actual DataFrame name\n",
    "df_joined.groupBy(\"vehicle_id\", \"event_ts\", \"forecast_time\") \\\n",
    "  .count() \\\n",
    "  .filter(col(\"count\") == 1) \\\n",
    "  .count()"
   ]
  },
  {
   "cell_type": "code",
   "execution_count": 0,
   "metadata": {
    "application/vnd.databricks.v1+cell": {
     "cellMetadata": {
      "byteLimit": 2048000,
      "rowLimit": 10000
     },
     "inputWidgets": {},
     "nuid": "b60bb3a9-8f16-4b8b-835f-97b0c84b42c9",
     "showTitle": false,
     "tableResultSettingsMap": {},
     "title": ""
    }
   },
   "outputs": [],
   "source": [
    "duplicate_keys = df_joined.groupBy(\"vehicle_id\", \"event_ts\", \"forecast_time\") \\\n",
    "                   .count() \\\n",
    "                   .filter(col(\"count\") > 1) \\\n",
    "                   .select(\"vehicle_id\", \"event_ts\", \"forecast_time\")\n",
    "duplicate_rows = df_joined.join(duplicate_keys, on=[\"vehicle_id\", \"event_ts\", \"forecast_time\"], how=\"inner\")\n",
    "\n",
    "duplicate_rows.orderBy(col(\"forecast_time\").desc(), col(\"event_ts\").desc(), col(\"event_ts\").desc()).display()"
   ]
  },
  {
   "cell_type": "code",
   "execution_count": 0,
   "metadata": {
    "application/vnd.databricks.v1+cell": {
     "cellMetadata": {
      "byteLimit": 2048000,
      "rowLimit": 10000
     },
     "inputWidgets": {},
     "nuid": "888cf328-37e2-4de3-b577-68aa4bd06dc5",
     "showTitle": false,
     "tableResultSettingsMap": {},
     "title": ""
    }
   },
   "outputs": [],
   "source": [
    "df_joined_dedupe= df_joined.dropDuplicates([\"vehicle_id\", \"event_ts\", \"forecast_time\"])\n",
    "display(df_joined_dedupe)"
   ]
  },
  {
   "cell_type": "code",
   "execution_count": 0,
   "metadata": {
    "application/vnd.databricks.v1+cell": {
     "cellMetadata": {
      "byteLimit": 2048000,
      "rowLimit": 10000
     },
     "inputWidgets": {},
     "nuid": "a514c33e-905c-48f0-91f7-c1cc603930b9",
     "showTitle": false,
     "tableResultSettingsMap": {},
     "title": ""
    }
   },
   "outputs": [],
   "source": [
    "# Replace `df_rt` with your actual DataFrame name\n",
    "df_joined_dedupe.groupBy(\"vehicle_id\", \"event_ts\", \"forecast_time\") \\\n",
    "  .count() \\\n",
    "  .filter(col(\"count\") > 1) \\\n",
    "  .count()"
   ]
  },
  {
   "cell_type": "code",
   "execution_count": 0,
   "metadata": {
    "application/vnd.databricks.v1+cell": {
     "cellMetadata": {
      "byteLimit": 2048000,
      "rowLimit": 10000
     },
     "inputWidgets": {},
     "nuid": "87731369-335c-4812-9838-10558e5804cc",
     "showTitle": false,
     "tableResultSettingsMap": {},
     "title": ""
    }
   },
   "outputs": [],
   "source": [
    "# Replace `df_rt` with your actual DataFrame name\n",
    "df_joined_dedupe.groupBy(\"vehicle_id\", \"event_ts\", \"forecast_time\") \\\n",
    "  .count() \\\n",
    "  .filter(col(\"count\") == 1) \\\n",
    "  .count()\n"
   ]
  },
  {
   "cell_type": "code",
   "execution_count": 0,
   "metadata": {
    "application/vnd.databricks.v1+cell": {
     "cellMetadata": {
      "byteLimit": 2048000,
      "rowLimit": 10000
     },
     "inputWidgets": {},
     "nuid": "d94119bd-e996-45d5-84f5-7183e7d28fc5",
     "showTitle": false,
     "tableResultSettingsMap": {},
     "title": ""
    }
   },
   "outputs": [],
   "source": [
    "df_joined_dedupe.write \\\n",
    "    .format(\"delta\") \\\n",
    "    .mode(\"overwrite\") \\\n",
    "    .partitionBy(\"ingestion_date\") \\\n",
    "    .save(JOINED_PATH)"
   ]
  },
  {
   "cell_type": "code",
   "execution_count": 0,
   "metadata": {
    "application/vnd.databricks.v1+cell": {
     "cellMetadata": {},
     "inputWidgets": {},
     "nuid": "d047f10e-b09d-4301-840a-1ddd948a2856",
     "showTitle": false,
     "tableResultSettingsMap": {},
     "title": ""
    }
   },
   "outputs": [],
   "source": []
  }
 ],
 "metadata": {
  "application/vnd.databricks.v1+notebook": {
   "computePreferences": null,
   "dashboards": [],
   "environmentMetadata": {
    "base_environment": "",
    "environment_version": "2"
   },
   "inputWidgetPreferences": null,
   "language": "python",
   "notebookMetadata": {
    "pythonIndentUnit": 4
   },
   "notebookName": "96_one_time_dedupe",
   "widgets": {}
  },
  "language_info": {
   "name": "python"
  }
 },
 "nbformat": 4,
 "nbformat_minor": 0
}
