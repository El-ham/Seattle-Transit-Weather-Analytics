{
 "cells": [
  {
   "cell_type": "markdown",
   "metadata": {
    "application/vnd.databricks.v1+cell": {
     "cellMetadata": {},
     "inputWidgets": {},
     "nuid": "9246cbb2-bcb5-43f7-b07e-6a6f6c3f54d6",
     "showTitle": false,
     "tableResultSettingsMap": {},
     "title": ""
    }
   },
   "source": [
    "## 05 - Ingest Hourly Weather Data from NWS API (Bronze Layer)\n",
    "\n",
    "This notebook fetches hourly weather forecasts for Seattle from the National Weather Service (NWS) API and stores the data in a partitioned Bronze Delta Lake table.\n",
    "\n",
    "### Purpose\n",
    "To gather time-stamped weather conditions aligned with transit activity for later analysis and visualization.\n",
    "\n",
    "### Workflow Summary\n",
    "- Calls NOAA’s NWS REST API for hourly Seattle forecasts\n",
    "- Parses and filters JSON response to retain relevant rows\n",
    "- Adds ingestion date and timestamp for data lineage\n",
    "- Writes to `dbfs:/bronze/weather/` partitioned by `ingestion_date`\n"
   ]
  },
  {
   "cell_type": "code",
   "execution_count": 0,
   "metadata": {
    "application/vnd.databricks.v1+cell": {
     "cellMetadata": {
      "byteLimit": 2048000,
      "rowLimit": 10000
     },
     "inputWidgets": {},
     "nuid": "b7e9a453-347b-46bb-aefa-1a38adfae81f",
     "showTitle": false,
     "tableResultSettingsMap": {},
     "title": ""
    }
   },
   "outputs": [],
   "source": [
    "# dbutils.fs.rm(\"dbfs:/bronze/weather/\", recurse=True)"
   ]
  },
  {
   "cell_type": "code",
   "execution_count": 0,
   "metadata": {
    "application/vnd.databricks.v1+cell": {
     "cellMetadata": {
      "byteLimit": 2048000,
      "rowLimit": 10000
     },
     "inputWidgets": {},
     "nuid": "2f275f3e-1e45-4749-8a1a-91a52d60c4f2",
     "showTitle": false,
     "tableResultSettingsMap": {},
     "title": ""
    }
   },
   "outputs": [],
   "source": [
    "import datetime as dt\n",
    "import requests\n",
    "from pyspark.sql import functions as F\n",
    "from pyspark.sql.types import *\n",
    "\n",
    "# Get today's date for partitioning\n",
    "INGESTION_DATE = dt.date.today().isoformat()\n",
    "\n",
    "# Define Delta table path (Bronze layer, no date in path)\n",
    "BRONZE_WEATHER_PATH = \"dbfs:/bronze/weather/\"\n"
   ]
  },
  {
   "cell_type": "code",
   "execution_count": 0,
   "metadata": {
    "application/vnd.databricks.v1+cell": {
     "cellMetadata": {
      "byteLimit": 2048000,
      "rowLimit": 10000
     },
     "inputWidgets": {},
     "nuid": "63565dfe-51e1-427e-bfe2-a08892a20ef2",
     "showTitle": false,
     "tableResultSettingsMap": {},
     "title": ""
    }
   },
   "outputs": [],
   "source": [
    "# NOAA NWS API endpoint for hourly forecast in Seattle area\n",
    "URL = \"https://api.weather.gov/gridpoints/SEW/123,67/forecast/hourly\"\n"
   ]
  },
  {
   "cell_type": "code",
   "execution_count": 0,
   "metadata": {
    "application/vnd.databricks.v1+cell": {
     "cellMetadata": {
      "byteLimit": 2048000,
      "rowLimit": 10000
     },
     "inputWidgets": {},
     "nuid": "6c419b08-5f09-4a6e-b08b-2102bab3d6aa",
     "showTitle": false,
     "tableResultSettingsMap": {},
     "title": ""
    }
   },
   "outputs": [],
   "source": [
    "# Custom User-Agent is required by NOAA API for identification\n",
    "headers = {\n",
    "    \"User-Agent\": \"Elham Weather Data Ingest - elham.afruzi@gmail.com\"\n",
    "}\n"
   ]
  },
  {
   "cell_type": "code",
   "execution_count": 0,
   "metadata": {
    "application/vnd.databricks.v1+cell": {
     "cellMetadata": {
      "byteLimit": 2048000,
      "rowLimit": 10000
     },
     "inputWidgets": {},
     "nuid": "ec616617-2bf8-4520-a988-7182495969bf",
     "showTitle": false,
     "tableResultSettingsMap": {},
     "title": ""
    }
   },
   "outputs": [],
   "source": [
    "# Make API request to fetch the weather data\n",
    "response = requests.get(URL, headers=headers)\n"
   ]
  },
  {
   "cell_type": "code",
   "execution_count": 0,
   "metadata": {
    "application/vnd.databricks.v1+cell": {
     "cellMetadata": {
      "byteLimit": 2048000,
      "rowLimit": 10000
     },
     "inputWidgets": {},
     "nuid": "35d6683c-7d0e-4ff1-8f7d-2759e6b3efe8",
     "showTitle": false,
     "tableResultSettingsMap": {},
     "title": ""
    }
   },
   "outputs": [],
   "source": [
    "# Print status and a preview of the response for debugging\n",
    "print(\"Status Code:\", response.status_code)\n",
    "print(\"Response Headers:\", response.headers)\n",
    "print(\"Raw Response:\", response.text[:500])  # Show only first 500 characters\n"
   ]
  },
  {
   "cell_type": "code",
   "execution_count": 0,
   "metadata": {
    "application/vnd.databricks.v1+cell": {
     "cellMetadata": {
      "byteLimit": 2048000,
      "rowLimit": 10000
     },
     "inputWidgets": {},
     "nuid": "45750c37-fd53-420f-b3e2-1772f50ddcf6",
     "showTitle": false,
     "tableResultSettingsMap": {},
     "title": ""
    }
   },
   "outputs": [],
   "source": [
    "# Parse the JSON response\n",
    "data = response.json()"
   ]
  },
  {
   "cell_type": "code",
   "execution_count": 0,
   "metadata": {
    "application/vnd.databricks.v1+cell": {
     "cellMetadata": {
      "byteLimit": 2048000,
      "rowLimit": 10000
     },
     "inputWidgets": {},
     "nuid": "673b7e15-dc6d-4029-a4ec-4fd9e7ce81b0",
     "showTitle": false,
     "tableResultSettingsMap": {},
     "title": ""
    }
   },
   "outputs": [],
   "source": [
    "# Extract 'periods' (hourly forecast entries) from JSON\n",
    "props = data.get(\"properties\", {})\n",
    "periods = props.get(\"periods\", [])\n",
    "\n",
    "print(f\"Updated at: {props.get('updated', 'N/A')}\")\n",
    "print(f\"Hours returned: {len(periods)}\")\n"
   ]
  },
  {
   "cell_type": "code",
   "execution_count": 0,
   "metadata": {
    "application/vnd.databricks.v1+cell": {
     "cellMetadata": {
      "byteLimit": 2048000,
      "rowLimit": 10000
     },
     "inputWidgets": {},
     "nuid": "6044317c-5585-46e7-94a1-db7fde7b8534",
     "showTitle": false,
     "tableResultSettingsMap": {},
     "title": ""
    }
   },
   "outputs": [],
   "source": [
    "# Step 1: Convert JSON periods into a DataFrame\n",
    "df_weather = spark.createDataFrame(periods)\n",
    "\n",
    "# Step 2: Filter out incomplete records (missing time or temperature)\n",
    "df_weather = df_weather.filter(\n",
    "    F.col(\"startTime\").isNotNull() & F.col(\"temperature\").isNotNull()\n",
    ")\n",
    "\n",
    "# Step 3: Add ingestion and forecast timestamps\n",
    "df_weather = (\n",
    "    df_weather\n",
    "    .withColumn(\"forecast_retrieved_at\", F.current_timestamp())\n",
    "    .withColumn(\"forecast_time\", F.to_timestamp(\"startTime\"))\n",
    "    .withColumn(\"ingestion_date\", F.lit(INGESTION_DATE))\n",
    ")\n",
    "# Step 4: Display a few rows for verification\n",
    "df_weather.select(\"forecast_time\", \"temperature\", \"shortForecast\", \"ingestion_date\").show(5, truncate=False)\n"
   ]
  },
  {
   "cell_type": "code",
   "execution_count": 0,
   "metadata": {
    "application/vnd.databricks.v1+cell": {
     "cellMetadata": {
      "byteLimit": 2048000,
      "rowLimit": 10000
     },
     "inputWidgets": {},
     "nuid": "74b90687-3064-41ba-9052-3095f01ea354",
     "showTitle": false,
     "tableResultSettingsMap": {},
     "title": ""
    }
   },
   "outputs": [],
   "source": [
    "# Write to Delta table (Bronze layer), partitioned by ingestion date\n",
    "df_weather.write \\\n",
    "    .format(\"delta\") \\\n",
    "    .mode(\"append\") \\\n",
    "    .partitionBy(\"ingestion_date\") \\\n",
    "    .save(BRONZE_WEATHER_PATH)\n",
    "\n",
    "print(\"✓ Hourly forecast saved to Bronze (partitioned)\")\n"
   ]
  },
  {
   "cell_type": "code",
   "execution_count": 0,
   "metadata": {
    "application/vnd.databricks.v1+cell": {
     "cellMetadata": {},
     "inputWidgets": {},
     "nuid": "95f684c6-1cc5-4c67-96a0-be888b65fb9d",
     "showTitle": false,
     "tableResultSettingsMap": {},
     "title": ""
    }
   },
   "outputs": [],
   "source": []
  }
 ],
 "metadata": {
  "application/vnd.databricks.v1+notebook": {
   "computePreferences": null,
   "dashboards": [],
   "environmentMetadata": {
    "base_environment": "",
    "environment_version": "2"
   },
   "inputWidgetPreferences": null,
   "language": "python",
   "notebookMetadata": {
    "pythonIndentUnit": 4
   },
   "notebookName": "05_ingest_nws_weather",
   "widgets": {}
  },
  "language_info": {
   "name": "python"
  }
 },
 "nbformat": 4,
 "nbformat_minor": 0
}
