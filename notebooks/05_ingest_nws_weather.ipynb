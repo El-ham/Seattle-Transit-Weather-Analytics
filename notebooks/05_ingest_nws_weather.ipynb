{
 "cells": [
  {
   "cell_type": "code",
   "execution_count": 0,
   "metadata": {
    "application/vnd.databricks.v1+cell": {
     "cellMetadata": {
      "byteLimit": 2048000,
      "rowLimit": 10000
     },
     "inputWidgets": {},
     "nuid": "2f275f3e-1e45-4749-8a1a-91a52d60c4f2",
     "showTitle": false,
     "tableResultSettingsMap": {},
     "title": ""
    }
   },
   "outputs": [],
   "source": [
    "import datetime as dt\n",
    "import requests\n",
    "from pyspark.sql import functions as F\n",
    "from pyspark.sql.types import *\n",
    "\n",
    "TODAY = \"2025-05-21\"\n",
    "BRONZE_WEATHER_PATH = f\"dbfs:/bronze/weather/{TODAY}\"\n"
   ]
  },
  {
   "cell_type": "code",
   "execution_count": 0,
   "metadata": {
    "application/vnd.databricks.v1+cell": {
     "cellMetadata": {
      "byteLimit": 2048000,
      "rowLimit": 10000
     },
     "inputWidgets": {},
     "nuid": "63565dfe-51e1-427e-bfe2-a08892a20ef2",
     "showTitle": false,
     "tableResultSettingsMap": {},
     "title": ""
    }
   },
   "outputs": [],
   "source": [
    "URL = \"https://api.weather.gov/gridpoints/SEW/123,67/forecast/hourly\"\n"
   ]
  },
  {
   "cell_type": "code",
   "execution_count": 0,
   "metadata": {
    "application/vnd.databricks.v1+cell": {
     "cellMetadata": {
      "byteLimit": 2048000,
      "rowLimit": 10000
     },
     "inputWidgets": {},
     "nuid": "35d6683c-7d0e-4ff1-8f7d-2759e6b3efe8",
     "showTitle": false,
     "tableResultSettingsMap": {},
     "title": ""
    }
   },
   "outputs": [],
   "source": [
    "print(\"Status Code:\", response.status_code)\n",
    "print(\"Response Headers:\", response.headers)\n",
    "print(\"Raw Response:\", response.text[:500])  # Show only first 500 characters\n"
   ]
  },
  {
   "cell_type": "code",
   "execution_count": 0,
   "metadata": {
    "application/vnd.databricks.v1+cell": {
     "cellMetadata": {
      "byteLimit": 2048000,
      "rowLimit": 10000
     },
     "inputWidgets": {},
     "nuid": "673b7e15-dc6d-4029-a4ec-4fd9e7ce81b0",
     "showTitle": false,
     "tableResultSettingsMap": {},
     "title": ""
    }
   },
   "outputs": [],
   "source": [
    "props = data.get(\"properties\", {})\n",
    "periods = props.get(\"periods\", [])\n",
    "\n",
    "print(f\"Updated at: {props.get('updated', 'N/A')}\")\n",
    "print(f\"Hours returned: {len(periods)}\")\n"
   ]
  },
  {
   "cell_type": "code",
   "execution_count": 0,
   "metadata": {
    "application/vnd.databricks.v1+cell": {
     "cellMetadata": {
      "byteLimit": 2048000,
      "rowLimit": 10000
     },
     "inputWidgets": {},
     "nuid": "6044317c-5585-46e7-94a1-db7fde7b8534",
     "showTitle": false,
     "tableResultSettingsMap": {},
     "title": ""
    }
   },
   "outputs": [],
   "source": [
    "df_weather = spark.createDataFrame(periods)\n",
    "\n",
    "df_weather = (\n",
    "    df_weather\n",
    "    .withColumn(\"forecast_retrieved_at\", F.current_timestamp())\n",
    "    .withColumn(\"forecast_time\", F.to_timestamp(\"startTime\"))\n",
    ")\n",
    "\n",
    "df_weather.select(\"name\", \"forecast_time\", \"temperature\", \"shortForecast\").show(5, truncate=False)\n"
   ]
  },
  {
   "cell_type": "code",
   "execution_count": 0,
   "metadata": {
    "application/vnd.databricks.v1+cell": {
     "cellMetadata": {
      "byteLimit": 2048000,
      "rowLimit": 10000
     },
     "inputWidgets": {},
     "nuid": "74b90687-3064-41ba-9052-3095f01ea354",
     "showTitle": false,
     "tableResultSettingsMap": {},
     "title": ""
    }
   },
   "outputs": [],
   "source": [
    "df_weather.write.format(\"delta\").mode(\"overwrite\").save(BRONZE_WEATHER_PATH)\n",
    "print(\"✓ Hourly forecast saved to Bronze\")\n"
   ]
  },
  {
   "cell_type": "code",
   "execution_count": 0,
   "metadata": {
    "application/vnd.databricks.v1+cell": {
     "cellMetadata": {},
     "inputWidgets": {},
     "nuid": "95f684c6-1cc5-4c67-96a0-be888b65fb9d",
     "showTitle": false,
     "tableResultSettingsMap": {},
     "title": ""
    }
   },
   "outputs": [],
   "source": []
  }
 ],
 "metadata": {
  "application/vnd.databricks.v1+notebook": {
   "computePreferences": null,
   "dashboards": [],
   "environmentMetadata": {
    "base_environment": "",
    "environment_version": "2"
   },
   "inputWidgetPreferences": null,
   "language": "python",
   "notebookMetadata": {
    "pythonIndentUnit": 4
   },
   "notebookName": "05_ingest_nws_weather",
   "widgets": {}
  },
  "language_info": {
   "name": "python"
  }
 },
 "nbformat": 4,
 "nbformat_minor": 0
}
