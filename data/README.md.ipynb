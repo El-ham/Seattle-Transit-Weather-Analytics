{
 "cells": [
  {
   "cell_type": "markdown",
   "metadata": {
    "application/vnd.databricks.v1+cell": {
     "cellMetadata": {},
     "inputWidgets": {},
     "nuid": "9f5aa979-e21c-4747-a6ea-86f7a0638bc0",
     "showTitle": false,
     "tableResultSettingsMap": {},
     "title": ""
    }
   },
   "source": [
    "## Sample Data\n",
    "\n",
    "This folder includes a small (10-row) sample from each key dataset across all layers of the pipeline to demonstrate schema design, transformations, and enrichment over time:\n",
    "\n",
    "#### **Bronze Layer (Raw Ingested)**\n",
    "- `Bronze_GTFS_Static_sample.csv`: Raw GTFS static data (routes, trips).\n",
    "- `Bronze_GTFS_RT_sample.csv`: Real-time vehicle positions from GTFS-RT.\n",
    "- `Bronze_Weather_sample.csv`: Hourly weather snapshots from the NWS API.\n",
    "\n",
    "#### **Silver Layer (Cleaned & Structured)**\n",
    "- `Silver_GTFS_Static_sample.csv`: Cleaned GTFS static data with lat/lon structuring and ingestion timestamps.\n",
    "- `Silver_GTFS_RT_sample.csv`: Validated and enriched GTFS real-time events with timestamps and event dates.\n",
    "- `Silver_Weather_sample.csv`: Cleaned weather forecasts with filtered values and proper datatypes.\n",
    "\n",
    "#### **Gold Layer (Joined & Enriched)**\n",
    "- `Gold_GTFS_RT_Enriched_sample.csv`: Real-time GTFS joined with static route/trip metadata.\n",
    "- `Gold_GTFS_RT_Weather_Joined_sample.csv`: GTFS real-time matched with the nearest weather forecast.\n",
    "\n",
    "#### **Platinum Layer (BI-ready Star Schema)**\n",
    "- `Platinum_Dim_Route_sample.csv`: Slowly Changing Dimension (SCD2) for transit routes.\n",
    "- `Platinum_Dim_Trip_sample.csv`: SCD2 dimension for trip-level attributes.\n",
    "- `Platinum_Fact_Transit_Event_sample.csv`: Fact table joining real-time GTFS and weather, with surrogate keys.\n",
    "\n",
    "These files help illustrate the evolution of data through each pipeline stage and support explainability of transformations without sharing full datasets.\n"
   ]
  }
 ],
 "metadata": {
  "application/vnd.databricks.v1+notebook": {
   "computePreferences": null,
   "dashboards": [],
   "environmentMetadata": {
    "base_environment": "",
    "environment_version": "2"
   },
   "inputWidgetPreferences": null,
   "language": "python",
   "notebookMetadata": {
    "pythonIndentUnit": 4
   },
   "notebookName": "README.md",
   "widgets": {}
  },
  "language_info": {
   "name": "python"
  }
 },
 "nbformat": 4,
 "nbformat_minor": 0
}
