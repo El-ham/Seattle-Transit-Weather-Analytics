{
 "cells": [
  {
   "cell_type": "markdown",
   "metadata": {
    "application/vnd.databricks.v1+cell": {
     "cellMetadata": {},
     "inputWidgets": {},
     "nuid": "b7936e87-91ee-4fa6-9fe4-fb7aa735cfff",
     "showTitle": false,
     "tableResultSettingsMap": {},
     "title": ""
    }
   },
   "source": [
    "## Sample Data\n",
    "\n",
    "This folder includes a small sample of each dataset used in this project:\n",
    "\n",
    "- `Static_GTFS_sample_data.csv`: Example of stop-level metadata from GTFS static data.\n",
    "- `Real_Time_GTFS_sample_data.csv`: Real-time transit vehicle updates (GTFS-RT).\n",
    "- `Weather_sample_data.csv`: Hourly weather forecasts from NWS API.\n",
    "\n",
    "These samples help illustrate the structure of our source data without uploading full datasets.\n"
   ]
  },
  {
   "cell_type": "code",
   "execution_count": 0,
   "metadata": {
    "application/vnd.databricks.v1+cell": {
     "cellMetadata": {},
     "inputWidgets": {},
     "nuid": "9f5aa979-e21c-4747-a6ea-86f7a0638bc0",
     "showTitle": false,
     "tableResultSettingsMap": {},
     "title": ""
    }
   },
   "outputs": [],
   "source": []
  }
 ],
 "metadata": {
  "application/vnd.databricks.v1+notebook": {
   "computePreferences": null,
   "dashboards": [],
   "environmentMetadata": {
    "base_environment": "",
    "environment_version": "2"
   },
   "inputWidgetPreferences": null,
   "language": "python",
   "notebookMetadata": {
    "pythonIndentUnit": 4
   },
   "notebookName": "README.md",
   "widgets": {}
  },
  "language_info": {
   "name": "python"
  }
 },
 "nbformat": 4,
 "nbformat_minor": 0
}
